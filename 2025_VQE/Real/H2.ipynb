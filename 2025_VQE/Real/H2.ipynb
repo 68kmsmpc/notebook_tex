{
 "cells": [
  {
   "cell_type": "code",
   "execution_count": 53,
   "id": "7858d35f",
   "metadata": {},
   "outputs": [],
   "source": [
    "import numpy as np\n",
    "import matplotlib.pyplot as plt\n",
    "from scipy.optimize import minimize\n",
    "from pyscf import gto, scf, fci\n",
    "import numpy as np\n",
    "import matplotlib.pyplot as plt\n",
    "\n",
    "from qiskit_ibm_runtime import QiskitRuntimeService, Session\n",
    "from qiskit.providers.fake_provider import GenericBackendV2\n",
    "from qiskit_ibm_runtime import EstimatorV2 as Estimator\n",
    "from qiskit_aer import AerSimulator, AerProvider\n",
    "\n",
    "from qiskit_nature.second_q.formats.molecule_info import MoleculeInfo\n",
    "from qiskit_nature.second_q.drivers import PySCFDriver\n",
    "from qiskit_nature.second_q.mappers import ParityMapper, JordanWignerMapper, BravyiKitaevMapper\n",
    "from qiskit_nature.second_q.circuit.library import UCCSD, HartreeFock\n",
    "from qiskit.transpiler.preset_passmanagers import generate_preset_pass_manager\n",
    "from qiskit.circuit.library import TwoLocal\n",
    "from qiskit import transpile\n",
    "from qiskit_ibm_runtime import Options\n",
    "\n",
    "from qiskit import QuantumCircuit, transpile\n",
    "from qiskit.visualization.timeline import draw\n",
    "from qiskit.providers.fake_provider import GenericBackendV2\n",
    " \n"
   ]
  },
  {
   "cell_type": "code",
   "execution_count": 54,
   "id": "647f4bdd",
   "metadata": {},
   "outputs": [],
   "source": [
    "from qiskit_ibm_runtime import QiskitRuntimeService\n",
    "service = QiskitRuntimeService.save_account(\n",
    "    token='OOEf6smekUlKyUFrSF6OSxwLT90zrz1M0lJZWdVgkXO0', # Your token is confidential.\n",
    "    # Do not share your key in public code.\n",
    "    instance=\"crn:v1:bluemix:public:quantum-computing:eu-de:a/624a449c58db4cebbbcd6d44cd96889e:461be4b9-9545-4510-8f57-8a13fe1ec647::\",\n",
    "    name=\".\", # Optionally name this set of account credentials.\n",
    "    set_as_default=True, # Optionally set these as your default credentials.\n",
    "    overwrite=True\n",
    "  )"
   ]
  },
  {
   "cell_type": "code",
   "execution_count": 55,
   "id": "3efa45b8",
   "metadata": {},
   "outputs": [],
   "source": [
    "service = QiskitRuntimeService()\n",
    "backend = service.least_busy(operational=True, simulator=False)\n",
    "#backend = AerSimulator(method = \"statevector\",noise_model=None)"
   ]
  },
  {
   "cell_type": "code",
   "execution_count": 56,
   "id": "163b76bd",
   "metadata": {},
   "outputs": [],
   "source": [
    "def fermion_to_qubit(problem, second_q_op, mapper_name,  z2symmetry_reduction=None):\n",
    "  if mapper_name == \"JW\":\n",
    "    mapper = JordanWignerMapper()\n",
    "  if mapper_name == \"Pa\":\n",
    "    mapper = ParityMapper(num_particles=problem.num_particles)\n",
    "  if mapper_name == \"BK\":\n",
    "    mapper = BravyiKitaevMapper()\n",
    "\n",
    "  qubit_op = mapper.map(second_q_op)\n",
    "\n",
    "  if z2symmetry_reduction != None:\n",
    "    mapper = problem.get_tapered_mapper(mapper)\n",
    "    qubit_op = mapper.map(second_q_op)\n",
    "  else :\n",
    "    qubit_op = mapper.map(second_q_op)\n",
    "\n",
    "  return qubit_op , mapper\n",
    "\n",
    "def FCI(dist):\n",
    "    # 1. 분자 정의\n",
    "    mol = gto.M(\n",
    "        atom = 'H 0 0 0; H 0 0 {}'.format(dist),  # 수소 원자 2개, 거리 0.74 Å\n",
    "        basis = 'sto-3g',              # 간단한 기저함수\n",
    "        unit = 'Angstrom',\n",
    "        spin = 0,                      # 전자 수 = 2, 총 spin = 0 (singlet)\n",
    "        charge = 0\n",
    "    )\n",
    "\n",
    "    # 2. Hartree-Fock 계산\n",
    "    mf = scf.RHF(mol)\n",
    "    hf_energy = mf.kernel()\n",
    "\n",
    "    # 3. FCI 계산 (Full CI)\n",
    "    cisolver = fci.FCI(mol, mf.mo_coeff)\n",
    "    fci_energy, fci_vector = cisolver.kernel()\n",
    "\n",
    "    return fci_energy"
   ]
  },
  {
   "cell_type": "code",
   "execution_count": 57,
   "id": "26bb2a85",
   "metadata": {},
   "outputs": [],
   "source": [
    "def estimate_runtime(\n",
    "    circ,\n",
    "    backend,\n",
    "    shots=1024,\n",
    "    rep_delay=None,              # None이면 백엔드 기본값(없으면 250µs로 가정)\n",
    "    scheduling_method=\"alap\",    # \"asap\"도 가능\n",
    "    optimization_level=3,\n",
    "):\n",
    "    \"\"\"\n",
    "    Returns: dict with\n",
    "      - circuit_seconds: 회로 1샷 실행 길이(초)\n",
    "      - rep_delay: 사용된 rep_delay(초)\n",
    "      - shots: 샷 수\n",
    "      - rough_total_seconds: 대략 총 실행시간(초) ≈ shots × (회로길이 + rep_delay)\n",
    "      - transpiled: 스케줄된 트랜스파일 결과(참고용)\n",
    "    \"\"\"\n",
    "    # 0) dt 확보\n",
    "    dt = getattr(backend, \"dt\", None)\n",
    "    if dt is None:\n",
    "        try:\n",
    "            dt = backend.configuration().dt\n",
    "        except Exception:\n",
    "            dt = None\n",
    "\n",
    "    # 1) virtual RZ duration=0 보정 (백엔드 InstructionDurations에 추가)\n",
    "    durations = getattr(backend, \"instruction_durations\", None)\n",
    "    try:\n",
    "        n_qubits = backend.configuration().num_qubits\n",
    "    except Exception:\n",
    "        n_qubits = None\n",
    "\n",
    "    if durations is not None and n_qubits is not None:\n",
    "        # rz duration이 없어서 나는 오류를 회피: 전 큐빗에 대해 0으로 업데이트\n",
    "        updates = [(\"rz\", [q], 0) for q in range(n_qubits)]\n",
    "        try:\n",
    "            durations.update(updates)\n",
    "        except Exception:\n",
    "            pass  # 일부 버전에선 read-only일 수 있음 → 그냥 진행\n",
    "\n",
    "    # 2) 스케줄 포함 트랜스파일\n",
    "    tcirc = transpile(\n",
    "        circ,\n",
    "        backend=backend,\n",
    "        scheduling_method=scheduling_method,\n",
    "        optimization_level=optimization_level,\n",
    "        instruction_durations=durations,  # 위에서 만든 durations 넘겨줌(가능한 경우)\n",
    "    )\n",
    "\n",
    "    # 3) 회로 길이(초) 계산\n",
    "    #    - 우선 순위: (A) Circuit.duration(스케줄 후 dt-cycles) → (B) estimate_duration(target)\n",
    "    circuit_seconds = None\n",
    "    if hasattr(tcirc, \"duration\") and tcirc.duration is not None and dt:\n",
    "        # QuantumCircuit.duration 은 dt step 수. 초로 변환\n",
    "        circuit_seconds = tcirc.duration * dt\n",
    "    else:\n",
    "        # Terra 0.25+ 에서는 estimate_duration 사용 가능\n",
    "        try:\n",
    "            cycles = tcirc.estimate_duration(backend.target)  # dt step 수\n",
    "            if dt:\n",
    "                circuit_seconds = cycles * dt\n",
    "        except Exception:\n",
    "            circuit_seconds = None\n",
    "\n",
    "    # 4) rep_delay 결정\n",
    "    if rep_delay is None:\n",
    "        rep_delay = getattr(getattr(backend, \"configuration\", lambda: None)(), \"default_rep_delay\", None)\n",
    "    if rep_delay is None:\n",
    "        # 못 찾으면 보수적 기본값(250µs)\n",
    "        rep_delay = 2.5e-4\n",
    "\n",
    "    # 5) 총 시간(러프) 계산\n",
    "    rough_total = None\n",
    "    if circuit_seconds is not None:\n",
    "        rough_total = shots * (circuit_seconds + rep_delay)\n",
    "\n",
    "    return {\n",
    "        \"circuit_seconds\": circuit_seconds,\n",
    "        \"rep_delay\": rep_delay,\n",
    "        \"shots\": shots,\n",
    "        \"rough_total_seconds\": rough_total,\n",
    "        \"transpiled\": tcirc,\n",
    "    }"
   ]
  },
  {
   "cell_type": "code",
   "execution_count": 58,
   "id": "d6a678c3",
   "metadata": {},
   "outputs": [
    {
     "name": "stdout",
     "output_type": "stream",
     "text": [
      "Fermionic Operator\n",
      "number spin orbitals=4, number terms=36\n",
      "  -1.2563390730032495 * ( +_0 -_0 )\n",
      "+ -0.4718960072811421 * ( +_1 -_1 )\n",
      "+ -1.2563390730032495 * ( +_2 -_2 )\n",
      "+ -0.4718960072811421 * ( +_3 -_3 )\n",
      "+ 0.33785507740175813 * ( +_0 +_0 -_0 -_0 )\n",
      "+ 0.3322908651276482 * ( +_0 +_1 -_1 -_0 )\n",
      "+ 0.33785507740175813 * ( +_0 +_2 -_2 -_0 )\n",
      "+ 0.3322908651276482 * ( +_0 +_3 -_3 -_0 )\n",
      "+ 0.0904655998921157 * ( +_0 +_0 -_1 -_1 )\n",
      "+ 0.0904655998921157 * ( +_0 +_1 -_0 -_1 )\n",
      "+ 0.0904655998921157 * ( +_0 +_2 -_3 -_1 )\n",
      "+ 0.0904655998921157 * ( +_0 +_3 -_2 -_1 )\n",
      "+ 0.0904655998921157 * ( +_1 +_0 -_1 -_0 )\n",
      "+ 0.0904655998921157 * ( +_1 +_1 -_0 -_0 )\n",
      "+ 0.0904655998921157 * ( +_1 +_2 -_3 -_0 )\n",
      "+ 0.0904655998921157 * ( +_1 +_3 -_2 -_0 )\n",
      "+ 0.3322908651276482 * ( +_1 +_0 -_0 -_1 )\n",
      "+ 0.34928686136600906 * ( +_1 +_1 -_1 -_1 )\n",
      "+ 0.3322908651276482 * ( +_1 +_2 -_2 -_1 )\n",
      "+ 0.34928686136600906 * ( +_1 +_3 -_3 -_1 )\n",
      "+ 0.33785507740175813 * ( +_2 +_0 -_0 -_2 )\n",
      "+ 0.3322908651276482 * ( +_2 +_1 -_1 -_2 )\n",
      "+ 0.33785507740175813 * ( +_2 +_2 -_2 -_2 )\n",
      "+ 0.3322908651276482 * ( +_2 +_3 -_3 -_2 )\n",
      "+ 0.0904655998921157 * ( +_2 +_0 -_1 -_3 )\n",
      "+ 0.0904655998921157 * ( +_2 +_1 -_0 -_3 )\n",
      "+ 0.0904655998921157 * ( +_2 +_2 -_3 -_3 )\n",
      "+ 0.0904655998921157 * ( +_2 +_3 -_2 -_3 )\n",
      "+ 0.0904655998921157 * ( +_3 +_0 -_1 -_2 )\n",
      "+ 0.0904655998921157 * ( +_3 +_1 -_0 -_2 )\n",
      "+ 0.0904655998921157 * ( +_3 +_2 -_3 -_2 )\n",
      "+ 0.0904655998921157 * ( +_3 +_3 -_2 -_2 )\n",
      "+ 0.3322908651276482 * ( +_3 +_0 -_0 -_3 )\n",
      "+ 0.34928686136600906 * ( +_3 +_1 -_1 -_3 )\n",
      "+ 0.3322908651276482 * ( +_3 +_2 -_2 -_3 )\n",
      "+ 0.34928686136600906 * ( +_3 +_3 -_3 -_3 )\n",
      "SparsePauliOp(['IIII', 'IIIZ', 'IIZI', 'IZII', 'ZIII', 'IIZZ', 'IZIZ', 'ZIIZ', 'YYYY', 'XXYY', 'YYXX', 'XXXX', 'IZZI', 'ZIZI', 'ZZII'],\n",
      "              coeffs=[-0.81054798+0.j,  0.17218393+0.j, -0.22575349+0.j,  0.17218393+0.j,\n",
      " -0.22575349+0.j,  0.12091263+0.j,  0.16892754+0.j,  0.16614543+0.j,\n",
      "  0.0452328 +0.j,  0.0452328 +0.j,  0.0452328 +0.j,  0.0452328 +0.j,\n",
      "  0.16614543+0.j,  0.17464343+0.j,  0.12091263+0.j])\n"
     ]
    }
   ],
   "source": [
    "atoms = [\"H\", \"H\"]\n",
    "basis = 'sto3g'\n",
    "dist = 0.735\n",
    "coords = [(0,0,0), (dist,0,0)]\n",
    "charge = 0\n",
    "multiplicity = 1\n",
    "Co_O_moleculeinfo = MoleculeInfo(atoms, coords, charge=charge, multiplicity=multiplicity)\n",
    "driver = PySCFDriver.from_molecule(Co_O_moleculeinfo, basis=basis)\n",
    "E_problem = driver.run() # 여기는 이후, As_transformer 로 변경. \n",
    "fermionic_hamiltonian = E_problem.hamiltonian\n",
    "second_q_op = fermionic_hamiltonian.second_q_op()\n",
    "print(second_q_op)\n",
    "repulsion = fermionic_hamiltonian.constants['nuclear_repulsion_energy']\n",
    "hamiltonian, mapper = fermion_to_qubit(E_problem, second_q_op, \"JW\", z2symmetry_reduction=None)\n",
    "print(hamiltonian)\n",
    "num_particles = E_problem.num_particles\n",
    "num_spatial_orbitals = E_problem.num_spatial_orbitals \n",
    "init_state = HartreeFock(num_spatial_orbitals,num_particles,mapper)\n",
    "ansatz = UCCSD(num_spatial_orbitals,num_particles,mapper,initial_state=init_state)\n",
    "#ansatz = TwoLocal(num_spatial_orbitals*2, ['ry', 'rz'], 'cz', initial_state=init_state)\n",
    "target = backend.target\n",
    "pm = generate_preset_pass_manager(target=target, optimization_level=3)\n",
    "ansatz_isa = pm.run(ansatz)\n",
    "hamiltonian_isa = hamiltonian.apply_layout(layout=ansatz_isa.layout) # 그니까 컴파일 된거."
   ]
  },
  {
   "cell_type": "code",
   "execution_count": 61,
   "id": "3695d5f7",
   "metadata": {},
   "outputs": [
    {
     "name": "stdout",
     "output_type": "stream",
     "text": [
      "회로 길이(1샷): 3.414000e-05 s\n",
      "대략 총 실행시간(shots 포함): 0.028414 s\n"
     ]
    },
    {
     "name": "stderr",
     "output_type": "stream",
     "text": [
      "/var/folders/mq/vvzpq4_16092g__xg10fscp80000gn/T/ipykernel_26862/4030347797.py:41: DeprecationWarning: ``qiskit.compiler.transpiler.transpile()``'s argument ``instruction_durations`` is deprecated as of Qiskit 1.3. It will be removed in Qiskit 2.0. The `target` parameter should be used instead. You can build a `Target` instance with defined instruction durations with `Target.from_configuration(..., instruction_durations=...)`\n",
      "  tcirc = transpile(\n",
      "/var/folders/mq/vvzpq4_16092g__xg10fscp80000gn/T/ipykernel_26862/4030347797.py:52: DeprecationWarning: The property ``qiskit.circuit.quantumcircuit.QuantumCircuit.duration`` is deprecated as of qiskit 1.3.0. It will be removed in Qiskit 2.0.0.\n",
      "  if hasattr(tcirc, \"duration\") and tcirc.duration is not None and dt:\n",
      "/var/folders/mq/vvzpq4_16092g__xg10fscp80000gn/T/ipykernel_26862/4030347797.py:54: DeprecationWarning: The property ``qiskit.circuit.quantumcircuit.QuantumCircuit.duration`` is deprecated as of qiskit 1.3.0. It will be removed in Qiskit 2.0.0.\n",
      "  circuit_seconds = tcirc.duration * dt\n"
     ]
    }
   ],
   "source": [
    "# ── 사용 예시 ──\n",
    "from qiskit_ibm_runtime import QiskitRuntimeService, Sampler\n",
    "\n",
    "info = estimate_runtime(ansatz_isa, backend, shots=100, rep_delay=2.5e-4)\n",
    "print(f\"회로 길이(1샷): {info['circuit_seconds']:.6e} s\")\n",
    "print(f\"대략 총 실행시간(shots 포함): {info['rough_total_seconds']:.6f} s\")"
   ]
  },
  {
   "cell_type": "code",
   "execution_count": 60,
   "id": "17f3178a",
   "metadata": {},
   "outputs": [
    {
     "data": {
      "text/plain": [
       "OrderedDict([('rz', 246), ('sx', 161), ('ecr', 49), ('x', 6)])"
      ]
     },
     "execution_count": 60,
     "metadata": {},
     "output_type": "execute_result"
    }
   ],
   "source": [
    "ansatz_isa.count_ops()"
   ]
  },
  {
   "cell_type": "code",
   "execution_count": 19,
   "id": "17d29c8e",
   "metadata": {},
   "outputs": [
    {
     "ename": "AttributeError",
     "evalue": "'dict' object has no attribute 'duration'",
     "output_type": "error",
     "traceback": [
      "\u001b[31m---------------------------------------------------------------------------\u001b[39m",
      "\u001b[31mAttributeError\u001b[39m                            Traceback (most recent call last)",
      "\u001b[36mCell\u001b[39m\u001b[36m \u001b[39m\u001b[32mIn[19]\u001b[39m\u001b[32m, line 3\u001b[39m\n\u001b[32m      1\u001b[39m inst_props = backend.target[\u001b[33m\"\u001b[39m\u001b[33msx\u001b[39m\u001b[33m\"\u001b[39m]  \u001b[38;5;66;03m# (0,1) 큐빗의 CX 게이트 속성\u001b[39;00m\n\u001b[32m----> \u001b[39m\u001b[32m3\u001b[39m duration_cycles = \u001b[43minst_props\u001b[49m\u001b[43m.\u001b[49m\u001b[43mduration\u001b[49m  \u001b[38;5;66;03m# 사이클 수 (int 또는 float)\u001b[39;00m\n\u001b[32m      4\u001b[39m \u001b[38;5;28;01mif\u001b[39;00m duration_cycles \u001b[38;5;129;01mis\u001b[39;00m \u001b[38;5;129;01mnot\u001b[39;00m \u001b[38;5;28;01mNone\u001b[39;00m \u001b[38;5;129;01mand\u001b[39;00m dt \u001b[38;5;129;01mis\u001b[39;00m \u001b[38;5;129;01mnot\u001b[39;00m \u001b[38;5;28;01mNone\u001b[39;00m:\n\u001b[32m      5\u001b[39m     gate_time_sec = duration_cycles * dt\n",
      "\u001b[31mAttributeError\u001b[39m: 'dict' object has no attribute 'duration'"
     ]
    }
   ],
   "source": [
    "inst_props = backend.target[\"sx\"]  # (0,1) 큐빗의 CX 게이트 속성\n",
    "\n",
    "duration_cycles = inst_props.duration  # 사이클 수 (int 또는 float)\n",
    "if duration_cycles is not None and dt is not None:\n",
    "    gate_time_sec = duration_cycles * dt\n",
    "    print(f\"CX(0,1) duration: {gate_time_sec*1e9:.1f} ns\")\n",
    "else:\n",
    "    print(\"Duration 정보가 없습니다.\")"
   ]
  },
  {
   "cell_type": "code",
   "execution_count": 21,
   "id": "27b148ad",
   "metadata": {},
   "outputs": [
    {
     "name": "stdout",
     "output_type": "stream",
     "text": [
      "5e-10\n"
     ]
    }
   ],
   "source": [
    "print(dt)"
   ]
  },
  {
   "cell_type": "code",
   "execution_count": 35,
   "id": "cfe435af",
   "metadata": {},
   "outputs": [
    {
     "data": {
      "text/plain": [
       "[(0,),\n",
       " (1,),\n",
       " (2,),\n",
       " (3,),\n",
       " (4,),\n",
       " (5,),\n",
       " (6,),\n",
       " (7,),\n",
       " (8,),\n",
       " (9,),\n",
       " (10,),\n",
       " (11,),\n",
       " (12,),\n",
       " (13,),\n",
       " (14,),\n",
       " (15,),\n",
       " (16,),\n",
       " (17,),\n",
       " (18,),\n",
       " (19,),\n",
       " (20,),\n",
       " (21,),\n",
       " (22,),\n",
       " (23,),\n",
       " (24,),\n",
       " (25,),\n",
       " (26,),\n",
       " (27,),\n",
       " (28,),\n",
       " (29,),\n",
       " (30,),\n",
       " (31,),\n",
       " (32,),\n",
       " (33,),\n",
       " (34,),\n",
       " (35,),\n",
       " (36,),\n",
       " (37,),\n",
       " (38,),\n",
       " (39,),\n",
       " (40,),\n",
       " (41,),\n",
       " (42,),\n",
       " (43,),\n",
       " (44,),\n",
       " (45,),\n",
       " (46,),\n",
       " (47,),\n",
       " (48,),\n",
       " (49,),\n",
       " (50,),\n",
       " (51,),\n",
       " (52,),\n",
       " (53,),\n",
       " (54,),\n",
       " (55,),\n",
       " (56,),\n",
       " (57,),\n",
       " (58,),\n",
       " (59,),\n",
       " (60,),\n",
       " (61,),\n",
       " (62,),\n",
       " (63,),\n",
       " (64,),\n",
       " (65,),\n",
       " (66,),\n",
       " (67,),\n",
       " (68,),\n",
       " (69,),\n",
       " (70,),\n",
       " (71,),\n",
       " (72,),\n",
       " (73,),\n",
       " (74,),\n",
       " (75,),\n",
       " (76,),\n",
       " (77,),\n",
       " (78,),\n",
       " (79,),\n",
       " (80,),\n",
       " (81,),\n",
       " (82,),\n",
       " (83,),\n",
       " (84,),\n",
       " (85,),\n",
       " (86,),\n",
       " (87,),\n",
       " (88,),\n",
       " (89,),\n",
       " (90,),\n",
       " (91,),\n",
       " (92,),\n",
       " (93,),\n",
       " (94,),\n",
       " (95,),\n",
       " (96,),\n",
       " (97,),\n",
       " (98,),\n",
       " (99,),\n",
       " (100,),\n",
       " (101,),\n",
       " (102,),\n",
       " (103,),\n",
       " (104,),\n",
       " (105,),\n",
       " (106,),\n",
       " (107,),\n",
       " (108,),\n",
       " (109,),\n",
       " (110,),\n",
       " (111,),\n",
       " (112,),\n",
       " (113,),\n",
       " (114,),\n",
       " (115,),\n",
       " (116,),\n",
       " (117,),\n",
       " (118,),\n",
       " (119,),\n",
       " (120,),\n",
       " (121,),\n",
       " (122,),\n",
       " (123,),\n",
       " (124,),\n",
       " (125,),\n",
       " (126,)]"
      ]
     },
     "execution_count": 35,
     "metadata": {},
     "output_type": "execute_result"
    }
   ],
   "source": [
    "list(backend.target[\"x\"].keys())"
   ]
  },
  {
   "cell_type": "code",
   "execution_count": 38,
   "id": "bdcb4f35",
   "metadata": {},
   "outputs": [
    {
     "name": "stdout",
     "output_type": "stream",
     "text": [
      "ecr gate duration: 660.0 ns\n"
     ]
    }
   ],
   "source": [
    "inst_props = backend.target[\"ecr\"][(1,0)]  # 튜플로 큐빗 지정\n",
    "duration_cycles = inst_props.duration\n",
    "if duration_cycles is not None and dt is not None:\n",
    "    gate_time_sec = duration_cycles \n",
    "    #print(duration_cycles)\n",
    "    print(f\"ecr gate duration: {gate_time_sec*1e9:.1f} ns\")\n",
    "else:\n",
    "    print(\"Duration 정보가 없습니다.\")"
   ]
  },
  {
   "cell_type": "code",
   "execution_count": 40,
   "id": "6ce544be",
   "metadata": {},
   "outputs": [
    {
     "name": "stdout",
     "output_type": "stream",
     "text": [
      "sx gate duration: 60.0 ns\n"
     ]
    }
   ],
   "source": [
    "inst_props = backend.target[\"sx\"][(0,)]  # 튜플로 큐빗 지정\n",
    "duration_cycles = inst_props.duration\n",
    "if duration_cycles is not None and dt is not None:\n",
    "    gate_time_sec = duration_cycles \n",
    "    print(f\"sx gate duration: {gate_time_sec*1e9:.1f} ns\")\n",
    "else:\n",
    "    print(\"Duration 정보가 없습니다.\")"
   ]
  },
  {
   "cell_type": "code",
   "execution_count": 41,
   "id": "164bcff4",
   "metadata": {},
   "outputs": [
    {
     "name": "stdout",
     "output_type": "stream",
     "text": [
      "x gate duration: 60.0 ns\n"
     ]
    }
   ],
   "source": [
    "inst_props = backend.target[\"x\"][(0,)]  # 튜플로 큐빗 지정\n",
    "duration_cycles = inst_props.duration\n",
    "if duration_cycles is not None and dt is not None:\n",
    "    gate_time_sec = duration_cycles \n",
    "    print(f\"x gate duration: {gate_time_sec*1e9:.1f} ns\")\n",
    "else:\n",
    "    print(\"Duration 정보가 없습니다.\")"
   ]
  },
  {
   "cell_type": "code",
   "execution_count": null,
   "id": "e4c4ed99",
   "metadata": {},
   "outputs": [],
   "source": [
    "print(hamiltonian_isa)"
   ]
  },
  {
   "cell_type": "code",
   "execution_count": null,
   "id": "d15e150a",
   "metadata": {},
   "outputs": [],
   "source": [
    "cost_history_dict = {\n",
    "    \"prev_vector\": None,\n",
    "    \"iters\": 0,\n",
    "    \"cost_history\": [],\n",
    "}\n",
    "\n",
    "def cost_func(params, ansatz, hamiltonian, estimator):\n",
    "    \"\"\"Return estimate of energy from estimator\n",
    "\n",
    "    Parameters:\n",
    "        params (ndarray): Array of ansatz parameters\n",
    "        ansatz (QuantumCircuit): Parameterized ansatz circuit\n",
    "        hamiltonian (SparsePauliOp): Operator representation of Hamiltonian\n",
    "        estimator (EstimatorV2): Estimator primitive instance\n",
    "        cost_history_dict: Dictionary for storing intermediate results\n",
    "\n",
    "    Returns:\n",
    "        float: Energy estimate\n",
    "    \"\"\"\n",
    "    pub = (ansatz, [hamiltonian], [params])\n",
    "    result = estimator.run(pubs=[pub]).result()\n",
    "    energy = result[0].data.evs[0]\n",
    "\n",
    "    cost_history_dict[\"iters\"] += 1\n",
    "    cost_history_dict[\"prev_vector\"] = params\n",
    "    cost_history_dict[\"cost_history\"].append(energy)\n",
    "    print(f\"Iters. done: {cost_history_dict['iters']} [Current cost: {energy}]\")\n",
    "\n",
    "    return energy"
   ]
  },
  {
   "cell_type": "code",
   "execution_count": null,
   "id": "937a2542",
   "metadata": {},
   "outputs": [],
   "source": [
    "num_params = ansatz.num_parameters\n",
    "x0 = 2 * np.pi * np.random.random(num_params) "
   ]
  },
  {
   "cell_type": "code",
   "execution_count": null,
   "id": "8ff74612",
   "metadata": {},
   "outputs": [],
   "source": [
    "with Session(backend=backend) as session:\n",
    "    estimator = Estimator(mode=session)\n",
    "    estimator.options.default_shots = 2000\n",
    "\n",
    "    res = minimize(\n",
    "        cost_func,\n",
    "        x0,\n",
    "        args=(ansatz_isa, hamiltonian_isa, estimator),\n",
    "        method=\"cobyla\",\n",
    "    )"
   ]
  },
  {
   "cell_type": "code",
   "execution_count": null,
   "id": "a068a974",
   "metadata": {},
   "outputs": [],
   "source": [
    "E_exact = FCI(dist)\n",
    "\n",
    "\n",
    "plt.plot(range(cost_history_dict[\"iters\"]), cost_history_dict[\"cost_history\"] + repulsion, label='E_VQE')\n",
    "plt.axhline(E_exact, color = 'r', linewidth = 0.8, label = 'Clasical Calc. energy(FCI)')\n",
    "plt.xlabel(\"Iterations (#)\")\n",
    "plt.ylabel(\"Energy (Hartree)\")\n",
    "plt.title(\"Energy Calc. for each iteration\")\n",
    "plt.legend()\n",
    "plt.grid()\n",
    "plt.draw()"
   ]
  },
  {
   "cell_type": "code",
   "execution_count": null,
   "id": "2b77c45b",
   "metadata": {},
   "outputs": [],
   "source": [
    "from qiskit_ibm_runtime import QiskitRuntimeService\n",
    "\n",
    "service = QiskitRuntimeService(\n",
    "    channel='ibm_quantum_platform',\n",
    "    instance='crn:v1:bluemix:public:quantum-computing:eu-de:a/624a449c58db4cebbbcd6d44cd96889e:461be4b9-9545-4510-8f57-8a13fe1ec647::'\n",
    ")\n",
    "job = service.job('d2cqgee7nsps73dnljf0')\n",
    "result = job.result()\n",
    "\n",
    "for idx, pub_result in enumerate(result):\n",
    "    print(f\"Expectation values for pub {idx}: {pub_result.data.evs}\")"
   ]
  },
  {
   "cell_type": "code",
   "execution_count": null,
   "id": "37d64602",
   "metadata": {},
   "outputs": [],
   "source": [
    "print(\n",
    "    f\"The result of the submitted job had {len(result)} PUB and has a value:\\n {result}\\n\"\n",
    ")\n",
    "print(\n",
    "    f\"The associated PubResult of this job has the following data bins:\\n {result[0].data}\\n\"\n",
    ")\n",
    "print(f\"And this DataBin has attributes: {result[0].data.keys()}\")\n",
    "print(\n",
    "    \"Recall that this shape is due to our array of parameter binding sets having shape (100, 2) -- where 2 is the\\n\\\n",
    "         number of parameters in the circuit -- combined with our array of observables having shape (3, 1). \\n\"\n",
    ")\n",
    "print(\n",
    "    f\"The expectation values measured from this PUB are: \\n{result[0].data.evs}\"\n",
    ")"
   ]
  },
  {
   "cell_type": "code",
   "execution_count": null,
   "id": "124a8402",
   "metadata": {},
   "outputs": [],
   "source": []
  }
 ],
 "metadata": {
  "kernelspec": {
   "display_name": "hivqe",
   "language": "python",
   "name": "python3"
  },
  "language_info": {
   "codemirror_mode": {
    "name": "ipython",
    "version": 3
   },
   "file_extension": ".py",
   "mimetype": "text/x-python",
   "name": "python",
   "nbconvert_exporter": "python",
   "pygments_lexer": "ipython3",
   "version": "3.11.13"
  }
 },
 "nbformat": 4,
 "nbformat_minor": 5
}
