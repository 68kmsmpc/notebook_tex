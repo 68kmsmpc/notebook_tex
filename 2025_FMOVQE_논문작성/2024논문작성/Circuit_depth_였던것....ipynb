{
 "cells": [
  {
   "cell_type": "code",
   "execution_count": 2,
   "metadata": {},
   "outputs": [],
   "source": [
    "import numpy as np\n",
    "import matplotlib.pyplot as plt\n",
    "#import qiskit.quantum_info as qi\n",
    "\n",
    "\n",
    "\n",
    "#from qiskit import Aer\n",
    "from qiskit_nature.second_q.formats.molecule_info import MoleculeInfo\n",
    "from qiskit_nature.second_q.drivers import PySCFDriver\n",
    "from qiskit_nature.second_q.mappers import ParityMapper, JordanWignerMapper, BravyiKitaevMapper\n",
    "from qiskit_nature.second_q.transformers import ActiveSpaceTransformer\n",
    "from qiskit_nature import settings\n",
    "from qiskit_algorithms.optimizers import  SPSA, COBYLA, L_BFGS_B\n",
    "from qiskit_nature.second_q.circuit.library import UCCSD, HartreeFock\n",
    "from qiskit.circuit.library import TwoLocal\n",
    "from qiskit_algorithms.minimum_eigensolvers import NumPyMinimumEigensolver, VQE\n",
    "from qiskit.primitives import Estimator\n"
   ]
  },
  {
   "cell_type": "code",
   "execution_count": 3,
   "metadata": {},
   "outputs": [],
   "source": [
    "def reset_intermediate_info():\n",
    "    global intermediate_info\n",
    "    intermediate_info.clear()\n",
    "    print(intermediate_info)\n",
    "    intermediate_info = {\n",
    "        'nfev ': [],\n",
    "        'parameters ': [],\n",
    "        'energy ': [],\n",
    "        'stddev ': []\n",
    "    }\n",
    "\n",
    "def callback (nfev , parameters , energy , stddev ):\n",
    "    intermediate_info ['nfev ']. append ( nfev )\n",
    "    intermediate_info ['parameters ']. append ( parameters )\n",
    "    intermediate_info ['energy ']. append ( energy )\n",
    "    intermediate_info ['stddev ']. append ( stddev )\n",
    "\n",
    "def exact_solver(qubit_op, problem):\n",
    "    sol = NumPyMinimumEigensolver().compute_minimum_eigenvalue(qubit_op)\n",
    "    result = problem.interpret(sol)\n",
    "    return result\n",
    "\n",
    "def fermion_to_qubit(problem, second_q_op, mapper_name,  z2symmetry_reduction=None):\n",
    "  if mapper_name == \"JW\":\n",
    "    mapper = JordanWignerMapper()\n",
    "  if mapper_name == \"Pa\":\n",
    "    mapper = ParityMapper(num_particles=problem.num_particles)\n",
    "  if mapper_name == \"BK\":\n",
    "    mapper = BravyiKitaevMapper()\n",
    "\n",
    "  qubit_op = mapper.map(second_q_op)\n",
    "\n",
    "  if z2symmetry_reduction != None:\n",
    "    mapper = problem.get_tapered_mapper(mapper)\n",
    "    qubit_op = mapper.map(second_q_op)\n",
    "  else :\n",
    "    qubit_op = mapper.map(second_q_op)\n",
    "\n",
    "  return qubit_op , mapper\n",
    "\n",
    "intermediate_info = {\n",
    "'nfev ': [],\n",
    "'parameters ': [],\n",
    "'energy ': [],\n",
    "'stddev ': []\n",
    "}\n",
    "\n",
    "\n",
    "basis = 'sto-3g'\n",
    "settings.use_pauli_sum_op = False"
   ]
  },
  {
   "cell_type": "code",
   "execution_count": 4,
   "metadata": {},
   "outputs": [],
   "source": [
    "C = 1.9220\n",
    "L = 2.0946\n",
    "theta = np.deg2rad(94.24)\n",
    "\n",
    "Co = (0,0,0)\n",
    "O_1 = (C,0,0)\n",
    "O_2 = (C*np.cos(theta),C*np.sin(theta),0)\n",
    "Li = (C+L*np.cos(np.pi-theta),-L*np.sin(np.pi-theta),0)"
   ]
  },
  {
   "cell_type": "code",
   "execution_count": 38,
   "metadata": {},
   "outputs": [],
   "source": [
    "Co_O_dimer_atoms = [\"Co\",\"O\" ,\"O\",\"Li\"]\n",
    "Co_O_dimer_coords = [Co,O_1, O_2, Li]\n",
    "Co_O_dimer_charge = 0\n",
    "Co_O_dimer_multiplicity = 1\n",
    "Co_O_moleculeinfo = MoleculeInfo(Co_O_dimer_atoms, Co_O_dimer_coords, charge=Co_O_dimer_charge, multiplicity=Co_O_dimer_multiplicity)\n",
    "energy_arr =[]\n",
    "order=[]\n",
    "driver = PySCFDriver.from_molecule(Co_O_moleculeinfo, basis=basis)\n",
    "E_problem = driver.run()\n",
    "num_spatial_orbitals = E_problem.num_spatial_orbitals\n",
    "num_particles = E_problem.num_particles\n",
    "#as_transformer = ActiveSpaceTransformer((8,8), 12)\n",
    "#as_problem = as_transformer.transform(E_problem)"
   ]
  },
  {
   "cell_type": "code",
   "execution_count": 39,
   "metadata": {},
   "outputs": [],
   "source": [
    "as_num_particles = as_problem.num_particles\n",
    "as_num_spatial_orbitals = as_problem.num_spatial_orbitals\n",
    "as_fermionic_hamiltonian = as_problem.hamiltonian\n",
    "as_second_q_op = as_fermionic_hamiltonian.second_q_op()\n",
    "qubit_op, mapper = fermion_to_qubit(as_problem, as_second_q_op, \"Pa\", z2symmetry_reduction=None)\n",
    "as_init_state = HartreeFock(as_num_spatial_orbitals,as_num_particles,mapper)\n",
    "uccsd = UCCSD(as_num_spatial_orbitals,as_num_particles,mapper,initial_state=as_init_state, generalized=True)\n",
    "twolocal = TwoLocal(as_num_spatial_orbitals*2, ['ry', 'rz'], 'cz', initial_state=as_init_state)\n"
   ]
  },
  {
   "cell_type": "code",
   "execution_count": 40,
   "metadata": {},
   "outputs": [
    {
     "data": {
      "text/plain": [
       "905957"
      ]
     },
     "execution_count": 40,
     "metadata": {},
     "output_type": "execute_result"
    }
   ],
   "source": [
    "uccsd.decompose().decompose().depth()"
   ]
  },
  {
   "cell_type": "code",
   "execution_count": 42,
   "metadata": {},
   "outputs": [
    {
     "data": {
      "text/plain": [
       "237"
      ]
     },
     "execution_count": 42,
     "metadata": {},
     "output_type": "execute_result"
    }
   ],
   "source": [
    "twolocal.decompose().decompose().decompose().decompose().depth()"
   ]
  },
  {
   "cell_type": "code",
   "execution_count": 5,
   "metadata": {},
   "outputs": [
    {
     "ename": "",
     "evalue": "",
     "output_type": "error",
     "traceback": [
      "\u001b[1;31m코드를 실행할 수 없습니다. 세션이 삭제되었습니다. 커널을 다시 시작해 보세요."
     ]
    },
    {
     "ename": "",
     "evalue": "",
     "output_type": "error",
     "traceback": [
      "\u001b[1;31m현재 셀 또는 이전 셀에서 코드를 실행하는 동안 Kernel이 충돌했습니다. 셀의 코드를 검토하여 오류의 가능한 원인을 식별하세요. 자세한 내용을 보려면 <a href='https://aka.ms/vscodeJupyterKernelCrash'> 여기 </a> 를 클릭하세요. 자세한 내용은 Jupyter <a href='command:jupyter.viewOutput'>로그</a>를 참조하세요."
     ]
    }
   ],
   "source": [
    "Co_O_dimer_atoms = [\"Co\",\"O\" ,\"O\",\"Li\"]\n",
    "Co_O_dimer_coords = [Co,O_1, O_2, Li]\n",
    "Co_O_dimer_charge = 0\n",
    "Co_O_dimer_multiplicity = 1\n",
    "Co_O_moleculeinfo = MoleculeInfo(Co_O_dimer_atoms, Co_O_dimer_coords, charge=Co_O_dimer_charge, multiplicity=Co_O_dimer_multiplicity)\n",
    "energy_arr =[]\n",
    "order=[]\n",
    "driver = PySCFDriver.from_molecule(Co_O_moleculeinfo, basis=basis)\n",
    "as_problem = driver.run()\n",
    "#num_spatial_orbitals = E_problem.num_spatial_orbitals\n",
    "#num_particles = E_problem.num_particles\n",
    "#as_transformer = ActiveSpaceTransformer((8,8), 12)\n",
    "#as_problem = as_transformer.transform(E_problem)\n",
    "\n",
    "as_num_particles = as_problem.num_particles\n",
    "as_num_spatial_orbitals = as_problem.num_spatial_orbitals\n",
    "as_fermionic_hamiltonian = as_problem.hamiltonian\n",
    "as_second_q_op = as_fermionic_hamiltonian.second_q_op()\n",
    "qubit_op, mapper = fermion_to_qubit(as_problem, as_second_q_op, \"Pa\", z2symmetry_reduction=None)\n",
    "as_init_state = HartreeFock(as_num_spatial_orbitals,as_num_particles,mapper)\n",
    "uccsd = UCCSD(as_num_spatial_orbitals,as_num_particles,mapper,initial_state=as_init_state, generalized=True)\n",
    "twolocal = TwoLocal(as_num_spatial_orbitals*2, ['ry', 'rz'], 'cz', initial_state=as_init_state)\n",
    "\n",
    "print(uccsd.decompose().decompose().depth())\n",
    "print(twolocal.decompose().decompose().decompose().decompose().depth())"
   ]
  },
  {
   "cell_type": "code",
   "execution_count": null,
   "metadata": {},
   "outputs": [],
   "source": []
  }
 ],
 "metadata": {
  "kernelspec": {
   "display_name": "FMOVQE",
   "language": "python",
   "name": "python3"
  },
  "language_info": {
   "codemirror_mode": {
    "name": "ipython",
    "version": 3
   },
   "file_extension": ".py",
   "mimetype": "text/x-python",
   "name": "python",
   "nbconvert_exporter": "python",
   "pygments_lexer": "ipython3",
   "version": "3.9.6"
  },
  "orig_nbformat": 4
 },
 "nbformat": 4,
 "nbformat_minor": 2
}
