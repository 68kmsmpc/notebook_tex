{
 "cells": [
  {
   "cell_type": "code",
   "execution_count": 5,
   "metadata": {},
   "outputs": [],
   "source": [
    "import pickle\n",
    "import numpy as np"
   ]
  },
  {
   "cell_type": "code",
   "execution_count": 10,
   "metadata": {},
   "outputs": [
    {
     "name": "stdout",
     "output_type": "stream",
     "text": [
      "[-81.03794965 -81.08402607 -80.99274128 -81.05085309 -81.08406218\n",
      " -81.07730552]\n",
      "[-81.0963523  -81.11969163 -81.03266673 -81.11964516 -81.12007027\n",
      " -81.12006559]\n",
      "[-1373.56891522 -1373.60256923 -1373.5051209  -1373.42235722\n",
      " -1373.6113386  -1373.56054496]\n",
      "[-147.53104468 -147.60801311 -147.3363875  -147.43440392 -147.60130968\n",
      " -147.48790262]\n",
      "[-1439.34793724 -1439.87027151 -1439.67956936 -1439.41099696\n",
      " -1439.84066373 -1439.74070898]\n",
      "[-1439.25194753 -1439.63216638 -1439.25853926 -1439.29257757\n",
      " -1439.89402031 -1439.73354874]\n"
     ]
    }
   ],
   "source": [
    "Li_O_1=[-7.778428832231768, -7.824505245859625, -7.73322045973092,-7.79133226817651, -7.82454136030257, -7.81778469633602]-73.25952082044347*np.ones(6)\n",
    "Li_O_2 = [-7.2004582667160655, -7.2237975945912964, -7.136772699522305, -7.223751125982274, -7.224176236194369, -7.224171560228026]-73.89589403421802*np.ones(6)\n",
    "Co_Li = [-15.9090077352716775, -15.942661748282841, -15.845213423064267,-15.762449737554254, -15.951431117960828, -15.900637482459636]-1357.6599074801616*np.ones(6)\n",
    "O_O = [-16.09128831071229, -16.168256748091885, -15.896631134162998,-15.994647550092303, -16.16155331702848, -16.048146249227404]-131.43975636674833*np.ones(6)\n",
    "\n",
    "Co_O_1 = [-28.085035060365016, -28.607369337480925, -28.41666718203742,-28.148094786047608, -28.57776155267282, -28.47780680447018] -1411.2629021755706*np.ones(6)\n",
    "Co_O_2 = [-27.982770799381044, -28.362989652042515, -27.98936253351414,-28.023400840248748, -28.624843575297035, -28.464372005203188]-1411.269176730623*np.ones(6)\n",
    "\n",
    "\n",
    "print(Li_O_1)\n",
    "print(Li_O_2)\n",
    "print(Co_Li)\n",
    "print(O_O)\n",
    "print(Co_O_1)\n",
    "print(Co_O_2)"
   ]
  },
  {
   "cell_type": "code",
   "execution_count": 2,
   "metadata": {},
   "outputs": [
    {
     "ename": "FileNotFoundError",
     "evalue": "[Errno 2] No such file or directory: './LiCoO2_data_x1/Co-O/Two local_COBYLA.pickle'",
     "output_type": "error",
     "traceback": [
      "\u001b[0;31m---------------------------------------------------------------------------\u001b[0m",
      "\u001b[0;31mFileNotFoundError\u001b[0m                         Traceback (most recent call last)",
      "Cell \u001b[0;32mIn[2], line 1\u001b[0m\n\u001b[0;32m----> 1\u001b[0m \u001b[39mwith\u001b[39;00m \u001b[39mopen\u001b[39;49m(\u001b[39m'\u001b[39;49m\u001b[39m./LiCoO2_data_x1/Co-O/Two local_COBYLA.pickle\u001b[39;49m\u001b[39m'\u001b[39;49m, \u001b[39m'\u001b[39;49m\u001b[39mrb\u001b[39;49m\u001b[39m'\u001b[39;49m) \u001b[39mas\u001b[39;00m f:\n\u001b[1;32m      2\u001b[0m     intermediate_data \u001b[39m=\u001b[39m pickle\u001b[39m.\u001b[39mload(f)\n\u001b[1;32m      5\u001b[0m \u001b[39mprint\u001b[39m(intermediate_data[\u001b[39m'\u001b[39m\u001b[39menergy \u001b[39m\u001b[39m'\u001b[39m])\n",
      "File \u001b[0;32m~/Documents/Kisses/lib/python3.9/site-packages/IPython/core/interactiveshell.py:310\u001b[0m, in \u001b[0;36m_modified_open\u001b[0;34m(file, *args, **kwargs)\u001b[0m\n\u001b[1;32m    303\u001b[0m \u001b[39mif\u001b[39;00m file \u001b[39min\u001b[39;00m {\u001b[39m0\u001b[39m, \u001b[39m1\u001b[39m, \u001b[39m2\u001b[39m}:\n\u001b[1;32m    304\u001b[0m     \u001b[39mraise\u001b[39;00m \u001b[39mValueError\u001b[39;00m(\n\u001b[1;32m    305\u001b[0m         \u001b[39mf\u001b[39m\u001b[39m\"\u001b[39m\u001b[39mIPython won\u001b[39m\u001b[39m'\u001b[39m\u001b[39mt let you open fd=\u001b[39m\u001b[39m{\u001b[39;00mfile\u001b[39m}\u001b[39;00m\u001b[39m by default \u001b[39m\u001b[39m\"\u001b[39m\n\u001b[1;32m    306\u001b[0m         \u001b[39m\"\u001b[39m\u001b[39mas it is likely to crash IPython. If you know what you are doing, \u001b[39m\u001b[39m\"\u001b[39m\n\u001b[1;32m    307\u001b[0m         \u001b[39m\"\u001b[39m\u001b[39myou can use builtins\u001b[39m\u001b[39m'\u001b[39m\u001b[39m open.\u001b[39m\u001b[39m\"\u001b[39m\n\u001b[1;32m    308\u001b[0m     )\n\u001b[0;32m--> 310\u001b[0m \u001b[39mreturn\u001b[39;00m io_open(file, \u001b[39m*\u001b[39;49margs, \u001b[39m*\u001b[39;49m\u001b[39m*\u001b[39;49mkwargs)\n",
      "\u001b[0;31mFileNotFoundError\u001b[0m: [Errno 2] No such file or directory: './LiCoO2_data_x1/Co-O/Two local_COBYLA.pickle'"
     ]
    }
   ],
   "source": [
    "with open('./LiCoO2_data_x1/Co-O/Two local_COBYLA.pickle', 'rb') as f:\n",
    "    intermediate_data = pickle.load(f)\n",
    "\n",
    "\n",
    "print(intermediate_data['energy '])"
   ]
  },
  {
   "cell_type": "code",
   "execution_count": null,
   "metadata": {},
   "outputs": [
    {
     "name": "stdout",
     "output_type": "stream",
     "text": [
      "min energy of Co-O/Two local_COBYLA.pickle: -28.085035060365016\n",
      "min energy of Co-O/Two local_L-BFGS-B.pickle: -28.607369337480925\n",
      "min energy of Co-O/Two local_SPSA.pickle: -28.41666718203742\n",
      "min energy of Co-O/UCCSD_COBYLA.pickle: -28.148094786047608\n",
      "min energy of Co-O/UCCSD_L-BFGS-B.pickle: -28.57776155267282\n",
      "min energy of Co-O/UCCSD_SPSA.pickle: -28.47780680447018\n",
      "min energy of Co=O/Two local_COBYLA.pickle: -27.982770799381044\n",
      "min energy of Co=O/Two local_L-BFGS-B.pickle: -28.362989652042515\n",
      "min energy of Co=O/Two local_SPSA.pickle: -27.98936253351414\n",
      "min energy of Co=O/UCCSD_COBYLA.pickle: -28.023400840248748\n",
      "min energy of Co=O/UCCSD_L-BFGS-B.pickle: -28.624843575297035\n",
      "min energy of Co=O/UCCSD_SPSA.pickle: -28.464372005203188\n",
      "min energy of Co~Li/Two local_COBYLA.pickle: -15.909007735271677\n",
      "min energy of Co~Li/Two local_L-BFGS-B.pickle: -15.942661748282841\n",
      "min energy of Co~Li/Two local_SPSA.pickle: -15.845213423064267\n",
      "min energy of Co~Li/UCCSD_COBYLA.pickle: -15.762449737554254\n",
      "min energy of Co~Li/UCCSD_L-BFGS-B.pickle: -15.951431117960828\n",
      "min energy of Co~Li/UCCSD_SPSA.pickle: -15.900637482459636\n",
      "min energy of Li-O/Two local_COBYLA.pickle: -7.778428832231768\n",
      "min energy of Li-O/Two local_L-BFGS-B.pickle: -7.824505245859625\n",
      "min energy of Li-O/Two local_SPSA.pickle: -7.73322045973092\n",
      "min energy of Li-O/UCCSD_COBYLA.pickle: -7.79133226817651\n",
      "min energy of Li-O/UCCSD_L-BFGS-B.pickle: -7.82454136030257\n",
      "min energy of Li-O/UCCSD_SPSA.pickle: -7.81778469633602\n",
      "min energy of Li~O/Two local_COBYLA.pickle: -7.2004582667160655\n",
      "min energy of Li~O/Two local_L-BFGS-B.pickle: -7.2237975945912964\n",
      "min energy of Li~O/Two local_SPSA.pickle: -7.136772699522305\n",
      "min energy of Li~O/UCCSD_COBYLA.pickle: -7.223751125982274\n",
      "min energy of Li~O/UCCSD_L-BFGS-B.pickle: -7.224176236194369\n",
      "min energy of Li~O/UCCSD_SPSA.pickle: -7.224171560228026\n",
      "min energy of O-Li/Two local_COBYLA.pickle: -7.7210588326895655\n",
      "min energy of O-Li/Two local_L-BFGS-B.pickle: -7.737192588464169\n",
      "min energy of O-Li/Two local_SPSA.pickle: -7.777414119692442\n",
      "min energy of O-Li/UCCSD_COBYLA.pickle: -7.788564257120115\n",
      "min energy of O-Li/UCCSD_L-BFGS-B.pickle: -7.824546825136509\n",
      "min energy of O-Li/UCCSD_SPSA.pickle: -7.821238744556861\n",
      "min energy of O~O/Two local_COBYLA.pickle: -16.09128831071229\n",
      "min energy of O~O/Two local_L-BFGS-B.pickle: -16.168256748091885\n",
      "min energy of O~O/Two local_SPSA.pickle: -15.896631134162998\n",
      "min energy of O~O/UCCSD_COBYLA.pickle: -15.994647550092303\n",
      "min energy of O~O/UCCSD_L-BFGS-B.pickle: -16.16155331702848\n",
      "min energy of O~O/UCCSD_SPSA.pickle: -16.048146249227404\n"
     ]
    }
   ],
   "source": [
    "compound_list = [\"Co-O\", \"Co=O\", \"Co~Li\", \"Li-O\", \"Li~O\", \"O-Li\", \"O~O\"]\n",
    "ansatz_list = [\"Two local\", \"UCCSD\"]\n",
    "optimizer_list = [\"COBYLA\", \"L-BFGS-B\", \"SPSA\"]\n",
    "\n",
    "file_dir = \"./LiCoO2_data_x1/\"\n",
    "\n",
    "for compound in compound_list:\n",
    "    for ansatz in ansatz_list:\n",
    "        for optimizer in optimizer_list:\n",
    "\n",
    "            file_name = f\"{compound}/{ansatz}_{optimizer}.pickle\"\n",
    "\n",
    "            with open(file_dir + file_name, 'rb') as f:\n",
    "                intermediate_data = pickle.load(f)\n",
    "            \n",
    "            print(f\"min energy of {file_name}: {min(intermediate_data['energy '])}\")\n"
   ]
  },
  {
   "cell_type": "code",
   "execution_count": null,
   "metadata": {},
   "outputs": [],
   "source": [
    "-1411.269176730623 + -28.624843575297035"
   ]
  },
  {
   "cell_type": "code",
   "execution_count": null,
   "metadata": {},
   "outputs": [],
   "source": [
    "min_energy_dict = {\n",
    "    \"Co-O\": [-28.085035060365016, -28.607369337480925, -28.41666718203742,\n",
    "             -28.148094786047608, -28.57776155267282, -28.47780680447018],\n",
    "    \n",
    "    \"Co=O\": [-27.982770799381044, -28.362989652042515, -27.98936253351414,\n",
    "             -28.023400840248748, -28.624843575297035, -28.464372005203188],\n",
    "    \n",
    "    \"Co~Li\": [-15.909007735271677, -15.942661748282841, -15.845213423064267,\n",
    "              -15.762449737554254, -15.951431117960828, -15.900637482459636],\n",
    "    \n",
    "    \"Li-O\": [-7.778428832231768, -7.824505245859625, -7.73322045973092,\n",
    "             -7.79133226817651, -7.82454136030257, -7.81778469633602],\n",
    "    \n",
    "    \"Li~O\": [-7.2004582667160655, -7.2237975945912964, -7.136772699522305,\n",
    "             -7.223751125982274, -7.224176236194369, -7.224171560228026],\n",
    "    \n",
    "    \"O-Li\": [-7.7210588326895655, -7.737192588464169, -7.777414119692442,\n",
    "             -7.788564257120115, -7.824546825136509, -7.821238744556861],\n",
    "    \n",
    "    \"O~O\": [-16.09128831071229, -16.168256748091885, -15.896631134162998,\n",
    "            -15.994647550092303, -16.16155331702848, -16.048146249227404]\n",
    "}\n",
    "\n"
   ]
  },
  {
   "cell_type": "code",
   "execution_count": null,
   "metadata": {},
   "outputs": [],
   "source": [
    "Li_O_1=[-7.778428832231768, -7.824505245859625, -7.73322045973092,-7.79133226817651, -7.82454136030257, -7.81778469633602]-73.25952082044347\n",
    "Li_O_2 = [-7.2004582667160655, -7.2237975945912964, -7.136772699522305, -7.223751125982274, -7.224176236194369, -7.224171560228026]-73.89589403421802\n",
    "O_Li = [-7.7210588326895655, -7.737192588464169, -7.777414119692442,-7.788564257120115, -7.824546825136509, -7.821238744556861]-1357.6599074801616\n",
    "O_O = [-16.09128831071229, -16.168256748091885, -15.896631134162998,-15.994647550092303, -16.16155331702848, -16.048146249227404]-131.43975636674833\n",
    "\n",
    "Co_O_1 = [-28.085035060365016, -28.607369337480925, -28.41666718203742,-28.148094786047608, -28.57776155267282, -28.47780680447018] -1411.2629021755706\n",
    "Co_O_2 = [-27.982770799381044, -28.362989652042515, -27.98936253351414,-28.023400840248748, -28.624843575297035, -28.464372005203188]-1411.269176730623"
   ]
  },
  {
   "cell_type": "code",
   "execution_count": null,
   "metadata": {},
   "outputs": [],
   "source": [
    "[np.float64(-73.25952082044347), np.float64(-73.89589403421802), np.float64(-1357.6599074801616), np.float64(-131.43975636674833), np.float64(-1411.269176730623), np.float64(-1411.2629021755706)]"
   ]
  },
  {
   "cell_type": "code",
   "execution_count": null,
   "metadata": {},
   "outputs": [],
   "source": [
    "[np.float64(-73.25952082044347), np.float64(-73.89589403421802), np.float64(-1357.6599074801616), np.float64(-131.43975636674833), np.float64(-1411.269176730623), np.float64(-1411.2629021755706)]"
   ]
  }
 ],
 "metadata": {
  "kernelspec": {
   "display_name": "base",
   "language": "python",
   "name": "python3"
  },
  "language_info": {
   "codemirror_mode": {
    "name": "ipython",
    "version": 3
   },
   "file_extension": ".py",
   "mimetype": "text/x-python",
   "name": "python",
   "nbconvert_exporter": "python",
   "pygments_lexer": "ipython3",
   "version": "3.9.6"
  }
 },
 "nbformat": 4,
 "nbformat_minor": 2
}
