{
 "cells": [
  {
   "cell_type": "code",
   "execution_count": null,
   "metadata": {},
   "outputs": [],
   "source": [
    "import numpy as np\n",
    "import matplotlib.pyplot as plt\n"
   ]
  },
  {
   "cell_type": "code",
   "execution_count": null,
   "metadata": {},
   "outputs": [],
   "source": [
    "Exact_O = -74.78751307462377\n",
    "Exact_Li = -7.432419879671084\n",
    "Exact_Co = -1381.3587281858706\n",
    "\n",
    "Exact_Co__O = -1456.0501908536992\n",
    "Exact_Co_O = -1456.1471791846648\n",
    "Exact_O_Li_bonding = -82.25731135454348\n",
    "Exact_O_Li_antibonding = -82.22028501820168\n",
    "Exact_Co_Li = -1388.7297564565388\n",
    "Exact_O_O = -149.55097106437586\n",
    "\n",
    "Exact_energy_arr = [Exact_Li,Exact_O,Exact_O_Li_bonding,Exact_O_Li_antibonding,Exact_Co,Exact_Co_Li,Exact_O_O,Exact_Co__O,Exact_Co_O]"
   ]
  },
  {
   "cell_type": "code",
   "execution_count": null,
   "metadata": {},
   "outputs": [],
   "source": [
    "Li_mon_arr=[-7.432419848997446, -7.432419879671084, -7.432419879671082, -7.432419863575959, -7.432391311055545, -7.43241987948282]# 2\n",
    "O_mon_arr=[-74.78751307459339, -74.78751307462349, -74.78751307461255, -74.7834227401651, -74.7851106019038, -74.78751300755863] # 4\n",
    "O_Li_close_arr = [-82.2364947294904, -82.25437361257852, -82.2573048975384, -82.07987861544333, -82.08587673811537, -82.25724105884775] #6\n",
    "O_Li_far_arr = [-82.21895903429655, -82.21535975925605, -82.22028501813968, -82.21836106927313, -82.15217139620904, -82.22028501458318] # 6\n",
    "Co_mon_arr = [-1381.3044887486176, -1381.3511645910166, -1381.3541738893057, -1381.2726874313214, -1381.2840659292199, -1381.3238127255668] #8\n",
    "Co_Li_arr = [-1388.0949272558062, -1388.6072051896872, -1388.6084022884377, -1388.5644732008523, -1388.4274728702496, -1388.6777760082325]#10  \n",
    "O_O_arr = [-149.34352552912154, -149.29625049988357, -149.5488331106427, -149.220752279301, -149.25451329489053, -149.50844501481302]#10\n",
    "Co__O_arr = [-1455.1141326595564, -1455.7233910991172, -1456.0126054372968, -1455.4490144875654, -1455.3916964474563, -1456.0087701190753]#14\n",
    "Co_O_arr = [-1455.7186059142302, -1455.9021236301928, -1456.1668621057645, -1455.836697967516, -1455.7151943376211, -1456.0854735453845]#14\n",
    "energy_arr = [Li_mon_arr,O_mon_arr,O_Li_close_arr,O_Li_far_arr,Co_mon_arr,Co_Li_arr,O_O_arr,Co__O_arr,Co_O_arr]\n",
    "qubit_number = [2,4,4.2,6,8,10,10.2,14,14.2]\n",
    "calc_arr = [[],[],[],[],[],[]]\n",
    "opt_arr = ['COBYLA','SPSA','L_BFGS_B','COBYLA','SPSA','L_BFGS_B']\n",
    "ansatz_arr = ['UCCSD','UCCSD','UCCSD',\"TwoLocal\",\"TwoLocal\",\"TwoLocal\"]\n",
    "\n",
    "for k in range(6):\n",
    "    temp = []\n",
    "    for j in range(9):\n",
    "        min = np.min(energy_arr[j])\n",
    "        e_arr = (energy_arr[j] - min)\n",
    "        temp.append(e_arr[k])\n",
    "    calc_arr.append(temp)\n",
    "\n",
    "    plt.plot(qubit_number,temp,label='{0}, {1}'.format(opt_arr[k],ansatz_arr[k]))\n",
    "plt.grid()\n",
    "#plt.ylim(())\n",
    "plt.legend()\n",
    "plt.ylabel('a.u')\n",
    "plt.show()"
   ]
  },
  {
   "cell_type": "code",
   "execution_count": null,
   "metadata": {},
   "outputs": [],
   "source": [
    "C = 1.9220\n",
    "L = 2.0946\n",
    "theta = np.deg2rad(94.24)\n",
    "\n",
    "Co = (0,0,0)\n",
    "O_1 = (C,0,0)\n",
    "O_2 = (C*np.cos(theta),C*np.sin(theta),0)\n",
    "Li = (C+L*np.cos(np.pi-theta),-L*np.sin(np.pi-theta),0)\n",
    "\n",
    "print(Co)\n",
    "print(O_1)\n",
    "print(O_2)\n",
    "print(Li)"
   ]
  },
  {
   "cell_type": "code",
   "execution_count": null,
   "metadata": {},
   "outputs": [],
   "source": []
  }
 ],
 "metadata": {
  "kernelspec": {
   "display_name": "FMOVQE",
   "language": "python",
   "name": "python3"
  },
  "language_info": {
   "codemirror_mode": {
    "name": "ipython",
    "version": 3
   },
   "file_extension": ".py",
   "mimetype": "text/x-python",
   "name": "python",
   "nbconvert_exporter": "python",
   "pygments_lexer": "ipython3",
   "version": "3.9.6"
  },
  "orig_nbformat": 4
 },
 "nbformat": 4,
 "nbformat_minor": 2
}
