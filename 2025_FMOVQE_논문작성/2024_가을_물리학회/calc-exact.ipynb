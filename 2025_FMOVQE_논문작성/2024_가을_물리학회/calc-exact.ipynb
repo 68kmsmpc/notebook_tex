{
 "cells": [
  {
   "cell_type": "code",
   "execution_count": 33,
   "metadata": {},
   "outputs": [],
   "source": [
    "import numpy as np\n",
    "import matplotlib.pyplot as plt\n",
    "#import qiskit.quantum_info as qi\n",
    "\n",
    "\n",
    "\n",
    "#from qiskit import Aer\n",
    "from qiskit_nature.second_q.formats.molecule_info import MoleculeInfo\n",
    "from qiskit_nature.second_q.drivers import PySCFDriver\n",
    "from qiskit_nature.second_q.mappers import ParityMapper, JordanWignerMapper, BravyiKitaevMapper\n",
    "from qiskit_nature.second_q.transformers import ActiveSpaceTransformer\n",
    "from qiskit_nature import settings\n",
    "from qiskit_algorithms.optimizers import  SPSA, COBYLA, L_BFGS_B\n",
    "from qiskit_nature.second_q.circuit.library import UCCSD, HartreeFock\n",
    "from qiskit.circuit.library import TwoLocal\n",
    "from qiskit_algorithms.minimum_eigensolvers import NumPyMinimumEigensolver, VQE\n",
    "from qiskit.primitives import Estimator\n"
   ]
  },
  {
   "cell_type": "code",
   "execution_count": 34,
   "metadata": {},
   "outputs": [],
   "source": [
    "def reset_intermediate_info():\n",
    "    global intermediate_info\n",
    "    intermediate_info.clear()\n",
    "    print(intermediate_info)\n",
    "    intermediate_info = {\n",
    "        'nfev ': [],\n",
    "        'parameters ': [],\n",
    "        'energy ': [],\n",
    "        'stddev ': []\n",
    "    }\n",
    "\n",
    "def callback (nfev , parameters , energy , stddev ):\n",
    "    intermediate_info ['nfev ']. append ( nfev )\n",
    "    intermediate_info ['parameters ']. append ( parameters )\n",
    "    intermediate_info ['energy ']. append ( energy )\n",
    "    intermediate_info ['stddev ']. append ( stddev )\n",
    "\n",
    "def exact_solver(qubit_op, problem):\n",
    "    sol = NumPyMinimumEigensolver().compute_minimum_eigenvalue(qubit_op)\n",
    "    result = problem.interpret(sol)\n",
    "    return result\n",
    "\n",
    "def fermion_to_qubit(problem, second_q_op, mapper_name,  z2symmetry_reduction=None):\n",
    "  if mapper_name == \"JW\":\n",
    "    mapper = JordanWignerMapper()\n",
    "  if mapper_name == \"Pa\":\n",
    "    mapper = ParityMapper(num_particles=problem.num_particles)\n",
    "  if mapper_name == \"BK\":\n",
    "    mapper = BravyiKitaevMapper()\n",
    "\n",
    "  qubit_op = mapper.map(second_q_op)\n",
    "\n",
    "  if z2symmetry_reduction != None:\n",
    "    mapper = problem.get_tapered_mapper(mapper)\n",
    "    qubit_op = mapper.map(second_q_op)\n",
    "  else :\n",
    "    qubit_op = mapper.map(second_q_op)\n",
    "\n",
    "  return qubit_op , mapper"
   ]
  },
  {
   "cell_type": "code",
   "execution_count": 35,
   "metadata": {},
   "outputs": [],
   "source": [
    "def least_Energy(as_problem):\n",
    "    core = as_problem.hamiltonian.constants['ActiveSpaceTransformer']\n",
    "    repulsion = as_problem.hamiltonian.constants['nuclear_repulsion_energy']\n",
    "    dimer_energy = repulsion + core\n",
    "    Co_Li_energy = dimer_energy\n",
    "\n",
    "    return Co_Li_energy"
   ]
  },
  {
   "cell_type": "code",
   "execution_count": 36,
   "metadata": {},
   "outputs": [],
   "source": [
    "basis = 'sto3g'\n",
    "settings.use_pauli_sum_op = False\n",
    "\n",
    "C = 1.9132\n",
    "L = 2.07\n",
    "theta = np.deg2rad(94.72)\n",
    "\n",
    "Co = (0,0,0)\n",
    "O_1 = (C,0,0)\n",
    "O_2 = (C*np.cos(theta),C*np.sin(theta),0)\n",
    "Li = (C+L*np.cos(np.pi-theta),-L*np.sin(np.pi-theta),0)\n"
   ]
  },
  {
   "cell_type": "markdown",
   "metadata": {},
   "source": [
    "## 5. Co=O (Double bonding)"
   ]
  },
  {
   "cell_type": "code",
   "execution_count": 37,
   "metadata": {},
   "outputs": [
    {
     "name": "stdout",
     "output_type": "stream",
     "text": [
      "-1411.3324180539078\n"
     ]
    }
   ],
   "source": [
    "Co_O_dimer_atoms = [\"Co\", \"O\"]\n",
    "Co_O_dimer_coords = [Co, O_2]\n",
    "Co_O_dimer_charge = 0\n",
    "Co_O_dimer_multiplicity = 2\n",
    "Co_O_moleculeinfo = MoleculeInfo(Co_O_dimer_atoms, Co_O_dimer_coords, charge=Co_O_dimer_charge, multiplicity=Co_O_dimer_multiplicity)\n",
    "\n",
    "driver = PySCFDriver.from_molecule(Co_O_moleculeinfo, basis=basis)\n",
    "E_problem = driver.run()\n",
    "num_spatial_orbitals = E_problem.num_spatial_orbitals\n",
    "num_particles = E_problem.num_particles\n",
    "as_transformer = ActiveSpaceTransformer((6,5), 8)\n",
    "as_problem = as_transformer.transform(E_problem)\n",
    "E_5= least_Energy(as_problem)\n",
    "\n",
    "print(E_5)\n",
    "\n"
   ]
  },
  {
   "cell_type": "markdown",
   "metadata": {},
   "source": [
    "## 6.  Co-O (Single bonding)"
   ]
  },
  {
   "cell_type": "code",
   "execution_count": 38,
   "metadata": {},
   "outputs": [
    {
     "name": "stdout",
     "output_type": "stream",
     "text": [
      "-1411.311118818726\n"
     ]
    }
   ],
   "source": [
    "Co_O_dimer_atoms = [\"Co\", \"O\"]\n",
    "Co_O_dimer_coords = [Co, O_1]\n",
    "Co_O_dimer_charge = 0\n",
    "Co_O_dimer_multiplicity = 4\n",
    "Co_O_moleculeinfo = MoleculeInfo(Co_O_dimer_atoms, Co_O_dimer_coords, charge=Co_O_dimer_charge, multiplicity=Co_O_dimer_multiplicity)\n",
    "driver = PySCFDriver.from_molecule(Co_O_moleculeinfo, basis=basis)\n",
    "E_problem = driver.run()\n",
    "num_spatial_orbitals = E_problem.num_spatial_orbitals\n",
    "num_particles = E_problem.num_particles\n",
    "as_transformer = ActiveSpaceTransformer((7,4), 8)\n",
    "as_problem = as_transformer.transform(E_problem)\n",
    "E_6 = least_Energy(as_problem)\n",
    "\n",
    "print(E_6)"
   ]
  },
  {
   "cell_type": "markdown",
   "metadata": {},
   "source": [
    "## 1. O-Li(near, bonding)"
   ]
  },
  {
   "cell_type": "code",
   "execution_count": 39,
   "metadata": {},
   "outputs": [
    {
     "name": "stdout",
     "output_type": "stream",
     "text": [
      "-73.24519744420762\n"
     ]
    }
   ],
   "source": [
    "O_Li_dimer_atoms = [\"O\", \"Li\"]\n",
    "O_Li_dimer_coords = [O_1, Li]\n",
    "O_Li_dimer_charge = 0\n",
    "O_Li_dimer_multiplicity = 2\n",
    "\n",
    "O_Li_moleculeinfo = MoleculeInfo(O_Li_dimer_atoms, O_Li_dimer_coords, charge=O_Li_dimer_charge, multiplicity=O_Li_dimer_multiplicity)\n",
    "driver = PySCFDriver.from_molecule(O_Li_moleculeinfo, basis=basis)\n",
    "E_problem = driver.run()\n",
    "num_spatial_orbitals = E_problem.num_spatial_orbitals\n",
    "num_particles = E_problem.num_particles\n",
    "as_transformer = ActiveSpaceTransformer((3,2), 4)\n",
    "as_problem = as_transformer.transform(E_problem)\n",
    "E_1 = least_Energy(as_problem)\n",
    "\n",
    "print(E_1)"
   ]
  },
  {
   "cell_type": "markdown",
   "metadata": {},
   "source": [
    "## 2. O--Li(far, non-bonding)"
   ]
  },
  {
   "cell_type": "code",
   "execution_count": 40,
   "metadata": {},
   "outputs": [
    {
     "name": "stdout",
     "output_type": "stream",
     "text": [
      "-73.89377989460762\n"
     ]
    }
   ],
   "source": [
    "O_Li_dimer_atoms = [\"O\", \"Li\"]\n",
    "O_Li_dimer_coords = [O_2, Li]\n",
    "O_Li_dimer_charge = 0\n",
    "O_Li_dimer_multiplicity = 4\n",
    "\n",
    "O_Li_moleculeinfo = MoleculeInfo(O_Li_dimer_atoms, O_Li_dimer_coords, charge=O_Li_dimer_charge, multiplicity=O_Li_dimer_multiplicity)\n",
    "\n",
    "driver = PySCFDriver.from_molecule(O_Li_moleculeinfo, basis=basis)\n",
    "E_problem = driver.run()\n",
    "num_spatial_orbitals = E_problem.num_spatial_orbitals\n",
    "num_particles = E_problem.num_particles\n",
    "as_transformer = ActiveSpaceTransformer((4,1), 4)\n",
    "as_problem = as_transformer.transform(E_problem)\n",
    "E_2 = least_Energy(as_problem)\n",
    "\n",
    "print(E_2)"
   ]
  },
  {
   "cell_type": "markdown",
   "metadata": {},
   "source": [
    "## 3. Co-Li (non-bonding)"
   ]
  },
  {
   "cell_type": "code",
   "execution_count": 41,
   "metadata": {},
   "outputs": [
    {
     "name": "stdout",
     "output_type": "stream",
     "text": [
      "-1357.667308088144\n"
     ]
    }
   ],
   "source": [
    "Co_Li_dimer_atoms = [\"Co\", \"Li\"]\n",
    "Co_Li_dimer_coords = [Co, Li]\n",
    "Co_Li_dimer_charge = 0\n",
    "Co_Li_dimer_multiplicity = 5\n",
    "energy_arr =[]\n",
    "order=[]\n",
    "Co_Li_moleculeinfo = MoleculeInfo(Co_Li_dimer_atoms, Co_Li_dimer_coords, charge=Co_Li_dimer_charge, multiplicity=Co_Li_dimer_multiplicity)\n",
    "\n",
    "driver = PySCFDriver.from_molecule(Co_Li_moleculeinfo, basis=basis)\n",
    "E_problem = driver.run()\n",
    "num_spatial_orbitals = E_problem.num_spatial_orbitals\n",
    "num_particles = E_problem.num_particles\n",
    "as_transformer = ActiveSpaceTransformer((6,2), 6)\n",
    "as_problem = as_transformer.transform(E_problem)\n",
    "E_3 = least_Energy(as_problem)\n",
    "\n",
    "print(E_3)"
   ]
  },
  {
   "cell_type": "markdown",
   "metadata": {},
   "source": [
    "## 4. O-O"
   ]
  },
  {
   "cell_type": "code",
   "execution_count": 42,
   "metadata": {},
   "outputs": [
    {
     "name": "stdout",
     "output_type": "stream",
     "text": [
      "-131.43760293046435\n"
     ]
    }
   ],
   "source": [
    "O_O_dimer_atoms = [\"O\", \"O\"]\n",
    "O_O_dimer_coords = [O_1, O_2]\n",
    "O_O_dimer_charge = 0\n",
    "O_O_dimer_multiplicity = 3\n",
    "energy_arr =[]\n",
    "order=[]\n",
    "O_O_moleculeinfo = MoleculeInfo(O_O_dimer_atoms, O_O_dimer_coords, charge=O_O_dimer_charge, multiplicity=O_O_dimer_multiplicity)\n",
    "\n",
    "driver = PySCFDriver.from_molecule(O_O_moleculeinfo, basis=basis)\n",
    "E_problem = driver.run()\n",
    "num_spatial_orbitals = E_problem.num_spatial_orbitals\n",
    "num_particles = E_problem.num_particles\n",
    "as_transformer = ActiveSpaceTransformer((6,2), 6)\n",
    "as_problem = as_transformer.transform(E_problem)\n",
    "E_4 = least_Energy(as_problem)\n",
    "\n",
    "print(E_4)"
   ]
  },
  {
   "cell_type": "code",
   "execution_count": 44,
   "metadata": {},
   "outputs": [
    {
     "name": "stdout",
     "output_type": "stream",
     "text": [
      "[np.float64(-73.24519744420762), np.float64(-73.89377989460762), np.float64(-1357.667308088144), np.float64(-131.43760293046435), np.float64(-1411.3324180539078), np.float64(-1411.311118818726)]\n"
     ]
    }
   ],
   "source": [
    "freeze_arr = [E_1,E_2,E_3,E_4,E_5,E_6]\n",
    "\n",
    "print(freeze_arr)"
   ]
  },
  {
   "cell_type": "code",
   "execution_count": 52,
   "metadata": {},
   "outputs": [
    {
     "name": "stdout",
     "output_type": "stream",
     "text": [
      "min energy of Li-O/UCCSD_COBYLA.pickle: -81.03652971238412\n",
      "min energy of Li-O/UCCSD_SPSA.pickle: -81.06298214054364\n",
      "min energy of Li-O/UCCSD_L-BFGS-B.pickle: -81.0697388045102\n",
      "min energy of Li-O/Two local_COBYLA.pickle: -81.02362627643939\n",
      "min energy of Li-O/Two local_SPSA.pickle: -80.97841790393854\n",
      "min energy of Li-O/Two local_L-BFGS-B.pickle: -81.06970269006725\n",
      "min energy of Li~O/UCCSD_COBYLA.pickle: -81.1175310205899\n",
      "min energy of Li~O/UCCSD_SPSA.pickle: -81.11795145483565\n",
      "min energy of Li~O/UCCSD_L-BFGS-B.pickle: -81.11795613080199\n",
      "min energy of Li~O/Two local_COBYLA.pickle: -81.09423816132369\n",
      "min energy of Li~O/Two local_SPSA.pickle: -81.03055259412993\n",
      "min energy of Li~O/Two local_L-BFGS-B.pickle: -81.11757748919891\n",
      "min energy of Co~Li/UCCSD_COBYLA.pickle: -1373.4297578256983\n",
      "min energy of Co~Li/UCCSD_SPSA.pickle: -1373.5679455706036\n",
      "min energy of Co~Li/UCCSD_L-BFGS-B.pickle: -1373.6187392061047\n",
      "min energy of Co~Li/Two local_COBYLA.pickle: -1373.5763158234156\n",
      "min energy of Co~Li/Two local_SPSA.pickle: -1373.5125215112082\n",
      "min energy of Co~Li/Two local_L-BFGS-B.pickle: -1373.609969836427\n",
      "min energy of O~O/UCCSD_COBYLA.pickle: -147.43225048055666\n",
      "min energy of O~O/UCCSD_SPSA.pickle: -147.48574917969177\n",
      "min energy of O~O/UCCSD_L-BFGS-B.pickle: -147.59915624749283\n",
      "min energy of O~O/Two local_COBYLA.pickle: -147.52889124117664\n",
      "min energy of O~O/Two local_SPSA.pickle: -147.33423406462734\n",
      "min energy of O~O/Two local_L-BFGS-B.pickle: -147.60585967855624\n",
      "min energy of Co=O/UCCSD_COBYLA.pickle: -1439.3558188941565\n",
      "min energy of Co=O/UCCSD_SPSA.pickle: -1439.796790059111\n",
      "min energy of Co=O/UCCSD_L-BFGS-B.pickle: -1439.9572616292048\n",
      "min energy of Co=O/Two local_COBYLA.pickle: -1439.3151888532889\n",
      "min energy of Co=O/Two local_SPSA.pickle: -1439.321780587422\n",
      "min energy of Co=O/Two local_L-BFGS-B.pickle: -1439.6954077059502\n",
      "min energy of Co-O/UCCSD_COBYLA.pickle: -1439.4592136047736\n",
      "min energy of Co-O/UCCSD_SPSA.pickle: -1439.7889256231963\n",
      "min energy of Co-O/UCCSD_L-BFGS-B.pickle: -1439.888880371399\n",
      "min energy of Co-O/Two local_COBYLA.pickle: -1439.3961538790911\n",
      "min energy of Co-O/Two local_SPSA.pickle: -1439.7277860007634\n",
      "min energy of Co-O/Two local_L-BFGS-B.pickle: -1439.918488156207\n"
     ]
    }
   ],
   "source": [
    "import pickle\n",
    "import numpy\n",
    "compound_list_var = [\"Co-O\", \"Co=O\", \"Co~Li\", \"Li-O\", \"Li~O\", \"O~O\"]\n",
    "compound_list = [\"Li-O\",\"Li~O\", \"Co~Li\", \"O~O\", \"Co=O\",\"Co-O\"]\n",
    "ansatz_list = [ \"UCCSD\",\"Two local\"]\n",
    "optimizer_list = [\"COBYLA\", \"SPSA\", \"L-BFGS-B\"]\n",
    "\n",
    "file_dir = \"/Users/yoonho/Documents/문서 - 최윤호’s MacBook Air/VQE/FMOVQE/LiCoO2_data_x1/\"\n",
    "\n",
    "for i in range(6):\n",
    "    compound = compound_list[i]\n",
    "    for j in range(2):\n",
    "        ansatz = ansatz_list[j]\n",
    "        for k in range(3):\n",
    "            optimizer = optimizer_list[k]\n",
    "\n",
    "            file_name = f\"{compound}/{ansatz}_{optimizer}.pickle\"\n",
    "\n",
    "            with open(file_dir + file_name, 'rb') as f:\n",
    "                intermediate_data = pickle.load(f)\n",
    "            \n",
    "            print(f\"min energy of {file_name}: {(min(intermediate_data['energy ']))+freeze_arr[i]}\")"
   ]
  },
  {
   "cell_type": "code",
   "execution_count": null,
   "metadata": {},
   "outputs": [],
   "source": []
  }
 ],
 "metadata": {
  "kernelspec": {
   "display_name": "FMOVQE",
   "language": "python",
   "name": "python3"
  },
  "language_info": {
   "codemirror_mode": {
    "name": "ipython",
    "version": 3
   },
   "file_extension": ".py",
   "mimetype": "text/x-python",
   "name": "python",
   "nbconvert_exporter": "python",
   "pygments_lexer": "ipython3",
   "version": "3.9.6"
  },
  "orig_nbformat": 4
 },
 "nbformat": 4,
 "nbformat_minor": 2
}
