{
 "cells": [
  {
   "cell_type": "code",
   "execution_count": 2,
   "metadata": {},
   "outputs": [
    {
     "name": "stderr",
     "output_type": "stream",
     "text": [
      "/Users/yoonho/Documents/Kisses/lib/python3.9/site-packages/urllib3/__init__.py:35: NotOpenSSLWarning: urllib3 v2 only supports OpenSSL 1.1.1+, currently the 'ssl' module is compiled with 'LibreSSL 2.8.3'. See: https://github.com/urllib3/urllib3/issues/3020\n",
      "  warnings.warn(\n"
     ]
    }
   ],
   "source": [
    "from pyscf import gto, scf, fci, mcscf\n",
    "import numpy as np\n",
    "import matplotlib.pyplot as plt\n",
    "import qiskit\n",
    "from qiskit import QuantumCircuit\n",
    "from matplotlib.ticker import ScalarFormatter\n",
    "from scipy.optimize import minimize\n",
    "from qiskit.providers.fake_provider import GenericBackendV2\n",
    "from qiskit_nature.second_q.formats.molecule_info import MoleculeInfo\n",
    "from qiskit_nature.second_q.transformers import ActiveSpaceTransformer\n",
    "from qiskit_nature.second_q.operators import FermionicOp\n",
    "from qiskit_nature.second_q.drivers import PySCFDriver\n",
    "from qiskit_nature.second_q.mappers import ParityMapper, JordanWignerMapper, BravyiKitaevMapper\n",
    "from qiskit_nature.second_q.circuit.library import UCCSD, HartreeFock\n",
    "from qiskit.transpiler.preset_passmanagers import generate_preset_pass_manager\n",
    "from qiskit.circuit.library import TwoLocal\n",
    "from qiskit.quantum_info import Statevector\n",
    "import os\n",
    "from qiskit import transpile\n",
    "from qiskit_aer import AerSimulator, AerProvider\n",
    "from math import comb\n",
    "import time\n",
    "\n",
    "from scipy.sparse.linalg import eigsh\n",
    "from qiskit_ibm_runtime import QiskitRuntimeService\n"
   ]
  },
  {
   "cell_type": "markdown",
   "metadata": {},
   "source": [
    "## 함수"
   ]
  },
  {
   "cell_type": "code",
   "execution_count": 3,
   "metadata": {},
   "outputs": [],
   "source": [
    "from qiskit_ibm_runtime import QiskitRuntimeService\n",
    "service = QiskitRuntimeService.save_account(\n",
    "    token='Wx06bez50boLXEdw3IbqpoDa8gwHcURc9lQT0D_SRxJP', # Your token is confidential.\n",
    "    # Do not share your key in public code.\n",
    "    instance=\"crn:v1:bluemix:public:quantum-computing:us-east:a/624a449c58db4cebbbcd6d44cd96889e:354c61a9-e812-433b-a108-1e267e668f64::\",\n",
    "    name=\".\", # Optionally name this set of account credentials.\n",
    "    set_as_default=True, # Optionally set these as your default credentials.\n",
    "    overwrite=True\n",
    "  )"
   ]
  },
  {
   "cell_type": "code",
   "execution_count": 4,
   "metadata": {},
   "outputs": [],
   "source": [
    "#service = QiskitRuntimeService()\n",
    "#backend = service.backend(\"ibm_fez\")\n",
    "backend = AerSimulator(method = \"statevector\",noise_model=None)"
   ]
  },
  {
   "cell_type": "code",
   "execution_count": 5,
   "metadata": {},
   "outputs": [],
   "source": [
    "def fermion_to_qubit(problem, second_q_op, mapper_name):\n",
    "    if mapper_name == \"JW\":\n",
    "        mapper = JordanWignerMapper()\n",
    "    if mapper_name == \"Pa\":\n",
    "        mapper = ParityMapper(num_particles=problem.num_particles)\n",
    "    if mapper_name == \"BK\":\n",
    "        mapper = BravyiKitaevMapper()\n",
    "    qubit_op = mapper.map(second_q_op)\n",
    "    return qubit_op , mapper\n",
    "    # 고전값 비교용 FCI \n",
    "    # H2 인경우로만 해뒀고, 거리 주면 에너지 계산할 수 있음. \n",
    "    \n",
    "def hamming_distance(state1, state2):\n",
    "    \"\"\"Number of differing bits\"\"\"\n",
    "    return sum(c1 != c2 for c1, c2 in zip(state1, state2))\n",
    "\n",
    "def apply_pauli_string(state, pauli_string):\n",
    "    \"\"\"\n",
    "    state: \"010101...\" (ket)\n",
    "    pauli_string: \"XIZY...\"\n",
    "    \n",
    "    Returns:\n",
    "        (new_state, phase factor)\n",
    "    \"\"\"\n",
    "    state_list = list(state)\n",
    "    phase = 1.0\n",
    "\n",
    "    for i, p in enumerate(pauli_string):\n",
    "        if p == 'I':\n",
    "            continue\n",
    "        elif p == 'Z':\n",
    "            if state[i] == '1':\n",
    "                phase *= -1\n",
    "        elif p == 'X':\n",
    "            # X → flip\n",
    "            state_list[i] = '1' if state[i] == '0' else '0'\n",
    "        elif p == 'Y':\n",
    "            # Y → flip + phase\n",
    "            if state[i] == '0':\n",
    "                phase *= 1j\n",
    "            else:\n",
    "                phase *= -1j\n",
    "            state_list[i] = '1' if state[i] == '0' else '0'\n",
    "\n",
    "    new_state = ''.join(state_list)\n",
    "    return new_state, phase\n",
    "\n",
    "def inner_product_pauli_hamiltonian(pauli_op, basis_bra, basis_ket):\n",
    "    \"\"\"\n",
    "    Compute <Phi_I | H | Phi_J> using Pauli-mapped Hamiltonian.\n",
    "\n",
    "    pauli_op: PauliSumOp or similar (e.g. Qiskit's PauliSumOp.to_list())\n",
    "    basis_bra, basis_ket: \"010101...\" strings\n",
    "    \n",
    "    Returns: float (real part of <bra|H|ket>)\n",
    "    \"\"\"\n",
    "    \n",
    "    \n",
    "    total = 0.0\n",
    "    \n",
    "    # PauliSumOp.to_list() → list of (Pauli string, coeff)\n",
    "    for pauli_string, coeff in pauli_op.to_list():\n",
    "        new_state, phase = apply_pauli_string(basis_ket, pauli_string)\n",
    "        if new_state == basis_bra:\n",
    "            # term contribute\n",
    "            total += coeff * phase\n",
    "    \n",
    "    return total.real\n",
    "\n",
    "def project_hamiltonian(basis,hamiltonian):\n",
    "    n = len(basis)\n",
    "    H = np.zeros((n, n))\n",
    "    for i in range(n):\n",
    "        for j in range(n):\n",
    "            basis_bra = basis[i]\n",
    "            basis_ket = basis[j]\n",
    "            inner_product = inner_product_pauli_hamiltonian(hamiltonian, basis_bra , basis_ket)\n",
    "            H_ij = np.real(inner_product)\n",
    "            H[i, j] = H_ij \n",
    "\n",
    "            #print(\"<{}|H|{}> = {}\".format(basis_bra,basis_ket,H_ij))\n",
    "    return H \n",
    "\n",
    "def particle_count(s):\n",
    "    n = len(s)\n",
    "    half = n // 2\n",
    "    left = s[:half].count('1')\n",
    "    right = s[half:].count('1')\n",
    "    return left, right\n",
    "\n",
    "def flip_one_pair(s, zero_idx, one_idx):\n",
    "    \"\"\"\n",
    "    문자열 s에서 zero_idx는 '0'이어야 하고 → '1'로 바꾸고,\n",
    "    one_idx는 '1'이어야 하고 → '0'으로 바꿈\n",
    "    \"\"\"\n",
    "    s = list(s)\n",
    "    assert s[zero_idx] == '0', f\"Index {zero_idx} is not 0\"\n",
    "    assert s[one_idx] == '1', f\"Index {one_idx} is not 1\"\n",
    "    s[zero_idx] = '1'\n",
    "    s[one_idx] = '0'\n",
    "    return ''.join(s)\n",
    "\n",
    "def one_step_states_constrained(s):\n",
    "    \"\"\"1번 연산으로 도달 가능한 상태들 (앞/뒤 particle 수 유지)\"\"\"\n",
    "    zeros = [i for i, c in enumerate(s) if c == '0']\n",
    "    ones = [i for i, c in enumerate(s) if c == '1']\n",
    "    target_left, target_right = particle_count(s)\n",
    "\n",
    "    states = set()\n",
    "    for zi in zeros:\n",
    "        for oi in ones:\n",
    "            if zi == oi:\n",
    "                continue\n",
    "            new_s = flip_one_pair(s, zi, oi)\n",
    "            l, r = particle_count(new_s)\n",
    "            if l == target_left and r == target_right:\n",
    "                states.add(new_s)\n",
    "    return states\n",
    "\n",
    "def two_step_states_constrained(s):\n",
    "    \"\"\"2번 연산으로 도달 가능한 상태들 (앞/뒤 particle 수 유지)\"\"\"\n",
    "    step1 = one_step_states_constrained(s)\n",
    "    states = set()\n",
    "    for inter in step1:\n",
    "        states.update(one_step_states_constrained(inter))\n",
    "    states.discard(s)  # 자기 자신은 제외\n",
    "    return states\n",
    "\n",
    "def calc_total_space(n,k):\n",
    "    alpha_spin_orbital =int(n/2)\n",
    "    alpha_electron = int(k/2)\n",
    "    dim = (comb(alpha_spin_orbital, alpha_electron))**2\n",
    "    return dim\n",
    "    "
   ]
  },
  {
   "cell_type": "code",
   "execution_count": 6,
   "metadata": {},
   "outputs": [],
   "source": [
    "def Circuit_Preperation(hamiltonian, E_problem,mapper, which_ansatz):\n",
    "    #헤밀토니안이랑 driver 주어지면, 회로 생성. \n",
    "    num_qubits = hamiltonian.num_qubits\n",
    "    num_particles = E_problem.num_particles\n",
    "    num_electrons = np.sum(num_particles)\n",
    "    num_spatial_orbitals = E_problem.num_spatial_orbitals\n",
    "    init_state = HartreeFock(num_spatial_orbitals,num_particles, mapper)\n",
    "    if which_ansatz == \"uccsd\":\n",
    "        ansatz = UCCSD(num_spatial_orbitals,num_particles,mapper,initial_state=init_state,generalized=True)\n",
    "    elif which_ansatz == \"twolocal\": \n",
    "        ansatz = TwoLocal(num_spatial_orbitals*2, ['ry', 'rz'], 'cz', initial_state=init_state)\n",
    "    else : \n",
    "        print(\"ansatz 입력 틀림 uccsd or twolocal \")\n",
    "    return ansatz\n",
    "\n",
    "def sampling_Filtering(ansatz, parameter, backend, num_particles):\n",
    "    # 측정해서 spin이랑 그런거 맞는거만 필터링\n",
    "    global convergence_state\n",
    "    global cost_history_dict \n",
    "    global repulsion\n",
    "    global banned_state\n",
    "    time2 = time.time()\n",
    "\n",
    "    params = ansatz.parameters \n",
    "    param_dict = dict(zip(params, parameter))\n",
    "    qc = ansatz.assign_parameters(param_dict)\n",
    "    qc.measure_all()\n",
    "\n",
    "    job = backend.run(transpile(qc, backend), shots=20000)\n",
    "    result = job.result()\n",
    "\n",
    "    # Counts 얻기\n",
    "    counts = result.get_counts(qc)\n",
    "    total_shots = sum(counts.values())\n",
    "    probs = [(bitstring, count / total_shots) for bitstring, count in counts.items()]\n",
    "\n",
    "    all_basis = []\n",
    "    all_prob = []\n",
    "\n",
    "    for bitstring, prob in probs:\n",
    "        count_ones = bitstring.count('1')\n",
    "        half = len(bitstring) // 2\n",
    "        left_ones = bitstring[:half].count('1')\n",
    "        right_ones = bitstring[half:].count('1')\n",
    "        if left_ones==num_particles[1] and right_ones == num_particles[0]:\n",
    "            all_basis.append(bitstring)\n",
    "            all_prob.append(prob)\n",
    "    all_basis = np.array(all_basis)\n",
    "    #print(len(all_basis))\n",
    "    all_prob = np.array(all_prob)\n",
    "        # ... 코드 ...\n",
    "    \n",
    "    print(\"-----------------------\")\n",
    "    print(f\"Sampling : {time.time() - time2:.6f}초\")\n",
    "    return all_basis\n",
    "\n",
    "def construct_c_i(all_basis, C_i_1):\n",
    "    c_i = all_basis | C_i_1\n",
    "    return c_i    \n",
    "\n",
    "def screening(all_basis,hamiltonian,k):\n",
    "    time2 = time.time()\n",
    "    screened_space = []\n",
    "    H = project_hamiltonian(all_basis,hamiltonian)\n",
    "    eigenvalue, eigenvector = eigsh(H, k=1, which='SA')  # SA: smallest algebraic\n",
    "    \n",
    "    v0 = eigenvector[:, 0]  # 가장 작은 고유값에 대응하는 고유벡터\n",
    "    indices = np.argsort(np.abs(v0))[-k:]  # 절댓값 기준으로 큰 순서대로 k개\n",
    "    important_states = indices[::-1]  # 큰 순서대로 정렬\n",
    "    \n",
    "    #print(important_states)\n",
    "    for idx in important_states:\n",
    "        screened_basis = all_basis[idx]\n",
    "        screened_space.append(screened_basis)\n",
    "        \n",
    "    print(f\"Screening : {time.time() - time2:.6f}초\")\n",
    "    \n",
    "    \n",
    "    return screened_space\n",
    "\n",
    "\n",
    "def energy_calc(screened_space,hamiltonian):\n",
    "    time2 = time.time()\n",
    "    mat = project_hamiltonian(screened_space,hamiltonian)  \n",
    "    eigvals, eigvecs = np.linalg.eigh(mat)\n",
    "    # 가장 작은 고윳값\n",
    "    smallest_eigenvalue = eigvals[0]\n",
    "    smallest_eigvec = eigvecs[0]\n",
    "    #print(\"가장 작은 고윳값:\", smallest_eigenvalue+repulsion)\n",
    "    print(f\"energy calc: {time.time() - time2:.6f}초\")\n",
    "    \n",
    "    return smallest_eigenvalue, smallest_eigvec\n",
    "\n",
    "def post_screening(smallest_eigvec, screened_space, eps):\n",
    "    time2 = time.time()\n",
    "    low_contrib_space = []\n",
    "    low_contrib_indices = np.where(np.abs(smallest_eigvec) < eps)[0]\n",
    "    for idx in low_contrib_indices:\n",
    "        low_contrib_state = screened_space[idx]\n",
    "        low_contrib_space.append(low_contrib_state)\n",
    "    post_screened_space = list(set(screened_space) - set(low_contrib_space))\n",
    "    print(f\"post screening: {time.time() - time2:.6f}초\")\n",
    "    return post_screened_space \n",
    "\n",
    "def classical_expansion(smallest_eigvec,screened_space,post_screened_space):\n",
    "    time2 = time.time()\n",
    "    max_index = np.argmax(np.abs(smallest_eigvec))\n",
    "    s = screened_space[max_index]\n",
    "    s1_constrained = one_step_states_constrained(s)\n",
    "    s2_constrained = two_step_states_constrained(s)\n",
    "    #print(s1_constrained)\n",
    "    #print(s2_constrained)\n",
    "    excitation_expansion = s1_constrained.union(s2_constrained)\n",
    "    total_expansion = excitation_expansion.union(post_screened_space)    \n",
    "    print(f\"calssical expansion: {time.time() - time2:.6f}초\")\n",
    "    return list(total_expansion), list(excitation_expansion)"
   ]
  },
  {
   "cell_type": "code",
   "execution_count": 7,
   "metadata": {},
   "outputs": [],
   "source": [
    "class CostWithHistoryList:\n",
    "    def __init__(self, hamiltonian, ansatz, backend, num_electrons, num_determinant, eps, num_particles,core,repulsion ,threshold=1e-4):\n",
    "\n",
    "        self.prev_list = []\n",
    "        self.hamiltonian = hamiltonian\n",
    "        self.ansatz = ansatz\n",
    "        self.backend = backend\n",
    "        self.num_electrons = num_electrons\n",
    "        self.num_determinant = num_determinant\n",
    "        self.eps = eps\n",
    "        self.num_particles = num_particles\n",
    "        self.core =core\n",
    "        self.repulsion = repulsion\n",
    "        # 저장소\n",
    "        self.ith_space = None\n",
    "        self.expanded_space = None\n",
    "        self.energy_history = []\n",
    "        self.iteration = 0\n",
    "        self.threshold = threshold\n",
    "\n",
    "        # 수렴 추적용\n",
    "        self.prev_energies = []\n",
    "        self.converged_count = 0\n",
    "\n",
    "    def __call__(self, parameter):\n",
    "        time2 = time.time()\n",
    "        current_list = list(self.compute_current_list(parameter))\n",
    "        self.prev_list = list(set(self.prev_list + current_list))\n",
    "\n",
    "        # 에너지 계산\n",
    "        screened_space = screening(self.prev_list, self.hamiltonian, self.num_determinant)\n",
    "        Energy, ground_state = energy_calc(screened_space, self.hamiltonian)\n",
    "        post_screened_space = post_screening(ground_state, screened_space, self.eps)\n",
    "        \n",
    "\n",
    "        # 저장\n",
    "        self.ith_space, self.expanded_space = classical_expansion(ground_state,screened_space,post_screened_space)\n",
    "        self.iteration += 1\n",
    "        self.energy_history.append(Energy)\n",
    "\n",
    "        # 에너지 변화량 추적\n",
    "        if self.prev_energies:\n",
    "            delta = abs(Energy - self.prev_energies[-1])\n",
    "            if delta < self.threshold:\n",
    "                self.converged_count += 1\n",
    "            else:\n",
    "                self.converged_count = 0\n",
    "\n",
    "            if self.converged_count >= 3:\n",
    "        \n",
    "                print(f\"🔚 조기 종료: ΔE < {self.threshold} 가 3회 연속 만족됨.\")\n",
    "                raise StopIteration\n",
    "\n",
    "        self.prev_energies.append(Energy)\n",
    "\n",
    "        print(f\"each iteration: {time.time() - time2:.6f}초\")\n",
    "        print(f\"Iter {self.iteration}: Energy = {Energy +self.repulsion + self.core:.6f}\")\n",
    "        print(\"-----------------------\")\n",
    "        \n",
    "        return Energy\n",
    "\n",
    "    def compute_current_list(self, parameter):\n",
    "        return sampling_Filtering(self.ansatz, parameter, self.backend, self.num_particles)"
   ]
  },
  {
   "cell_type": "code",
   "execution_count": 8,
   "metadata": {},
   "outputs": [],
   "source": [
    "def HIVQE(E_problem,i,k):\n",
    "    global E_NME_List\n",
    "    E_FCI = E_NME_List[i]\n",
    "    num_spin_orbital = 2*E_problem.num_spatial_orbitals\n",
    "    num_particles = E_problem.num_particles\n",
    "    num_electrons = np.sum(num_particles)\n",
    "    total_dim = calc_total_space(num_spin_orbital,num_electrons)\n",
    "    # Transformer 적용\n",
    "    #E_problem = active_transformer.transform(problem)\n",
    "    # 여기는 이후, As_transformer 로 변경. \n",
    "    fermionic_hamiltonian = E_problem.hamiltonian\n",
    "    repulsion = fermionic_hamiltonian.constants['nuclear_repulsion_energy']\n",
    "    core = fermionic_hamiltonian.constants['ActiveSpaceTransformer']\n",
    "    second_q_op = fermionic_hamiltonian.second_q_op()\n",
    "    hamiltonian,mapper = fermion_to_qubit(E_problem, second_q_op, \"JW\")\n",
    "\n",
    "    time1 = time.time() #헤밀토니안 구성\n",
    "    # ... 코드 ...\n",
    "    eps = 10**(-5)\n",
    "    Chem_accuracy = 0.0016\n",
    "    ansatz = Circuit_Preperation(hamiltonian, E_problem,mapper, \"uccsd\")\n",
    "    num_particles = E_problem.num_particles\n",
    "    num_electrons = np.sum(num_particles)\n",
    "\n",
    "    num_params = ansatz.num_parameters\n",
    "    x0 = 2 * np.pi * np.random.random(num_params)\n",
    "\n",
    "    cost_func = CostWithHistoryList(\n",
    "        hamiltonian=hamiltonian,\n",
    "        ansatz=ansatz,\n",
    "        backend=backend,\n",
    "        num_electrons=num_electrons,\n",
    "        num_determinant=k,\n",
    "        eps=eps,\n",
    "        num_particles = num_particles,\n",
    "        core = core,\n",
    "        repulsion= repulsion\n",
    "    )\n",
    "\n",
    "\n",
    "    try:\n",
    "        res = minimize(\n",
    "            cost_func,\n",
    "            x0,\n",
    "            method=\"cobyla\",\n",
    "            options={\"maxiter\": 20, \"disp\": True}\n",
    "        )\n",
    "        \n",
    "    except StopIteration:\n",
    "        print(\"⚠️ Optimization stopped early due to convergence criteria.\")\n",
    "\n",
    "        \n",
    "    plt.plot(cost_func.energy_history+core+repulsion, marker='x', linestyle='-' ,label = \"HIVQE\")\n",
    "    #plt.axhline(E_HF, label = \"HF\")\n",
    "    plt.axhline(E_FCI, color ='r',ls= '--',label = \"Numpy_minimum_eigensolver\")\n",
    "    plt.ticklabel_format(style='plain', axis='y')  # 과학적 표기 X\n",
    "    plt.gca().yaxis.set_major_formatter(ScalarFormatter())  # 일반 숫자 포맷\n",
    "    plt.gca().ticklabel_format(useOffset=False, style='plain')  # 진짜 값으로\n",
    "    plt.title(\"Energy\")\n",
    "    plt.xlabel(\"Iteration\")\n",
    "    plt.ylabel(\"Energy(hartree)\")\n",
    "    plt.legend(loc='upper center', bbox_to_anchor=(0.5, 1.16), ncol=3)\n",
    "    plt.grid()\n",
    "    plt.show()\n",
    "\n",
    "\n",
    "    error = cost_func.energy_history + core + repulsion - E_FCI\n",
    "\n",
    "    fig, axes = plt.subplots(1, 2, figsize=(12, 5))  # 1행 2열, 가로 배치\n",
    "\n",
    "    # 좌측: 로그 스케일 그래프\n",
    "    axes[0].plot(error, marker='x', linestyle='-', label=\"HIVQE\")\n",
    "    axes[0].axhline(Chem_accuracy, color='red', ls='--', label='chemical accuracy')\n",
    "    axes[0].set_yscale(\"log\")\n",
    "    axes[0].set_title(\"error (log scale)\")\n",
    "    axes[0].set_xlabel(\"Iteration\")\n",
    "    axes[0].set_ylabel(\"Error (hartree) [log scale]\")\n",
    "    axes[0].legend(loc='upper center', bbox_to_anchor=(0.5, 1.16), ncol=3)\n",
    "    axes[0].grid()\n",
    "\n",
    "    # 우측: 일반 스케일 그래프\n",
    "    axes[1].plot(error, marker='x', linestyle='-', label=\"HIVQE\")\n",
    "    axes[1].axhline(Chem_accuracy, color='red', ls='--', label='chemical accuracy')\n",
    "    axes[1].set_title(\"error\")\n",
    "    axes[1].set_xlabel(\"Iteration\")\n",
    "    axes[1].set_ylabel(\"Error (hartree)\")\n",
    "    axes[1].legend(loc='upper center', bbox_to_anchor=(0.5, 1.16), ncol=3)\n",
    "    axes[1].grid()\n",
    "\n",
    "    plt.tight_layout()\n",
    "    plt.show()\n",
    "    \n",
    "    energy = cost_func.energy_history[-1]\n",
    "    return energy"
   ]
  },
  {
   "cell_type": "markdown",
   "metadata": {},
   "source": [
    "## 구조"
   ]
  },
  {
   "cell_type": "code",
   "execution_count": 9,
   "metadata": {},
   "outputs": [],
   "source": [
    "basis = 'sto-3g'\n",
    "\n",
    "C = 1.9220\n",
    "L = 2.0946\n",
    "theta = np.deg2rad(94.24)\n",
    "\n",
    "Co = (0,0,0)\n",
    "O_1 = (C,0,0)\n",
    "O_2 = (C*np.cos(theta),C*np.sin(theta),0)\n",
    "Li = (C+L*np.cos(np.pi-theta),-L*np.sin(np.pi-theta),0)\n",
    "\n",
    "\n",
    "E_NME_List = [-81.08406815392553, -81.12007028037212, -1373.6222114953666, -147.60877244386893, -1440.048109992839, -1440.0682964189552]"
   ]
  },
  {
   "cell_type": "markdown",
   "metadata": {},
   "source": [
    "### 1.O_LI"
   ]
  },
  {
   "cell_type": "code",
   "execution_count": 10,
   "metadata": {},
   "outputs": [
    {
     "name": "stdout",
     "output_type": "stream",
     "text": [
      "36\n"
     ]
    }
   ],
   "source": [
    "O_Li_dimer_atoms = [\"O\", \"Li\"]\n",
    "O_Li_dimer_coords = [O_1, Li]\n",
    "O_Li_dimer_charge = 0\n",
    "O_Li_dimer_multiplicity = 2\n",
    "\n",
    "O_Li_moleculeinfo = MoleculeInfo(O_Li_dimer_atoms, O_Li_dimer_coords, charge=O_Li_dimer_charge, multiplicity=O_Li_dimer_multiplicity)\n",
    "driver = PySCFDriver.from_molecule(O_Li_moleculeinfo, basis=basis)\n",
    "E_problem = driver.run()\n",
    "num_spatial_orbitals = E_problem.num_spatial_orbitals\n",
    "num_particles = E_problem.num_particles\n",
    "as_transformer = ActiveSpaceTransformer((4,1), 4)\n",
    "as_problem = as_transformer.transform(E_problem)\n",
    "num_spin_orbital = 2*as_problem.num_spatial_orbitals\n",
    "num_particles = as_problem.num_particles\n",
    "num_electrons = np.sum(num_particles)\n",
    "total_dim = calc_total_space(num_spin_orbital,num_electrons)\n",
    "print(total_dim)"
   ]
  },
  {
   "cell_type": "code",
   "execution_count": 11,
   "metadata": {},
   "outputs": [
    {
     "name": "stdout",
     "output_type": "stream",
     "text": [
      "-----------------------\n",
      "Sampling : 0.204687초\n",
      "Screening : 0.202210초\n",
      "energy calc: 0.195349초\n",
      "post screening: 0.000019초\n",
      "calssical expansion: 0.000135초\n",
      "each iteration: 0.602540초\n",
      "Iter 1: Energy = -81.084048\n",
      "-----------------------\n",
      "-----------------------\n",
      "Sampling : 0.187710초\n",
      "Screening : 0.201646초\n",
      "energy calc: 0.191440초\n",
      "post screening: 0.000014초\n",
      "calssical expansion: 0.000161초\n",
      "each iteration: 0.581117초\n",
      "Iter 2: Energy = -81.084048\n",
      "-----------------------\n",
      "-----------------------\n",
      "Sampling : 0.197464초\n",
      "Screening : 0.200631초\n",
      "energy calc: 0.194065초\n",
      "post screening: 0.000019초\n",
      "calssical expansion: 0.000136초\n",
      "each iteration: 0.592453초\n",
      "Iter 3: Energy = -81.084048\n",
      "-----------------------\n",
      "-----------------------\n",
      "Sampling : 0.230471초\n",
      "Screening : 0.262777초\n"
     ]
    },
    {
     "name": "stderr",
     "output_type": "stream",
     "text": [
      "Traceback (most recent call last):\n",
      "  File \"/Users/yoonho/Documents/Kisses/lib/python3.9/site-packages/scipy/optimize/_cobyla_py.py\", line 281, in calcfc\n",
      "capi_return is NULL\n",
      "Call-back cb_calcfc_in__cobyla__user__routines failed.\n",
      "Fatal Python error: F2PySwapThreadLocalCallbackPtr: F2PySwapThreadLocalCallbackPtr: PyLong_AsVoidPtr failed\n",
      "Python runtime state: initialized\n",
      "    f = sf.fun(x)\n",
      "  File \"/Users/yoonho/Documents/Kisses/lib/python3.9/site-packages/scipy/optimize/_differentiable_functions.py\", line 278, in fun\n",
      "    self._update_fun()\n",
      "  File \"/Users/yoonho/Documents/Kisses/lib/python3.9/site-packages/scipy/optimize/_differentiable_functions.py\", line 262, in _update_fun\n",
      "    self._update_fun_impl()\n",
      "  File \"/Users/yoonho/Documents/Kisses/lib/python3.9/site-packages/scipy/optimize/_differentiable_functions.py\", line 163, in update_fun\n",
      "    self.f = fun_wrapped(self.x)\n",
      "  File \"/Users/yoonho/Documents/Kisses/lib/python3.9/site-packages/scipy/optimize/_differentiable_functions.py\", line 145, in fun_wrapped\n",
      "    fx = fun(np.copy(x), *args)\n",
      "  File \"/var/folders/ym/2mkphtxj6yl3s830m3rpnw8c0000gn/T/ipykernel_1125/3272035759.py\", line 52, in __call__\n",
      "StopIteration\n"
     ]
    },
    {
     "name": "stdout",
     "output_type": "stream",
     "text": [
      "energy calc: 0.252768초\n",
      "post screening: 0.000016초\n",
      "calssical expansion: 0.000137초\n",
      "🔚 조기 종료: ΔE < 0.0001 가 3회 연속 만족됨.\n"
     ]
    },
    {
     "ename": "",
     "evalue": "",
     "output_type": "error",
     "traceback": [
      "\u001b[1;31m코드를 실행할 수 없습니다. 세션이 삭제되었습니다. 커널을 다시 시작해 보세요."
     ]
    },
    {
     "ename": "",
     "evalue": "",
     "output_type": "error",
     "traceback": [
      "\u001b[1;31m현재 셀 또는 이전 셀에서 코드를 실행하는 동안 Kernel이 충돌했습니다. 셀의 코드를 검토하여 오류의 가능한 원인을 식별하세요. 자세한 내용을 보려면 <a href='https://aka.ms/vscodeJupyterKernelCrash'> 여기 </a> 를 클릭하세요. 자세한 내용은 Jupyter <a href='command:jupyter.viewOutput'>로그</a>를 참조하세요."
     ]
    }
   ],
   "source": [
    "E_1 = HIVQE(as_problem,0,36)"
   ]
  },
  {
   "cell_type": "markdown",
   "metadata": {},
   "source": [
    "## 2. O--Li(far, non-bonding)"
   ]
  },
  {
   "cell_type": "code",
   "execution_count": null,
   "metadata": {},
   "outputs": [
    {
     "name": "stdout",
     "output_type": "stream",
     "text": [
      "36\n"
     ]
    }
   ],
   "source": [
    "O_Li_dimer_atoms = [\"O\", \"Li\"]\n",
    "O_Li_dimer_coords = [O_2, Li]\n",
    "O_Li_dimer_charge = 0\n",
    "O_Li_dimer_multiplicity = 4\n",
    "\n",
    "O_Li_moleculeinfo = MoleculeInfo(O_Li_dimer_atoms, O_Li_dimer_coords, charge=O_Li_dimer_charge, multiplicity=O_Li_dimer_multiplicity)\n",
    "\n",
    "\n",
    "driver = PySCFDriver.from_molecule(O_Li_moleculeinfo, basis=basis)\n",
    "E_problem = driver.run()\n",
    "num_spatial_orbitals = E_problem.num_spatial_orbitals\n",
    "num_particles = E_problem.num_particles\n",
    "as_transformer = ActiveSpaceTransformer((4,1), 4)\n",
    "as_problem = as_transformer.transform(E_problem)\n",
    "\n",
    "num_spin_orbital = 2*as_problem.num_spatial_orbitals\n",
    "num_particles = as_problem.num_particles\n",
    "num_electrons = np.sum(num_particles)\n",
    "total_dim = calc_total_space(num_spin_orbital,num_electrons)\n",
    "print(total_dim)"
   ]
  },
  {
   "cell_type": "code",
   "execution_count": null,
   "metadata": {},
   "outputs": [
    {
     "name": "stdout",
     "output_type": "stream",
     "text": [
      "-----------------------\n",
      "Sampling : 0.204763초\n",
      "Screening : 0.005702초\n",
      "energy calc: 0.005101초\n",
      "post screening: 0.000010초\n",
      "calssical expansion: 0.000058초\n",
      "each iteration: 0.215709초\n",
      "Iter 1: Energy = -81.120087\n",
      "-----------------------\n",
      "-----------------------\n",
      "Sampling : 0.166649초\n",
      "Screening : 0.005426초\n",
      "energy calc: 0.004974초\n",
      "post screening: 0.000008초\n",
      "calssical expansion: 0.000054초\n",
      "each iteration: 0.177174초\n",
      "Iter 2: Energy = -81.120087\n",
      "-----------------------\n",
      "-----------------------\n",
      "Sampling : 0.172631초\n",
      "Screening : 0.005733초\n",
      "energy calc: 0.005030초\n",
      "post screening: 0.000008초\n",
      "calssical expansion: 0.000054초\n",
      "each iteration: 0.183521초\n",
      "Iter 3: Energy = -81.120087\n",
      "-----------------------\n",
      "-----------------------\n",
      "Sampling : 0.177502초\n",
      "Screening : 0.005910초\n",
      "energy calc: 0.005155초\n",
      "post screening: 0.000010초\n",
      "calssical expansion: 0.000056초\n",
      "🔚 조기 종료: ΔE < 0.0001 가 3회 연속 만족됨.\n",
      "⚠️ Optimization stopped early due to convergence criteria.\n"
     ]
    },
    {
     "name": "stderr",
     "output_type": "stream",
     "text": [
      "capi_return is NULL\n",
      "Call-back cb_calcfc_in__cobyla__user__routines failed.\n"
     ]
    },
    {
     "data": {
      "image/png": "[encoded data removed]",
      "text/plain": [
       "<Figure size 640x480 with 1 Axes>"
      ]
     },
     "metadata": {},
     "output_type": "display_data"
    },
    {
     "data": {
      "image/png": "[encoded data removed]",
      "text/plain": [
       "<Figure size 1200x500 with 2 Axes>"
      ]
     },
     "metadata": {},
     "output_type": "display_data"
    }
   ],
   "source": [
    "E_2 = HIVQE(as_problem,1,30)"
   ]
  },
  {
   "cell_type": "markdown",
   "metadata": {},
   "source": [
    "## 3. Co-Li (non-bonding)"
   ]
  },
  {
   "cell_type": "code",
   "execution_count": null,
   "metadata": {},
   "outputs": [
    {
     "name": "stdout",
     "output_type": "stream",
     "text": [
      "225\n"
     ]
    }
   ],
   "source": [
    "Co_Li_dimer_atoms = [\"Co\", \"Li\"]\n",
    "Co_Li_dimer_coords = [Co, Li]\n",
    "Co_Li_dimer_charge = 0\n",
    "Co_Li_dimer_multiplicity = 5\n",
    "energy_arr =[]\n",
    "order=[]\n",
    "Co_Li_moleculeinfo = MoleculeInfo(Co_Li_dimer_atoms, Co_Li_dimer_coords, charge=Co_Li_dimer_charge, multiplicity=Co_Li_dimer_multiplicity)\n",
    "\n",
    "\n",
    "\n",
    "driver = PySCFDriver.from_molecule(Co_Li_moleculeinfo, basis=basis)\n",
    "E_problem = driver.run()\n",
    "num_spatial_orbitals = E_problem.num_spatial_orbitals\n",
    "num_particles = E_problem.num_particles\n",
    "as_transformer = ActiveSpaceTransformer((6,2), 6)\n",
    "as_problem = as_transformer.transform(E_problem)\n",
    "\n",
    "num_spin_orbital = 2*as_problem.num_spatial_orbitals\n",
    "num_particles = as_problem.num_particles\n",
    "num_electrons = np.sum(num_particles)\n",
    "total_dim = calc_total_space(num_spin_orbital,num_electrons)\n",
    "print(total_dim)\n"
   ]
  },
  {
   "cell_type": "code",
   "execution_count": null,
   "metadata": {},
   "outputs": [
    {
     "name": "stdout",
     "output_type": "stream",
     "text": [
      "-----------------------\n",
      "Sampling : 1.165995초\n",
      "Screening : 0.390642초\n",
      "energy calc: 0.377613초\n",
      "post screening: 0.000015초\n",
      "calssical expansion: 0.000183초\n",
      "each iteration: 1.934646초\n",
      "Iter 1: Energy = -1373.592958\n",
      "-----------------------\n",
      "-----------------------\n",
      "Sampling : 1.119882초\n",
      "Screening : 0.379502초\n",
      "energy calc: 0.400642초\n",
      "post screening: 0.000015초\n",
      "calssical expansion: 0.000179초\n",
      "each iteration: 1.900434초\n",
      "Iter 2: Energy = -1373.592958\n",
      "-----------------------\n",
      "-----------------------\n",
      "Sampling : 1.156046초\n",
      "Screening : 0.382434초\n",
      "energy calc: 0.369967초\n",
      "post screening: 0.000014초\n",
      "calssical expansion: 0.000184초\n",
      "each iteration: 1.908850초\n",
      "Iter 3: Energy = -1373.592958\n",
      "-----------------------\n",
      "-----------------------\n",
      "Sampling : 1.118295초\n",
      "Screening : 0.390548초\n",
      "energy calc: 0.379985초\n",
      "post screening: 0.000015초\n",
      "calssical expansion: 0.000181초\n",
      "🔚 조기 종료: ΔE < 0.0001 가 3회 연속 만족됨.\n",
      "⚠️ Optimization stopped early due to convergence criteria.\n"
     ]
    },
    {
     "name": "stderr",
     "output_type": "stream",
     "text": [
      "capi_return is NULL\n",
      "Call-back cb_calcfc_in__cobyla__user__routines failed.\n"
     ]
    },
    {
     "data": {
      "image/png": "[encoded data removed]",
      "text/plain": [
       "<Figure size 640x480 with 1 Axes>"
      ]
     },
     "metadata": {},
     "output_type": "display_data"
    },
    {
     "data": {
      "image/png": "[encoded data removed]",
      "text/plain": [
       "<Figure size 1200x500 with 2 Axes>"
      ]
     },
     "metadata": {},
     "output_type": "display_data"
    }
   ],
   "source": [
    "E_3 = HIVQE(as_problem,2,100)"
   ]
  },
  {
   "cell_type": "markdown",
   "metadata": {},
   "source": [
    "## 4. O-O"
   ]
  },
  {
   "cell_type": "code",
   "execution_count": null,
   "metadata": {},
   "outputs": [
    {
     "name": "stdout",
     "output_type": "stream",
     "text": [
      "225\n"
     ]
    }
   ],
   "source": [
    "O_O_dimer_atoms = [\"O\", \"O\"]\n",
    "O_O_dimer_coords = [O_1, O_2]\n",
    "O_O_dimer_charge = 0\n",
    "O_O_dimer_multiplicity = 3\n",
    "energy_arr =[]\n",
    "order=[]\n",
    "O_O_moleculeinfo = MoleculeInfo(O_O_dimer_atoms, O_O_dimer_coords, charge=O_O_dimer_charge, multiplicity=O_O_dimer_multiplicity)\n",
    "\n",
    "atom = [(O_O_dimer_atoms[0],O_O_dimer_coords[0]),(O_O_dimer_atoms[1],O_O_dimer_coords[1])]\n",
    "\n",
    "E_FCI = E_NME_List[3]\n",
    "\n",
    "\n",
    "driver = PySCFDriver.from_molecule(O_O_moleculeinfo, basis=basis)\n",
    "problem = driver.run()\n",
    "num_spatial_orbitals = problem.num_spatial_orbitals\n",
    "as_transformer = ActiveSpaceTransformer((6,2), 6)\n",
    "as_problem = as_transformer.transform(problem)\n",
    "num_spin_orbital = 2*as_problem.num_spatial_orbitals\n",
    "num_particles = as_problem.num_particles\n",
    "num_electrons = np.sum(num_particles)\n",
    "total_dim = calc_total_space(num_spin_orbital,num_electrons)\n",
    "print(total_dim)\n"
   ]
  },
  {
   "cell_type": "code",
   "execution_count": null,
   "metadata": {},
   "outputs": [
    {
     "name": "stdout",
     "output_type": "stream",
     "text": [
      "-----------------------\n",
      "Sampling : 1.134851초\n",
      "Screening : 7.929364초\n",
      "energy calc: 7.747151초\n",
      "post screening: 0.000076초\n",
      "calssical expansion: 0.000877초\n",
      "each iteration: 16.813237초\n",
      "Iter 1: Energy = -147.608776\n",
      "-----------------------\n",
      "-----------------------\n",
      "Sampling : 1.247923초\n",
      "Screening : 8.305913초\n",
      "energy calc: 7.796738초\n",
      "post screening: 0.000079초\n",
      "calssical expansion: 0.000827초\n",
      "each iteration: 17.351909초\n",
      "Iter 2: Energy = -147.608776\n",
      "-----------------------\n",
      "-----------------------\n",
      "Sampling : 1.248133초\n",
      "Screening : 9.352154초\n",
      "energy calc: 7.833274초\n",
      "post screening: 0.000075초\n",
      "calssical expansion: 0.000818초\n",
      "each iteration: 18.434880초\n",
      "Iter 3: Energy = -147.608776\n",
      "-----------------------\n",
      "-----------------------\n",
      "Sampling : 1.182389초\n",
      "Screening : 9.509708초\n",
      "energy calc: 7.781411초\n",
      "post screening: 0.000076초\n",
      "calssical expansion: 0.000833초\n",
      "🔚 조기 종료: ΔE < 0.0001 가 3회 연속 만족됨.\n",
      "⚠️ Optimization stopped early due to convergence criteria.\n"
     ]
    },
    {
     "name": "stderr",
     "output_type": "stream",
     "text": [
      "capi_return is NULL\n",
      "Call-back cb_calcfc_in__cobyla__user__routines failed.\n"
     ]
    },
    {
     "data": {
      "image/png": "[encoded data removed]",
      "text/plain": [
       "<Figure size 640x480 with 1 Axes>"
      ]
     },
     "metadata": {},
     "output_type": "display_data"
    },
    {
     "data": {
      "image/png": "[encoded data removed]",
      "text/plain": [
       "<Figure size 1200x500 with 2 Axes>"
      ]
     },
     "metadata": {},
     "output_type": "display_data"
    }
   ],
   "source": [
    "E_4 = HIVQE(as_problem,3,100)"
   ]
  },
  {
   "cell_type": "markdown",
   "metadata": {},
   "source": [
    "## 5. Co=O (Double bonding)"
   ]
  },
  {
   "cell_type": "code",
   "execution_count": null,
   "metadata": {},
   "outputs": [],
   "source": [
    "Co_O_dimer_atoms = [\"Co\", \"O\"]\n",
    "Co_O_dimer_coords = [Co, O_2]\n",
    "\n",
    "atom = [(Co_O_dimer_atoms[0],Co_O_dimer_coords[0]),(Co_O_dimer_atoms[1],Co_O_dimer_coords[1])]\n",
    "\n",
    "Co_O_dimer_charge = 0\n",
    "Co_O_dimer_multiplicity = 2\n",
    "Co_O_moleculeinfo = MoleculeInfo(Co_O_dimer_atoms, Co_O_dimer_coords, charge=Co_O_dimer_charge, multiplicity=Co_O_dimer_multiplicity)\n",
    "\n",
    "energy_arr =[]\n",
    "order=[]\n",
    "driver = PySCFDriver.from_molecule(Co_O_moleculeinfo, basis=basis)\n",
    "E_problem = driver.run()\n",
    "num_spatial_orbitals = E_problem.num_spatial_orbitals\n",
    "num_particles = E_problem.num_particles\n",
    "as_transformer = ActiveSpaceTransformer((6,5), 8)\n",
    "as_problem = as_transformer.transform(E_problem)\n",
    "\n",
    "num_spin_orbital = 2*as_problem.num_spatial_orbitals\n",
    "num_particles = as_problem.num_particles\n",
    "num_electrons = np.sum(num_particles)\n",
    "total_dim = calc_total_space(num_spin_orbital,num_electrons) #3136"
   ]
  },
  {
   "cell_type": "code",
   "execution_count": null,
   "metadata": {},
   "outputs": [
    {
     "name": "stdout",
     "output_type": "stream",
     "text": [
      "-----------------------\n",
      "Sampling : 15.240445초\n",
      "Unexpected exception formatting exception. Falling back to standard exception\n"
     ]
    },
    {
     "name": "stderr",
     "output_type": "stream",
     "text": [
      "Traceback (most recent call last):\n",
      "  File \"/opt/miniconda3/envs/hivqe/lib/python3.11/site-packages/IPython/core/interactiveshell.py\", line 3672, in run_code\n",
      "    exec(code_obj, self.user_global_ns, self.user_ns)\n",
      "  File \"/var/folders/mq/vvzpq4_16092g__xg10fscp80000gn/T/ipykernel_4553/3686995784.py\", line 1, in <module>\n",
      "    E_5 = HIVQE(as_problem,4,500)\n",
      "          ^^^^^^^^^^^^^^^^^^^^^^^\n",
      "  File \"/var/folders/mq/vvzpq4_16092g__xg10fscp80000gn/T/ipykernel_4553/1728193172.py\", line 42, in HIVQE\n",
      "    res = minimize(\n",
      "          ^^^^^^^^^\n",
      "  File \"/opt/miniconda3/envs/hivqe/lib/python3.11/site-packages/scipy/optimize/_minimize.py\", line 744, in minimize\n",
      "    res = _minimize_cobyla(fun, x0, args, constraints, callback=callback,\n",
      "          ^^^^^^^^^^^^^^^^^^^^^^^^^^^^^^^^^^^^^^^^^^^^^^^^^^^^^^^^^^^^^^^\n",
      "  File \"/opt/miniconda3/envs/hivqe/lib/python3.11/site-packages/scipy/optimize/_cobyla_py.py\", line 35, in wrapper\n",
      "    return func(*args, **kwargs)\n",
      "           ^^^^^^^^^^^^^^^^^^^^^\n",
      "  File \"/opt/miniconda3/envs/hivqe/lib/python3.11/site-packages/scipy/optimize/_cobyla_py.py\", line 278, in _minimize_cobyla\n",
      "    sf = _prepare_scalar_function(fun, x0, args=args, jac=_jac)\n",
      "         ^^^^^^^^^^^^^^^^^^^^^^^^^^^^^^^^^^^^^^^^^^^^^^^^^^^^^^\n",
      "  File \"/opt/miniconda3/envs/hivqe/lib/python3.11/site-packages/scipy/optimize/_optimize.py\", line 291, in _prepare_scalar_function\n",
      "    sf = ScalarFunction(fun, x0, args, grad, hess,\n",
      "         ^^^^^^^^^^^^^^^^^^^^^^^^^^^^^^^^^^^^^^^^^\n",
      "  File \"/opt/miniconda3/envs/hivqe/lib/python3.11/site-packages/scipy/optimize/_differentiable_functions.py\", line 223, in __init__\n",
      "    self._update_fun()\n",
      "  File \"/opt/miniconda3/envs/hivqe/lib/python3.11/site-packages/scipy/optimize/_differentiable_functions.py\", line 295, in _update_fun\n",
      "    fx = self._wrapped_fun(self.x)\n",
      "         ^^^^^^^^^^^^^^^^^^^^^^^^^\n",
      "  File \"/opt/miniconda3/envs/hivqe/lib/python3.11/site-packages/scipy/optimize/_differentiable_functions.py\", line 21, in wrapped\n",
      "    fx = fun(np.copy(x), *args)\n",
      "         ^^^^^^^^^^^^^^^^^^^^^^\n",
      "  File \"/var/folders/mq/vvzpq4_16092g__xg10fscp80000gn/T/ipykernel_4553/3272035759.py\", line 31, in __call__\n",
      "    screened_space = screening(self.prev_list, self.hamiltonian, self.num_determinant)\n",
      "                     ^^^^^^^^^^^^^^^^^^^^^^^^^^^^^^^^^^^^^^^^^^^^^^^^^^^^^^^^^^^^^^^^^\n",
      "  File \"/var/folders/mq/vvzpq4_16092g__xg10fscp80000gn/T/ipykernel_4553/588164706.py\", line 65, in screening\n",
      "    H = project_hamiltonian(all_basis,hamiltonian)\n",
      "        ^^^^^^^^^^^^^^^^^^^^^^^^^^^^^^^^^^^^^^^^^^\n",
      "  File \"/var/folders/mq/vvzpq4_16092g__xg10fscp80000gn/T/ipykernel_4553/954507307.py\", line 75, in project_hamiltonian\n",
      "    inner_product = inner_product_pauli_hamiltonian(hamiltonian, basis_bra , basis_ket)\n",
      "                    ^^^^^^^^^^^^^^^^^^^^^^^^^^^^^^^^^^^^^^^^^^^^^^^^^^^^^^^^^^^^^^^^^^^\n",
      "  File \"/var/folders/mq/vvzpq4_16092g__xg10fscp80000gn/T/ipykernel_4553/954507307.py\", line 61, in inner_product_pauli_hamiltonian\n",
      "    new_state, phase = apply_pauli_string(basis_ket, pauli_string)\n",
      "                       ^^^^^^^^^^^^^^^^^^^^^^^^^^^^^^^^^^^^^^^^^^^\n",
      "  File \"/var/folders/mq/vvzpq4_16092g__xg10fscp80000gn/T/ipykernel_4553/954507307.py\", line None, in apply_pauli_string\n",
      "KeyboardInterrupt\n",
      "\n",
      "During handling of the above exception, another exception occurred:\n",
      "\n",
      "Traceback (most recent call last):\n",
      "  File \"/opt/miniconda3/envs/hivqe/lib/python3.11/site-packages/IPython/core/interactiveshell.py\", line 2178, in showtraceback\n",
      "    stb = self.InteractiveTB.structured_traceback(\n",
      "          ^^^^^^^^^^^^^^^^^^^^^^^^^^^^^^^^^^^^^^^^\n",
      "  File \"/opt/miniconda3/envs/hivqe/lib/python3.11/site-packages/IPython/core/ultratb.py\", line 1182, in structured_traceback\n",
      "    return FormattedTB.structured_traceback(\n",
      "           ^^^^^^^^^^^^^^^^^^^^^^^^^^^^^^^^^\n",
      "  File \"/opt/miniconda3/envs/hivqe/lib/python3.11/site-packages/IPython/core/ultratb.py\", line 1053, in structured_traceback\n",
      "    return VerboseTB.structured_traceback(\n",
      "           ^^^^^^^^^^^^^^^^^^^^^^^^^^^^^^^\n",
      "  File \"/opt/miniconda3/envs/hivqe/lib/python3.11/site-packages/IPython/core/ultratb.py\", line 861, in structured_traceback\n",
      "    formatted_exceptions: list[list[str]] = self.format_exception_as_a_whole(\n",
      "                                            ^^^^^^^^^^^^^^^^^^^^^^^^^^^^^^^^^\n",
      "  File \"/opt/miniconda3/envs/hivqe/lib/python3.11/site-packages/IPython/core/ultratb.py\", line 773, in format_exception_as_a_whole\n",
      "    frames.append(self.format_record(record))\n",
      "                  ^^^^^^^^^^^^^^^^^^^^^^^^^^\n",
      "  File \"/opt/miniconda3/envs/hivqe/lib/python3.11/site-packages/IPython/core/ultratb.py\", line 536, in format_record\n",
      "    assert isinstance(frame_info.lineno, int)\n",
      "           ^^^^^^^^^^^^^^^^^^^^^^^^^^^^^^^^^^\n",
      "AssertionError\n"
     ]
    }
   ],
   "source": [
    "E_5 = HIVQE(as_problem,4,500)"
   ]
  },
  {
   "cell_type": "markdown",
   "metadata": {},
   "source": [
    "## 6.  Co-O (Single bonding)"
   ]
  },
  {
   "cell_type": "code",
   "execution_count": null,
   "metadata": {},
   "outputs": [],
   "source": [
    "Co_O_dimer_atoms = [\"Co\", \"O\"]\n",
    "Co_O_dimer_coords = [Co, O_1]\n",
    "Co_O_dimer_charge = 0\n",
    "Co_O_dimer_multiplicity = 4\n",
    "Co_O_moleculeinfo = MoleculeInfo(Co_O_dimer_atoms, Co_O_dimer_coords, charge=Co_O_dimer_charge, multiplicity=Co_O_dimer_multiplicity)\n",
    "\n",
    "\n",
    "\n",
    "energy_arr =[]\n",
    "order=[]\n",
    "driver = PySCFDriver.from_molecule(Co_O_moleculeinfo, basis=basis)\n",
    "E_problem = driver.run()\n",
    "num_spatial_orbitals = E_problem.num_spatial_orbitals\n",
    "num_particles = E_problem.num_particles\n",
    "as_transformer = ActiveSpaceTransformer((7,4), 8)\n",
    "as_problem = as_transformer.transform(E_problem)\n",
    "\n",
    "num_spin_orbital = 2*as_problem.num_spatial_orbitals\n",
    "num_particles = as_problem.num_particles\n",
    "num_electrons = np.sum(num_particles)\n",
    "total_dim = calc_total_space(num_spin_orbital,num_electrons) #3136"
   ]
  },
  {
   "cell_type": "code",
   "execution_count": null,
   "metadata": {},
   "outputs": [],
   "source": [
    "E_6 = HIVQE(as_problem,5,500)"
   ]
  },
  {
   "cell_type": "code",
   "execution_count": null,
   "metadata": {},
   "outputs": [],
   "source": [
    "dimer_List = [E_1,E_2,E_3,E_4,E_5,E_6]\n",
    "print(dimer_List)"
   ]
  }
 ],
 "metadata": {
  "kernelspec": {
   "display_name": "hivqe",
   "language": "python",
   "name": "python3"
  },
  "language_info": {
   "codemirror_mode": {
    "name": "ipython",
    "version": 3
   },
   "file_extension": ".py",
   "mimetype": "text/x-python",
   "name": "python",
   "nbconvert_exporter": "python",
   "pygments_lexer": "ipython3",
   "version": "3.9.6"
  },
  "orig_nbformat": 4
 },
 "nbformat": 4,
 "nbformat_minor": 2
}
