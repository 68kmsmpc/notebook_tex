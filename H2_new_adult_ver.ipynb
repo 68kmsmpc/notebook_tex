{
 "cells": [
  {
   "cell_type": "markdown",
   "metadata": {},
   "source": []
  },
  {
   "cell_type": "markdown",
   "metadata": {},
   "source": [
    "# Import Package, and Func."
   ]
  },
  {
   "cell_type": "code",
   "execution_count": 4,
   "metadata": {},
   "outputs": [],
   "source": [
    "import numpy as np\n",
    "import matplotlib.pyplot as plt\n",
    "from scipy.optimize import minimize\n",
    "from pyscf import gto, scf, fci\n",
    "import numpy as np\n",
    "import matplotlib.pyplot as plt"
   ]
  },
  {
   "cell_type": "code",
   "execution_count": 5,
   "metadata": {},
   "outputs": [
    {
     "ename": "ModuleNotFoundError",
     "evalue": "No module named 'qiskit_ibm_runtime'",
     "output_type": "error",
     "traceback": [
      "\u001b[0;31m---------------------------------------------------------------------------\u001b[0m",
      "\u001b[0;31mModuleNotFoundError\u001b[0m                       Traceback (most recent call last)",
      "Cell \u001b[0;32mIn[5], line 2\u001b[0m\n\u001b[1;32m      1\u001b[0m \u001b[39m# runtime imports\u001b[39;00m\n\u001b[0;32m----> 2\u001b[0m \u001b[39mfrom\u001b[39;00m\u001b[39m \u001b[39m\u001b[39mqiskit_ibm_runtime\u001b[39;00m\u001b[39m \u001b[39m\u001b[39mimport\u001b[39;00m QiskitRuntimeService, Session\n\u001b[1;32m      3\u001b[0m \u001b[39mfrom\u001b[39;00m\u001b[39m \u001b[39m\u001b[39mqiskit\u001b[39;00m\u001b[39m.\u001b[39;00m\u001b[39mproviders\u001b[39;00m\u001b[39m.\u001b[39;00m\u001b[39mfake_provider\u001b[39;00m\u001b[39m \u001b[39m\u001b[39mimport\u001b[39;00m GenericBackendV2\n\u001b[1;32m      4\u001b[0m \u001b[39mfrom\u001b[39;00m\u001b[39m \u001b[39m\u001b[39mqiskit_ibm_runtime\u001b[39;00m\u001b[39m \u001b[39m\u001b[39mimport\u001b[39;00m EstimatorV2 \u001b[39mas\u001b[39;00m Estimator\n",
      "\u001b[0;31mModuleNotFoundError\u001b[0m: No module named 'qiskit_ibm_runtime'"
     ]
    }
   ],
   "source": [
    "# runtime imports\n",
    "from qiskit_ibm_runtime import QiskitRuntimeService, Session\n",
    "from qiskit.providers.fake_provider import GenericBackendV2\n",
    "from qiskit_ibm_runtime import EstimatorV2 as Estimator\n",
    "from qiskit_aer import AerSimulator, AerProvider\n",
    "\n",
    "# To run on hardware, select the backend with the fewest number of jobs in the queue\n",
    "#service = QiskitRuntimeService(channel=\"ibm_quantum\", token ='55ac54cb4cbfe378d8604606bacfcab38ffd165ecdb215742e64495a259fa53f0ed9e63df5b3df4489d422865a007d9cc981fcb2caffd9e76f17d94d734a8593')\n",
    "#backend = service.least_busy(operational=True, simulator=False)\n",
    "#backend = GenericBackendV2(num_qubits=5)\n",
    "\n",
    "backend = AerSimulator(method = \"statevector\",noise_model=None)"
   ]
  },
  {
   "cell_type": "code",
   "execution_count": null,
   "metadata": {},
   "outputs": [
    {
     "data": {
      "text/plain": [
       "'\\nfrom qiskit_nature.second_q.transformers import ActiveSpaceTransformer\\nfrom qiskit_nature.second_q.algorithms.ground_state_solvers import GroundStateEigensolver\\nfrom qiskit_nature import settings\\nfrom qiskit_algorithms.optimizers import  SPSA, COBYLA, L_BFGS_B\\n\\nfrom qiskit.circuit.library import TwoLocal\\nfrom qiskit_algorithms.minimum_eigensolvers import NumPyMinimumEigensolver, VQE\\nfrom qiskit.primitives import Estimator\\n\\nfrom qiskit_ibm_runtime import Session\\nfrom qiskit_ibm_runtime.fake_provider import FakeManilaV2\\nfrom qiskit_ibm_runtime import QiskitRuntimeService\\nfrom qiskit_ibm_runtime import EstimatorV2 as Estimator\\n'"
      ]
     },
     "execution_count": 4,
     "metadata": {},
     "output_type": "execute_result"
    }
   ],
   "source": [
    "'''\n",
    "from qiskit_nature.second_q.transformers import ActiveSpaceTransformer\n",
    "from qiskit_nature.second_q.algorithms.ground_state_solvers import GroundStateEigensolver\n",
    "from qiskit_nature import settings\n",
    "from qiskit_algorithms.optimizers import  SPSA, COBYLA, L_BFGS_B\n",
    "\n",
    "from qiskit.circuit.library import TwoLocal\n",
    "from qiskit_algorithms.minimum_eigensolvers import NumPyMinimumEigensolver, VQE\n",
    "from qiskit.primitives import Estimator\n",
    "\n",
    "from qiskit_ibm_runtime import Session\n",
    "from qiskit_ibm_runtime.fake_provider import FakeManilaV2\n",
    "from qiskit_ibm_runtime import QiskitRuntimeService\n",
    "from qiskit_ibm_runtime import EstimatorV2 as Estimator\n",
    "'''\n"
   ]
  },
  {
   "cell_type": "code",
   "execution_count": null,
   "metadata": {},
   "outputs": [],
   "source": [
    "from qiskit_nature.second_q.formats.molecule_info import MoleculeInfo\n",
    "from qiskit_nature.second_q.drivers import PySCFDriver\n",
    "from qiskit_nature.second_q.mappers import ParityMapper, JordanWignerMapper, BravyiKitaevMapper\n",
    "from qiskit_nature.second_q.circuit.library import UCCSD, HartreeFock"
   ]
  },
  {
   "cell_type": "code",
   "execution_count": null,
   "metadata": {},
   "outputs": [],
   "source": [
    "\n",
    "def fermion_to_qubit(problem, second_q_op, mapper_name,  z2symmetry_reduction=None):\n",
    "  if mapper_name == \"JW\":\n",
    "    mapper = JordanWignerMapper()\n",
    "  if mapper_name == \"Pa\":\n",
    "    mapper = ParityMapper(num_particles=problem.num_particles)\n",
    "  if mapper_name == \"BK\":\n",
    "    mapper = BravyiKitaevMapper()\n",
    "\n",
    "  qubit_op = mapper.map(second_q_op)\n",
    "\n",
    "  if z2symmetry_reduction != None:\n",
    "    mapper = problem.get_tapered_mapper(mapper)\n",
    "    qubit_op = mapper.map(second_q_op)\n",
    "  else :\n",
    "    qubit_op = mapper.map(second_q_op)\n",
    "\n",
    "  return qubit_op , mapper\n",
    "\n",
    "def FCI(dist):\n",
    "    # 1. 분자 정의\n",
    "    mol = gto.M(\n",
    "        atom = 'H 0 0 0; H 0 0 {}'.format(dist),  # 수소 원자 2개, 거리 0.74 Å\n",
    "        basis = 'sto-3g',              # 간단한 기저함수\n",
    "        unit = 'Angstrom',\n",
    "        spin = 0,                      # 전자 수 = 2, 총 spin = 0 (singlet)\n",
    "        charge = 0\n",
    "    )\n",
    "\n",
    "    # 2. Hartree-Fock 계산\n",
    "    mf = scf.RHF(mol)\n",
    "    hf_energy = mf.kernel()\n",
    "\n",
    "    # 3. FCI 계산 (Full CI)\n",
    "    cisolver = fci.FCI(mol, mf.mo_coeff)\n",
    "    fci_energy, fci_vector = cisolver.kernel()\n",
    "\n",
    "    return fci_energy"
   ]
  },
  {
   "cell_type": "code",
   "execution_count": null,
   "metadata": {},
   "outputs": [],
   "source": [
    "atoms = [\"H\", \"H\"]\n",
    "basis = 'sto3g'\n",
    "dist = 0.735\n",
    "coords = [(0,0,0), (dist,0,0)]\n",
    "charge = 0\n",
    "multiplicity = 1\n",
    "Co_O_moleculeinfo = MoleculeInfo(atoms, coords, charge=charge, multiplicity=multiplicity)\n",
    "driver = PySCFDriver.from_molecule(Co_O_moleculeinfo, basis=basis)\n",
    "E_problem = driver.run() # 여기는 이후, As_transformer 로 변경. "
   ]
  },
  {
   "cell_type": "code",
   "execution_count": 1,
   "metadata": {},
   "outputs": [
    {
     "ename": "NameError",
     "evalue": "name 'E_problem' is not defined",
     "output_type": "error",
     "traceback": [
      "\u001b[0;31m---------------------------------------------------------------------------\u001b[0m",
      "\u001b[0;31mNameError\u001b[0m                                 Traceback (most recent call last)",
      "Cell \u001b[0;32mIn[1], line 1\u001b[0m\n\u001b[0;32m----> 1\u001b[0m fermionic_hamiltonian \u001b[39m=\u001b[39m E_problem\u001b[39m.\u001b[39mhamiltonian\n\u001b[1;32m      2\u001b[0m second_q_op \u001b[39m=\u001b[39m fermionic_hamiltonian\u001b[39m.\u001b[39msecond_q_op()\n\u001b[1;32m      3\u001b[0m \u001b[39mprint\u001b[39m(second_q_op)\n",
      "\u001b[0;31mNameError\u001b[0m: name 'E_problem' is not defined"
     ]
    }
   ],
   "source": [
    "fermionic_hamiltonian = E_problem.hamiltonian\n",
    "second_q_op = fermionic_hamiltonian.second_q_op()\n",
    "print(second_q_op)\n",
    "repulsion = fermionic_hamiltonian.constants['nuclear_repulsion_energy']\n",
    "hamiltonian, mapper = fermion_to_qubit(E_problem, second_q_op, \"JW\", z2symmetry_reduction=None)\n",
    "print(hamiltonian)"
   ]
  },
  {
   "cell_type": "code",
   "execution_count": 9,
   "metadata": {},
   "outputs": [
    {
     "name": "stdout",
     "output_type": "stream",
     "text": [
      "0.7199689944489797\n"
     ]
    }
   ],
   "source": [
    "print(repulsion)"
   ]
  },
  {
   "cell_type": "code",
   "execution_count": 10,
   "metadata": {},
   "outputs": [],
   "source": [
    "num_particles = E_problem.num_particles\n",
    "num_spatial_orbitals = E_problem.num_spatial_orbitals\n",
    "\n",
    "init_state = HartreeFock(num_spatial_orbitals,num_particles,mapper)\n",
    "ansatz = UCCSD(num_spatial_orbitals,num_particles,mapper,initial_state=init_state)"
   ]
  },
  {
   "cell_type": "code",
   "execution_count": 11,
   "metadata": {},
   "outputs": [],
   "source": [
    "from qiskit.transpiler.preset_passmanagers import generate_preset_pass_manager\n",
    "\n",
    "target = backend.target\n",
    "pm = generate_preset_pass_manager(target=target, optimization_level=3)\n",
    "\n",
    "ansatz_isa = pm.run(ansatz)"
   ]
  },
  {
   "cell_type": "code",
   "execution_count": 12,
   "metadata": {},
   "outputs": [],
   "source": [
    "#ansatz_isa.draw(output=\"mpl\", idle_wires=False, style=\"iqp\")"
   ]
  },
  {
   "cell_type": "code",
   "execution_count": 13,
   "metadata": {},
   "outputs": [
    {
     "name": "stdout",
     "output_type": "stream",
     "text": [
      "SparsePauliOp(['IIII', 'IIIZ', 'IIZI', 'IZII', 'ZIII', 'IIZZ', 'IZIZ', 'ZIIZ', 'YYYY', 'XXYY', 'YYXX', 'XXXX', 'IZZI', 'ZIZI', 'ZZII'],\n",
      "              coeffs=[-0.81054798+0.j,  0.17218393+0.j, -0.22575349+0.j,  0.17218393+0.j,\n",
      " -0.22575349+0.j,  0.12091263+0.j,  0.16892754+0.j,  0.16614543+0.j,\n",
      "  0.0452328 +0.j,  0.0452328 +0.j,  0.0452328 +0.j,  0.0452328 +0.j,\n",
      "  0.16614543+0.j,  0.17464343+0.j,  0.12091263+0.j])\n"
     ]
    }
   ],
   "source": [
    "hamiltonian_isa = hamiltonian.apply_layout(layout=ansatz_isa.layout) # 그니까 컴파일 된거.\n",
    "print(hamiltonian_isa)"
   ]
  },
  {
   "cell_type": "code",
   "execution_count": 14,
   "metadata": {},
   "outputs": [],
   "source": [
    "cost_history_dict = {\n",
    "    \"prev_vector\": None,\n",
    "    \"iters\": 0,\n",
    "    \"cost_history\": [],\n",
    "}\n",
    "\n",
    "def cost_func(params, ansatz, hamiltonian, estimator):\n",
    "    \"\"\"Return estimate of energy from estimator\n",
    "\n",
    "    Parameters:\n",
    "        params (ndarray): Array of ansatz parameters\n",
    "        ansatz (QuantumCircuit): Parameterized ansatz circuit\n",
    "        hamiltonian (SparsePauliOp): Operator representation of Hamiltonian\n",
    "        estimator (EstimatorV2): Estimator primitive instance\n",
    "        cost_history_dict: Dictionary for storing intermediate results\n",
    "\n",
    "    Returns:\n",
    "        float: Energy estimate\n",
    "    \"\"\"\n",
    "    pub = (ansatz, [hamiltonian], [params])\n",
    "    result = estimator.run(pubs=[pub]).result()\n",
    "    energy = result[0].data.evs[0]\n",
    "\n",
    "    cost_history_dict[\"iters\"] += 1\n",
    "    cost_history_dict[\"prev_vector\"] = params\n",
    "    cost_history_dict[\"cost_history\"].append(energy)\n",
    "    print(f\"Iters. done: {cost_history_dict['iters']} [Current cost: {energy}]\")\n",
    "\n",
    "    return energy"
   ]
  },
  {
   "cell_type": "code",
   "execution_count": 15,
   "metadata": {},
   "outputs": [],
   "source": [
    "num_params = ansatz.num_parameters\n",
    "x0 = 2 * np.pi * np.random.random(num_params)"
   ]
  },
  {
   "cell_type": "code",
   "execution_count": 16,
   "metadata": {},
   "outputs": [
    {
     "name": "stdout",
     "output_type": "stream",
     "text": [
      "Iters. done: 1 [Current cost: -1.4063288163285732]\n",
      "Iters. done: 2 [Current cost: -0.935928907357367]\n",
      "Iters. done: 3 [Current cost: -0.7120840835505299]\n",
      "Iters. done: 4 [Current cost: -0.9253052357256958]\n",
      "Iters. done: 5 [Current cost: -1.3995876392990192]\n",
      "Iters. done: 6 [Current cost: -1.55899994346289]\n",
      "Iters. done: 7 [Current cost: -1.2061315694370065]\n",
      "Iters. done: 8 [Current cost: -1.567313585053124]\n",
      "Iters. done: 9 [Current cost: -1.099090568688693]\n",
      "Iters. done: 10 [Current cost: -1.596596693322797]\n",
      "Iters. done: 11 [Current cost: -1.6234940786429843]\n",
      "Iters. done: 12 [Current cost: -1.5829557894291613]\n",
      "Iters. done: 13 [Current cost: -1.6034907265644167]\n",
      "Iters. done: 14 [Current cost: -1.6569439210334733]\n",
      "Iters. done: 15 [Current cost: -1.6613297785653585]\n",
      "Iters. done: 16 [Current cost: -1.689934376334592]\n",
      "Iters. done: 17 [Current cost: -1.7011697928282383]\n",
      "Iters. done: 18 [Current cost: -1.7188039591537891]\n",
      "Iters. done: 19 [Current cost: -1.7397710044286945]\n",
      "Iters. done: 20 [Current cost: -1.7738918591773876]\n",
      "Iters. done: 21 [Current cost: -1.7672006026436995]\n",
      "Iters. done: 22 [Current cost: -1.7661913629255621]\n",
      "Iters. done: 23 [Current cost: -1.7801167859596363]\n",
      "Iters. done: 24 [Current cost: -1.7677704768283582]\n",
      "Iters. done: 25 [Current cost: -1.782216132808357]\n",
      "Iters. done: 26 [Current cost: -1.7855386102892208]\n",
      "Iters. done: 27 [Current cost: -1.8018728140516513]\n",
      "Iters. done: 28 [Current cost: -1.8054788067315042]\n",
      "Iters. done: 29 [Current cost: -1.8078851553232627]\n",
      "Iters. done: 30 [Current cost: -1.811128675073639]\n",
      "Iters. done: 31 [Current cost: -1.815441991297706]\n",
      "Iters. done: 32 [Current cost: -1.812080031729835]\n",
      "Iters. done: 33 [Current cost: -1.8135373587635981]\n",
      "Iters. done: 34 [Current cost: -1.8214087992386858]\n",
      "Iters. done: 35 [Current cost: -1.831247969992534]\n",
      "Iters. done: 36 [Current cost: -1.8362606523051563]\n",
      "Iters. done: 37 [Current cost: -1.8402703949035597]\n",
      "Iters. done: 38 [Current cost: -1.8417935094193685]\n",
      "Iters. done: 39 [Current cost: -1.8369681032636156]\n",
      "Iters. done: 40 [Current cost: -1.8454580624836991]\n",
      "Iters. done: 41 [Current cost: -1.8475295166860637]\n",
      "Iters. done: 42 [Current cost: -1.8491177851720138]\n",
      "Iters. done: 43 [Current cost: -1.8442518148964866]\n",
      "Iters. done: 44 [Current cost: -1.8551364153310588]\n",
      "Iters. done: 45 [Current cost: -1.8550580148422209]\n",
      "Iters. done: 46 [Current cost: -1.8510063494324163]\n",
      "Iters. done: 47 [Current cost: -1.8562079890953955]\n",
      "Iters. done: 48 [Current cost: -1.8484735269219206]\n",
      "Iters. done: 49 [Current cost: -1.8501881103516622]\n",
      "Iters. done: 50 [Current cost: -1.8587005095071623]\n",
      "Iters. done: 51 [Current cost: -1.8541474367132735]\n",
      "Iters. done: 52 [Current cost: -1.8572261180979284]\n",
      "Iters. done: 53 [Current cost: -1.856702925948305]\n",
      "Iters. done: 54 [Current cost: -1.8541295599635512]\n",
      "Iters. done: 55 [Current cost: -1.8579259481123667]\n",
      "Iters. done: 56 [Current cost: -1.8581876901586227]\n",
      "Iters. done: 57 [Current cost: -1.8545153908288885]\n",
      "Iters. done: 58 [Current cost: -1.8531506744538917]\n",
      "Iters. done: 59 [Current cost: -1.8549565274621913]\n",
      "Iters. done: 60 [Current cost: -1.856697554555905]\n",
      "Iters. done: 61 [Current cost: -1.856018615614213]\n",
      "Iters. done: 62 [Current cost: -1.8575138693682918]\n",
      "Iters. done: 63 [Current cost: -1.8534625695824474]\n",
      "Iters. done: 64 [Current cost: -1.8592041006519708]\n",
      "Iters. done: 65 [Current cost: -1.85903844839413]\n",
      "Iters. done: 66 [Current cost: -1.8528148354199243]\n",
      "Iters. done: 67 [Current cost: -1.858539838710109]\n",
      "Iters. done: 68 [Current cost: -1.857836529313316]\n",
      "Iters. done: 69 [Current cost: -1.8550207227067605]\n",
      "Iters. done: 70 [Current cost: -1.8565473587162045]\n",
      "Iters. done: 71 [Current cost: -1.8559260052081517]\n",
      "Iters. done: 72 [Current cost: -1.8552040232258507]\n"
     ]
    }
   ],
   "source": [
    "with Session(backend=backend) as session:\n",
    "    estimator = Estimator(mode=session)\n",
    "    estimator.options.default_shots = 10000\n",
    "\n",
    "    res = minimize(\n",
    "        cost_func,\n",
    "        x0,\n",
    "        args=(ansatz_isa, hamiltonian_isa, estimator),\n",
    "        method=\"cobyla\",\n",
    "    )"
   ]
  },
  {
   "cell_type": "code",
   "execution_count": 24,
   "metadata": {},
   "outputs": [
    {
     "name": "stdout",
     "output_type": "stream",
     "text": [
      "converged SCF energy = -1.116998996754\n"
     ]
    },
    {
     "data": {
      "image/png": "[encoded data removed]",
      "text/plain": [
       "<Figure size 640x480 with 1 Axes>"
      ]
     },
     "metadata": {},
     "output_type": "display_data"
    }
   ],
   "source": [
    "E_exact = FCI(dist)\n",
    "\n",
    "\n",
    "plt.plot(range(cost_history_dict[\"iters\"]), cost_history_dict[\"cost_history\"] + repulsion, label='E_VQE')\n",
    "plt.axhline(E_exact, color = 'r', linewidth = 0.8, label = 'Clasical Calc. energy(FCI)')\n",
    "plt.xlabel(\"Iterations (#)\")\n",
    "plt.ylabel(\"Energy (Hartree)\")\n",
    "plt.title(\"Energy Calc. for each iteration\")\n",
    "plt.legend()\n",
    "plt.grid()\n",
    "plt.draw()"
   ]
  },
  {
   "cell_type": "code",
   "execution_count": null,
   "metadata": {},
   "outputs": [],
   "source": []
  }
 ],
 "metadata": {
  "kernelspec": {
   "display_name": ".venv",
   "language": "python",
   "name": "python3"
  },
  "language_info": {
   "codemirror_mode": {
    "name": "ipython",
    "version": 3
   },
   "file_extension": ".py",
   "mimetype": "text/x-python",
   "name": "python",
   "nbconvert_exporter": "python",
   "pygments_lexer": "ipython3",
   "version": "3.9.6"
  },
  "orig_nbformat": 4
 },
 "nbformat": 4,
 "nbformat_minor": 2
}
