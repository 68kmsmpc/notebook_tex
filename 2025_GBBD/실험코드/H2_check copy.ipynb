{
 "cells": [
  {
   "cell_type": "code",
   "execution_count": 11,
   "id": "aa181e7d",
   "metadata": {},
   "outputs": [],
   "source": [
    "import numpy as np\n",
    "import matplotlib.pyplot as plt\n",
    "import networkx as nx\n",
    "from scipy.sparse import issparse, coo_matrix, csr_matrix, csc_matrix\n",
    "from scipy.sparse.linalg import eigsh\n",
    "from openfermionpyscf import run_pyscf\n",
    "from openfermion import MolecularData, get_fermion_operator\n",
    "from openfermion.linalg import get_sparse_operator,  get_number_preserving_sparse_operator\n",
    "from openfermion.chem import MolecularData\n",
    "\n"
   ]
  },
  {
   "cell_type": "code",
   "execution_count": 12,
   "id": "2efa562b",
   "metadata": {},
   "outputs": [],
   "source": [
    "def indices_with_N_and_Sz0(n_orbital, n_elec):\n",
    "    \"\"\"전자수=N 이면서 S_z=0 (interleaved: 짝수=alpha, 홀수=beta)\"\"\"\n",
    "    idx = []\n",
    "    for s in range(1 << n_orbital):\n",
    "        if s.bit_count() != n_elec:\n",
    "            continue\n",
    "        n_alpha = sum((s >> i) & 1 for i in range(0, n_orbital, 2))  # 0,2,4,...\n",
    "        n_beta  = sum((s >> i) & 1 for i in range(1, n_orbital, 2))  # 1,3,5,...\n",
    "        if n_alpha == n_beta:\n",
    "            idx.append(s)\n",
    "    return np.array(idx, dtype=int)\n",
    "\n",
    "def sparse_to_graph(A):\n",
    "    \"\"\"\n",
    "    희소행렬 A -> NetworkX Graph/DiGraph 변환\n",
    "\n",
    "    Returns\n",
    "    -------\n",
    "    G : nx.Graph\n",
    "    \"\"\"\n",
    "    \n",
    "    if not issparse(A):\n",
    "        raise ValueError(\"A must be a scipy.sparse matrix\")\n",
    "    \n",
    "    # COO로 변환\n",
    "    A = A.tocoo(copy=True)\n",
    "\n",
    "    # 그래프 타입 선택\n",
    "    G = nx.Graph()\n",
    "    G.add_nodes_from(range(A.shape[0]))  # 노드: 0..n-1\n",
    "\n",
    "    # weight 설정      \n",
    "    vals = np.abs(A.data)\n",
    "    # 동일 엣지 중복 합치기(무향일 때 i<j 묶기)\n",
    "    from collections import defaultdict\n",
    "    edges = defaultdict(float)\n",
    "    for i, j, v in zip(A.row, A.col, vals):\n",
    "        if i == j :\n",
    "            continue\n",
    "        key = (min(i, j), max(i, j))\n",
    "        edges[key] += float(v)  # 누적(합). 필요시 max/mean 등으로 변경 가능.\n",
    "\n",
    "        for (i, j), w in edges.items():\n",
    "            G.add_edge(i, j, weight=w)\n",
    "            \n",
    "    print(G)\n",
    "    return G"
   ]
  },
  {
   "cell_type": "markdown",
   "id": "a1587969",
   "metadata": {},
   "source": [
    "### 행렬만들기"
   ]
  },
  {
   "cell_type": "code",
   "execution_count": 13,
   "id": "3e35c96d",
   "metadata": {},
   "outputs": [],
   "source": [
    "C = 1.9220\n",
    "L = 2.0946\n",
    "theta = np.deg2rad(94.24)\n",
    "\n",
    "Co = (0,0,0)\n",
    "O_1 = (C,0,0)\n",
    "O_2 = (C*np.cos(theta),C*np.sin(theta),0)\n",
    "Li = (C+L*np.cos(np.pi-theta),-L*np.sin(np.pi-theta),0)\n",
    "\n",
    "\n",
    "geometry = [('Co', Co),\n",
    "            ('O', O_1),\n",
    "            ('O', O_2),\n",
    "            ('Li', Li)]\n",
    "O_Li_dimer_charge = 0\n",
    "O_Li_dimer_multiplicity = 1\n",
    "basis = 'sto-3g'\n",
    "\n",
    "mol_info = MolecularData(geometry, basis, charge=O_Li_dimer_charge, multiplicity=O_Li_dimer_multiplicity)\n",
    "mol = run_pyscf(mol_info, run_scf=1, run_fci=0)\n",
    "ham_int = mol.get_molecular_hamiltonian()\n",
    "ham_fci = get_fermion_operator(ham_int) "
   ]
  },
  {
   "cell_type": "code",
   "execution_count": 15,
   "id": "91aa9004",
   "metadata": {},
   "outputs": [
    {
     "ename": "",
     "evalue": "",
     "output_type": "error",
     "traceback": [
      "\u001b[1;31mThe Kernel crashed while executing code in the current cell or a previous cell. \n",
      "\u001b[1;31mPlease review the code in the cell(s) to identify a possible cause of the failure. \n",
      "\u001b[1;31mClick <a href='https://aka.ms/vscodeJupyterKernelCrash'>here</a> for more info. \n",
      "\u001b[1;31mView Jupyter <a href='command:jupyter.viewOutput'>log</a> for further details."
     ]
    }
   ],
   "source": [
    "H = get_number_preserving_sparse_operator(\n",
    "fermion_op=ham_fci,\n",
    "num_qubits=mol.n_qubits,\n",
    "num_electrons=mol.n_electrons,       # 필수\n",
    "spin_preserving=True)\n",
    "H_real = H.real"
   ]
  },
  {
   "cell_type": "code",
   "execution_count": 68,
   "id": "bc3c6a03",
   "metadata": {},
   "outputs": [
    {
     "name": "stdout",
     "output_type": "stream",
     "text": [
      "<Compressed Sparse Column sparse matrix of dtype 'float64'\n",
      "\twith 8 stored elements and shape (4, 4)>\n",
      "  Coords\tValues\n",
      "  (0, 0)\t-1.1166843870853407\n",
      "  (3, 0)\t0.18128880821149593\n",
      "  (1, 1)\t-0.3511901986746764\n",
      "  (2, 1)\t-0.18128880821149593\n",
      "  (1, 2)\t-0.18128880821149593\n",
      "  (2, 2)\t-0.3511901986746764\n",
      "  (0, 3)\t0.18128880821149593\n",
      "  (3, 3)\t0.4592503306687161\n"
     ]
    }
   ],
   "source": [
    "print(H_real)"
   ]
  },
  {
   "cell_type": "code",
   "execution_count": 69,
   "id": "f630bc08",
   "metadata": {},
   "outputs": [
    {
     "name": "stdout",
     "output_type": "stream",
     "text": [
      "[-1.13727017 -0.53247901 -0.16990139  0.47983612]\n"
     ]
    }
   ],
   "source": [
    "H_test = H_real.toarray()\n",
    "w = np.linalg.eigvals(H_test)   # 고유값만 반환\n",
    "print(np.sort(w))                   # array([...])"
   ]
  },
  {
   "cell_type": "markdown",
   "id": "73df012a",
   "metadata": {},
   "source": [
    "### 그래프 표현(무향)"
   ]
  },
  {
   "cell_type": "code",
   "execution_count": 71,
   "id": "674f5427",
   "metadata": {},
   "outputs": [
    {
     "name": "stdout",
     "output_type": "stream",
     "text": [
      "Graph with 4 nodes and 2 edges\n"
     ]
    },
    {
     "data": {
      "image/png": "[encoded data removed]",
      "text/plain": [
       "<Figure size 400x300 with 1 Axes>"
      ]
     },
     "metadata": {},
     "output_type": "display_data"
    }
   ],
   "source": [
    "G = sparse_to_graph(H_real)\n",
    "ccs = list(nx.connected_components(G))\n",
    "\n",
    "subgraphs = [G.subgraph(S).copy() for S in ccs]\n",
    "\n",
    "pos = nx.spring_layout(G, seed=0)\n",
    "edge_w = [d[\"weight\"] for *_, d in G.edges(data=True)]\n",
    "\n",
    "plt.figure(figsize=(4,3))\n",
    "nx.draw(G, pos, with_labels=True, node_size=500, width=edge_w)  # weight를 두께로\n",
    "plt.title(\"Graph from sparse matrix (undirected)\")\n",
    "plt.show()"
   ]
  },
  {
   "cell_type": "markdown",
   "id": "afccf814",
   "metadata": {},
   "source": [
    "### 에너지 계산"
   ]
  },
  {
   "cell_type": "code",
   "execution_count": 72,
   "id": "254fb06f",
   "metadata": {},
   "outputs": [
    {
     "name": "stdout",
     "output_type": "stream",
     "text": [
      "<Compressed Sparse Column sparse matrix of dtype 'float64'\n",
      "\twith 4 stored elements and shape (2, 2)>\n",
      "  Coords\tValues\n",
      "  (0, 0)\t-1.1166843870853407\n",
      "  (1, 0)\t0.18128880821149593\n",
      "  (0, 1)\t0.18128880821149593\n",
      "  (1, 1)\t0.4592503306687161\n",
      "[-1.13727017  0.47983612]\n",
      "<Compressed Sparse Column sparse matrix of dtype 'float64'\n",
      "\twith 4 stored elements and shape (2, 2)>\n",
      "  Coords\tValues\n",
      "  (0, 0)\t-0.3511901986746764\n",
      "  (1, 0)\t-0.18128880821149593\n",
      "  (0, 1)\t-0.18128880821149593\n",
      "  (1, 1)\t-0.3511901986746764\n",
      "[-1.13727017  0.47983612]\n",
      "Ground_state_Energy :  [-1.13727017  0.47983612]\n",
      "1st_Excited_Energy :  [-0.16990139 -0.53247901]\n"
     ]
    }
   ],
   "source": [
    "sub_mat_idx_g = list(ccs[0])\n",
    "H_sub_g = H[sub_mat_idx_g, :][:, sub_mat_idx_g]\n",
    "print(H_sub_g)\n",
    "H_test_g = H_sub_g.toarray()\n",
    "e_g = np.linalg.eigvals(H_test_g)   # 고유값만 반환\n",
    "print(e_g)                   # array([...])\n",
    "\n",
    "sub_mat_idx_e = list(ccs[1])\n",
    "H_sub_e = H[sub_mat_idx_e, :][:, sub_mat_idx_e]\n",
    "print(H_sub_e)\n",
    "H_test_e = H_sub_e.toarray()\n",
    "e_e = np.linalg.eigvals(H_test_e)   # 고유값만 반환\n",
    "print(e_g)      \n",
    "\n",
    "print(\"Ground_state_Energy : \", e_g)\n",
    "print(\"1st_Excited_Energy : \", e_e)"
   ]
  },
  {
   "cell_type": "code",
   "execution_count": null,
   "id": "d32c56f1",
   "metadata": {},
   "outputs": [],
   "source": []
  }
 ],
 "metadata": {
  "kernelspec": {
   "display_name": "hivqe",
   "language": "python",
   "name": "python3"
  },
  "language_info": {
   "codemirror_mode": {
    "name": "ipython",
    "version": 3
   },
   "file_extension": ".py",
   "mimetype": "text/x-python",
   "name": "python",
   "nbconvert_exporter": "python",
   "pygments_lexer": "ipython3",
   "version": "3.11.13"
  }
 },
 "nbformat": 4,
 "nbformat_minor": 5
}
