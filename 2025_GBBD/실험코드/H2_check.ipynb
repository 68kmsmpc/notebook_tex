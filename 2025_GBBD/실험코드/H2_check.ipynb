{
 "cells": [
  {
   "cell_type": "code",
   "execution_count": 14,
   "id": "aa181e7d",
   "metadata": {},
   "outputs": [],
   "source": [
    "import numpy as np\n",
    "import matplotlib.pyplot as plt\n",
    "import networkx as nx\n",
    "from scipy.sparse import issparse, coo_matrix, csr_matrix, csc_matrix\n",
    "from scipy.sparse.linalg import eigsh\n",
    "from openfermionpyscf import run_pyscf\n",
    "from openfermion import MolecularData, get_fermion_operator\n",
    "from openfermion.linalg import get_sparse_operator,  get_number_preserving_sparse_operator\n"
   ]
  },
  {
   "cell_type": "code",
   "execution_count": 15,
   "id": "2efa562b",
   "metadata": {},
   "outputs": [],
   "source": [
    "def indices_with_N_and_Sz0(n_orbital, n_elec):\n",
    "    \"\"\"전자수=N 이면서 S_z=0 (interleaved: 짝수=alpha, 홀수=beta)\"\"\"\n",
    "    idx = []\n",
    "    for s in range(1 << n_orbital):\n",
    "        if s.bit_count() != n_elec:\n",
    "            continue\n",
    "        n_alpha = sum((s >> i) & 1 for i in range(0, n_orbital, 2))  # 0,2,4,...\n",
    "        n_beta  = sum((s >> i) & 1 for i in range(1, n_orbital, 2))  # 1,3,5,...\n",
    "        if n_alpha == n_beta:\n",
    "            idx.append(s)\n",
    "    return np.array(idx, dtype=int)\n",
    "\n",
    "def sparse_to_graph(A, *,\n",
    "                    directed=False,\n",
    "                    weight=\"value\",   # \"value\" | \"abs\" | \"binary\"\n",
    "                    symmetrize=True,  # 무향 그래프용: 패턴을 A + A.T로 합칠지\n",
    "                    tol=0.0,          # |a_ij|<=tol 은 0 취급\n",
    "                    keep_diagonal=False):\n",
    "    \"\"\"\n",
    "    희소행렬 A -> NetworkX Graph/DiGraph 변환\n",
    "\n",
    "    Parameters\n",
    "    ----------\n",
    "    A : scipy.sparse matrix (정방 추천)\n",
    "    directed : bool\n",
    "        True면 DiGraph, False면 Graph\n",
    "    weight : {\"value\",\"abs\",\"binary\"}\n",
    "        엣지 weight 설정 방법\n",
    "        - \"value\": a_ij (실수/복소 가능; 복소는 실수부 사용 권장)\n",
    "        - \"abs\"  : |a_ij|\n",
    "        - \"binary\": 1 (연결만 표현)\n",
    "    symmetrize : bool\n",
    "        무향 그래프에서 A의 패턴을 A + A^T로 결합 (권장)\n",
    "        directed=True 인 경우엔 무시됨\n",
    "    tol : float\n",
    "        임계값 이하 절댓값은 0으로 무시\n",
    "    keep_diagonal : bool\n",
    "        True면 i==j 항도 self-loop로 추가\n",
    "\n",
    "    Returns\n",
    "    -------\n",
    "    G : nx.Graph or nx.DiGraph\n",
    "    \"\"\"\n",
    "    if not issparse(A):\n",
    "        raise ValueError(\"A must be a scipy.sparse matrix\")\n",
    "    # COO로 변환\n",
    "    A = A.tocoo(copy=True)\n",
    "\n",
    "    # tol 필터링\n",
    "    if tol > 0:\n",
    "        mask = np.abs(A.data) > tol\n",
    "        A = coo_matrix((A.data[mask], (A.row[mask], A.col[mask])), shape=A.shape)\n",
    "\n",
    "    # 대각 요소 처리\n",
    "    if not keep_diagonal:\n",
    "        mask = A.row != A.col\n",
    "        A = coo_matrix((A.data[mask], (A.row[mask], A.col[mask])), shape=A.shape)\n",
    "\n",
    "    # 무향이면 패턴 대칭화(권장): A <- A + A.T (중복은 합쳐짐)\n",
    "    if not directed and symmetrize:\n",
    "        AT = coo_matrix((A.data, (A.col, A.row)), shape=A.shape)\n",
    "        A = (A + AT).tocoo()\n",
    "\n",
    "    # 그래프 타입 선택\n",
    "    G = nx.DiGraph() if directed else nx.Graph()\n",
    "    G.add_nodes_from(range(A.shape[0]))  # 노드: 0..n-1\n",
    "\n",
    "    # weight 설정\n",
    "    if weight == \"binary\":\n",
    "        # 동일 (i,j) 중복 합치기 위해 집계\n",
    "        from collections import defaultdict\n",
    "        edges = defaultdict(float)\n",
    "        for i, j, v in zip(A.row, A.col, A.data):\n",
    "            if not directed and i == j and not keep_diagonal:\n",
    "                continue\n",
    "            key = (i, j) if directed else (min(i, j), max(i, j))\n",
    "            edges[key] = 1.0  # 존재만 표시\n",
    "        for (i, j), w in edges.items():\n",
    "            G.add_edge(i, j, weight=w)\n",
    "\n",
    "    else:\n",
    "        # \"value\" 또는 \"abs\"\n",
    "        if weight == \"abs\":\n",
    "            vals = np.abs(A.data)\n",
    "        elif weight == \"value\":\n",
    "            # 복소인 경우 실수부만 쓰고 싶다면 .real 사용\n",
    "            # 필요에 따라 변경 가능: vals = np.real(A.data)\n",
    "            vals = A.data\n",
    "        else:\n",
    "            raise ValueError(\"weight must be 'value', 'abs', or 'binary'\")\n",
    "\n",
    "        # 동일 엣지 중복 합치기(무향일 때 i<j 묶기)\n",
    "        from collections import defaultdict\n",
    "        edges = defaultdict(float)\n",
    "        for i, j, v in zip(A.row, A.col, vals):\n",
    "            if not directed and i == j and not keep_diagonal:\n",
    "                continue\n",
    "            key = (i, j) if directed else (min(i, j), max(i, j))\n",
    "            edges[key] += float(v)  # 누적(합). 필요시 max/mean 등으로 변경 가능.\n",
    "\n",
    "        for (i, j), w in edges.items():\n",
    "            G.add_edge(i, j, weight=w)\n",
    "\n",
    "    return G"
   ]
  },
  {
   "cell_type": "code",
   "execution_count": 16,
   "id": "2f2605c0",
   "metadata": {},
   "outputs": [],
   "source": [
    "def sparse_to_graph(A, *,\n",
    "                    directed=False,\n",
    "                    weight=\"value\",   # \"value\" | \"abs\" | \"binary\"\n",
    "                    symmetrize=True,  # 무향 그래프용: 패턴을 A + A.T로 합칠지\n",
    "                    tol=0.0,          # |a_ij|<=tol 은 0 취급\n",
    "                    keep_diagonal=False):\n",
    "    \"\"\"\n",
    "    희소행렬 A -> NetworkX Graph/DiGraph 변환\n",
    "\n",
    "    Parameters\n",
    "    ----------\n",
    "    A : scipy.sparse matrix (정방 추천)\n",
    "    directed : bool\n",
    "        True면 DiGraph, False면 Graph\n",
    "    weight : {\"value\",\"abs\",\"binary\"}\n",
    "        엣지 weight 설정 방법\n",
    "        - \"value\": a_ij (실수/복소 가능; 복소는 실수부 사용 권장)\n",
    "        - \"abs\"  : |a_ij|\n",
    "        - \"binary\": 1 (연결만 표현)\n",
    "    symmetrize : bool\n",
    "        무향 그래프에서 A의 패턴을 A + A^T로 결합 (권장)\n",
    "        directed=True 인 경우엔 무시됨\n",
    "    tol : float\n",
    "        임계값 이하 절댓값은 0으로 무시\n",
    "    keep_diagonal : bool\n",
    "        True면 i==j 항도 self-loop로 추가\n",
    "\n",
    "    Returns\n",
    "    -------\n",
    "    G : nx.Graph or nx.DiGraph\n",
    "    \"\"\"\n",
    "    if not issparse(A):\n",
    "        raise ValueError(\"A must be a scipy.sparse matrix\")\n",
    "    # COO로 변환\n",
    "    A = A.tocoo(copy=True)\n",
    "\n",
    "    # tol 필터링\n",
    "    if tol > 0:\n",
    "        mask = np.abs(A.data) > tol\n",
    "        A = coo_matrix((A.data[mask], (A.row[mask], A.col[mask])), shape=A.shape)\n",
    "\n",
    "    # 대각 요소 처리\n",
    "    if not keep_diagonal:\n",
    "        mask = A.row != A.col\n",
    "        A = coo_matrix((A.data[mask], (A.row[mask], A.col[mask])), shape=A.shape)\n",
    "\n",
    "    # 무향이면 패턴 대칭화(권장): A <- A + A.T (중복은 합쳐짐)\n",
    "    if not directed and symmetrize:\n",
    "        AT = coo_matrix((A.data, (A.col, A.row)), shape=A.shape)\n",
    "        A = (A + AT).tocoo()\n",
    "\n",
    "    # 그래프 타입 선택\n",
    "    G = nx.DiGraph() if directed else nx.Graph()\n",
    "    G.add_nodes_from(range(A.shape[0]))  # 노드: 0..n-1\n",
    "\n",
    "    # weight 설정\n",
    "    if weight == \"binary\":\n",
    "        # 동일 (i,j) 중복 합치기 위해 집계\n",
    "        from collections import defaultdict\n",
    "        edges = defaultdict(float)\n",
    "        for i, j, v in zip(A.row, A.col, A.data):\n",
    "            if not directed and i == j and not keep_diagonal:\n",
    "                continue\n",
    "            key = (i, j) if directed else (min(i, j), max(i, j))\n",
    "            edges[key] = 1.0  # 존재만 표시\n",
    "        for (i, j), w in edges.items():\n",
    "            G.add_edge(i, j, weight=w)\n",
    "\n",
    "    else:\n",
    "        # \"value\" 또는 \"abs\"\n",
    "        if weight == \"abs\":\n",
    "            vals = np.abs(A.data)\n",
    "        elif weight == \"value\":\n",
    "            # 복소인 경우 실수부만 쓰고 싶다면 .real 사용\n",
    "            # 필요에 따라 변경 가능: vals = np.real(A.data)\n",
    "            vals = A.data\n",
    "        else:\n",
    "            raise ValueError(\"weight must be 'value', 'abs', or 'binary'\")\n",
    "\n",
    "        # 동일 엣지 중복 합치기(무향일 때 i<j 묶기)\n",
    "        from collections import defaultdict\n",
    "        edges = defaultdict(float)\n",
    "        for i, j, v in zip(A.row, A.col, vals):\n",
    "            if not directed and i == j and not keep_diagonal:\n",
    "                continue\n",
    "            key = (i, j) if directed else (min(i, j), max(i, j))\n",
    "            edges[key] += float(v)  # 누적(합). 필요시 max/mean 등으로 변경 가능.\n",
    "\n",
    "        for (i, j), w in edges.items():\n",
    "            G.add_edge(i, j, weight=w)\n",
    "\n",
    "    return G\n",
    "\n",
    "import numpy as np\n",
    "import matplotlib.pyplot as plt\n",
    "\n",
    "def plot_points_and_line(a, b, y_line, title=\"compare Full Diag. and GBBD\"):\n",
    "    a = np.asarray(a).ravel()\n",
    "    b = np.asarray(b).ravel()\n",
    "    y_line = np.asarray(y_line).ravel()\n",
    "    L = a.size + b.size\n",
    "\n",
    "    # 검증\n",
    "    if y_line.size != L:\n",
    "        raise ValueError(f\"y_line 길이({y_line.size})가 a+b({L})와 다릅니다.\")\n",
    "\n",
    "    # a,b 합치고 라벨 (a=0, b=1)\n",
    "    vals = np.concatenate([a, b])\n",
    "    labels = np.concatenate([np.zeros_like(a, dtype=int),\n",
    "                             np.ones_like(b, dtype=int)])\n",
    "\n",
    "    # 오름차순 정렬 (안정 정렬로 tie 처리)\n",
    "    idx = np.argsort(vals, kind='mergesort')\n",
    "    y_pts = vals[idx]\n",
    "    lab_sorted = labels[idx]\n",
    "\n",
    "    # x축: 1..L\n",
    "    x = np.arange(1, L + 1)\n",
    "\n",
    "    plt.figure(figsize=(8, 4.8))\n",
    "\n",
    "    # 1) 길이 L 데이터로 선(검은색)\n",
    "    plt.plot(x, y_line, '-k', ls='--', label='Full matrix Digonaliztion')\n",
    "\n",
    "    # 2) 점: a=빨강, b=파랑 (정렬된 순서대로 배치)\n",
    "    a_mask = (lab_sorted == 0)\n",
    "    b_mask = ~a_mask\n",
    "    plt.scatter(x[a_mask], y_pts[a_mask], c='red', s=40, label='Biggest block')\n",
    "    plt.scatter(x[b_mask], y_pts[b_mask], c='blue', s=40, label='Second Biggest block')\n",
    "\n",
    "    plt.ylabel(\"Eigen Value\")\n",
    "    plt.title(title)\n",
    "    plt.grid(True, alpha=0.25)\n",
    "    plt.legend()\n",
    "    plt.tight_layout()\n",
    "    plt.show()"
   ]
  },
  {
   "cell_type": "markdown",
   "id": "a1587969",
   "metadata": {},
   "source": [
    "### 행렬만들기"
   ]
  },
  {
   "cell_type": "code",
   "execution_count": 17,
   "id": "91aa9004",
   "metadata": {},
   "outputs": [
    {
     "name": "stdout",
     "output_type": "stream",
     "text": [
      "<Compressed Sparse Column sparse matrix of dtype 'float64'\n",
      "\twith 8 stored elements and shape (4, 4)>\n",
      "  Coords\tValues\n",
      "  (0, 0)\t-1.1166843870853407\n",
      "  (3, 0)\t0.18128880821149593\n",
      "  (1, 1)\t-0.3511901986746764\n",
      "  (2, 1)\t-0.18128880821149593\n",
      "  (1, 2)\t-0.18128880821149593\n",
      "  (2, 2)\t-0.3511901986746764\n",
      "  (0, 3)\t0.18128880821149593\n",
      "  (3, 3)\t0.4592503306687161\n"
     ]
    }
   ],
   "source": [
    "dist = 1.322\n",
    "geometry = [('H', (0., 0., 0.)),\n",
    "            ('H', (0., 0., 0.7414 ))]\n",
    "# geometry = [(\"Co\", Co),\n",
    "#             (\"O\", O_1),\n",
    "#             (\"O\", O_2),\n",
    "#             (\"Li\", Li)]  # Angstrom\n",
    "\n",
    "basis = 'sto-3g'\n",
    "mol = MolecularData(geometry, basis, multiplicity=1, charge=0)\n",
    "mol = run_pyscf(mol, run_scf=1, run_fci=0)\n",
    "# 3. 2차 정량화 Hamiltonian 얻기\n",
    "ham_int = mol.get_molecular_hamiltonian()\n",
    "ham_fci = get_fermion_operator(ham_int)     \n",
    "#H = get_sparse_operator(ham_fci, n_qubits=mol.n_qubits)\n",
    "H = get_number_preserving_sparse_operator(\n",
    "fermion_op=ham_fci,\n",
    "num_qubits=mol.n_qubits,\n",
    "num_electrons=mol.n_electrons,       # 필수\n",
    "spin_preserving=True ,        # S_z 고정 (필요 없으면 None)\n",
    "reference_determinant=None,\n",
    "excitation_level=None)\n",
    "print(H)\n",
    "H_real = H.real"
   ]
  },
  {
   "cell_type": "code",
   "execution_count": 18,
   "id": "bc3c6a03",
   "metadata": {},
   "outputs": [
    {
     "name": "stdout",
     "output_type": "stream",
     "text": [
      "<Compressed Sparse Column sparse matrix of dtype 'float64'\n",
      "\twith 8 stored elements and shape (4, 4)>\n",
      "  Coords\tValues\n",
      "  (0, 0)\t-1.1166843870853407\n",
      "  (3, 0)\t0.18128880821149593\n",
      "  (1, 1)\t-0.3511901986746764\n",
      "  (2, 1)\t-0.18128880821149593\n",
      "  (1, 2)\t-0.18128880821149593\n",
      "  (2, 2)\t-0.3511901986746764\n",
      "  (0, 3)\t0.18128880821149593\n",
      "  (3, 3)\t0.4592503306687161\n"
     ]
    }
   ],
   "source": [
    "print(H_real)"
   ]
  },
  {
   "cell_type": "code",
   "execution_count": 19,
   "id": "f630bc08",
   "metadata": {},
   "outputs": [
    {
     "name": "stdout",
     "output_type": "stream",
     "text": [
      "[-1.13727017 -0.53247901 -0.16990139  0.47983612]\n"
     ]
    }
   ],
   "source": [
    "H_test = H_real.toarray()\n",
    "w = np.linalg.eigvals(H_test)   # 고유값만 반환\n",
    "print(np.sort(w))                   # array([...])"
   ]
  },
  {
   "cell_type": "markdown",
   "id": "d470cd26",
   "metadata": {},
   "source": [
    "### 행렬 히트맵 확인용"
   ]
  },
  {
   "cell_type": "code",
   "execution_count": 20,
   "id": "d17f590e",
   "metadata": {},
   "outputs": [
    {
     "data": {
      "image/png": "[encoded data removed]",
      "text/plain": [
       "<Figure size 600x500 with 2 Axes>"
      ]
     },
     "metadata": {},
     "output_type": "display_data"
    }
   ],
   "source": [
    "H_dense = H_real.toarray()\n",
    "# 2) 히트맵 그리기\n",
    "plt.figure(figsize=(6,5))\n",
    "\n",
    "# 값 크기에 맞게 대칭적인 색범위 설정\n",
    "vmax = np.abs(H_dense).max()\n",
    "\n",
    "im = plt.imshow(H_dense, cmap='seismic', vmin=-vmax, vmax=vmax)\n",
    "plt.colorbar(im, label=\"Value\")\n",
    "\n",
    "plt.title(\"Heatmap of H (red=positive, blue=negative)\")\n",
    "plt.xlabel(\"Column index\")\n",
    "plt.ylabel(\"Row index\")\n",
    "plt.show()"
   ]
  },
  {
   "cell_type": "markdown",
   "id": "73df012a",
   "metadata": {},
   "source": [
    "### 그래프 표현(무향)"
   ]
  },
  {
   "cell_type": "code",
   "execution_count": 21,
   "id": "674f5427",
   "metadata": {},
   "outputs": [
    {
     "data": {
      "image/png": "[encoded data removed]",
      "text/plain": [
       "<Figure size 400x300 with 1 Axes>"
      ]
     },
     "metadata": {},
     "output_type": "display_data"
    }
   ],
   "source": [
    "G = sparse_to_graph(H_real, directed=False, weight=\"abs\", symmetrize=True, tol=0.0)\n",
    "ccs = list(nx.connected_components(G))\n",
    "\n",
    "subgraphs = [G.subgraph(S).copy() for S in ccs]\n",
    "\n",
    "pos = nx.spring_layout(G, seed=0)\n",
    "edge_w = [d[\"weight\"] for *_, d in G.edges(data=True)]\n",
    "\n",
    "plt.figure(figsize=(4,3))\n",
    "nx.draw(G, pos, with_labels=True, node_size=500, width=edge_w)  # weight를 두께로\n",
    "plt.title(\"Graph from sparse matrix (undirected)\")\n",
    "plt.show()"
   ]
  },
  {
   "cell_type": "markdown",
   "id": "afccf814",
   "metadata": {},
   "source": [
    "### 에너지 계산"
   ]
  },
  {
   "cell_type": "code",
   "execution_count": 22,
   "id": "254fb06f",
   "metadata": {},
   "outputs": [
    {
     "name": "stdout",
     "output_type": "stream",
     "text": [
      "<Compressed Sparse Column sparse matrix of dtype 'float64'\n",
      "\twith 4 stored elements and shape (2, 2)>\n",
      "  Coords\tValues\n",
      "  (0, 0)\t-1.1166843870853407\n",
      "  (1, 0)\t0.18128880821149593\n",
      "  (0, 1)\t0.18128880821149593\n",
      "  (1, 1)\t0.4592503306687161\n",
      "[-1.13727017  0.47983612]\n",
      "<Compressed Sparse Column sparse matrix of dtype 'float64'\n",
      "\twith 4 stored elements and shape (2, 2)>\n",
      "  Coords\tValues\n",
      "  (0, 0)\t-0.3511901986746764\n",
      "  (1, 0)\t-0.18128880821149593\n",
      "  (0, 1)\t-0.18128880821149593\n",
      "  (1, 1)\t-0.3511901986746764\n",
      "[-1.13727017  0.47983612]\n",
      "Ground_state_Energy :  [-1.13727017  0.47983612]\n",
      "1st_Excited_Energy :  [-0.16990139 -0.53247901]\n"
     ]
    }
   ],
   "source": [
    "sub_mat_idx_g = list(ccs[0])\n",
    "H_sub_g = H[sub_mat_idx_g, :][:, sub_mat_idx_g]\n",
    "print(H_sub_g)\n",
    "H_test_g = H_sub_g.toarray()\n",
    "e_g = np.linalg.eigvals(H_test_g)   # 고유값만 반환\n",
    "print(e_g)                   # array([...])\n",
    "\n",
    "sub_mat_idx_e = list(ccs[1])\n",
    "H_sub_e = H[sub_mat_idx_e, :][:, sub_mat_idx_e]\n",
    "print(H_sub_e)\n",
    "H_test_e = H_sub_e.toarray()\n",
    "e_e = np.linalg.eigvals(H_test_e)   # 고유값만 반환\n",
    "print(e_g)      \n",
    "\n",
    "print(\"Ground_state_Energy : \", e_g)\n",
    "print(\"1st_Excited_Energy : \", e_e)"
   ]
  },
  {
   "cell_type": "code",
   "execution_count": 23,
   "id": "f5806e23",
   "metadata": {},
   "outputs": [
    {
     "name": "stderr",
     "output_type": "stream",
     "text": [
      "/var/folders/mq/vvzpq4_16092g__xg10fscp80000gn/T/ipykernel_12234/3738821342.py:123: UserWarning: linestyle is redundantly defined by the 'linestyle' keyword argument and the fmt string \"-k\" (-> linestyle='-'). The keyword argument will take precedence.\n",
      "  plt.plot(x, y_line, '-k', ls='--', label='Full matrix Digonaliztion')\n"
     ]
    },
    {
     "data": {
      "image/png": "[encoded data removed]",
      "text/plain": [
       "<Figure size 800x480 with 1 Axes>"
      ]
     },
     "metadata": {},
     "output_type": "display_data"
    }
   ],
   "source": [
    "a = e_g   # 길이 a\n",
    "b = e_e  # 길이 b\n",
    "y_line = np.sort(w)\n",
    "plot_points_and_line(a, b, y_line)"
   ]
  },
  {
   "cell_type": "code",
   "execution_count": null,
   "id": "d32c56f1",
   "metadata": {},
   "outputs": [],
   "source": []
  }
 ],
 "metadata": {
  "kernelspec": {
   "display_name": "hivqe",
   "language": "python",
   "name": "python3"
  },
  "language_info": {
   "codemirror_mode": {
    "name": "ipython",
    "version": 3
   },
   "file_extension": ".py",
   "mimetype": "text/x-python",
   "name": "python",
   "nbconvert_exporter": "python",
   "pygments_lexer": "ipython3",
   "version": "3.11.13"
  }
 },
 "nbformat": 4,
 "nbformat_minor": 5
}
