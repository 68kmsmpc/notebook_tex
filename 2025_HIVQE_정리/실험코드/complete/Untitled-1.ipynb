{
 "cells": [
  {
   "cell_type": "code",
   "execution_count": 2,
   "id": "011dee99",
   "metadata": {},
   "outputs": [
    {
     "name": "stdout",
     "output_type": "stream",
     "text": [
      "converged SCF energy = -1.11675930739643\n"
     ]
    },
    {
     "ename": "AttributeError",
     "evalue": "'FCISolver' object has no attribute 'dim'",
     "output_type": "error",
     "traceback": [
      "\u001b[31m---------------------------------------------------------------------------\u001b[39m",
      "\u001b[31mAttributeError\u001b[39m                            Traceback (most recent call last)",
      "\u001b[36mCell\u001b[39m\u001b[36m \u001b[39m\u001b[32mIn[2]\u001b[39m\u001b[32m, line 17\u001b[39m\n\u001b[32m     14\u001b[39m cisolver = fci.direct_spin1.FCISolver(mol)\n\u001b[32m     16\u001b[39m \u001b[38;5;66;03m# 2. 전체 determinant 개수\u001b[39;00m\n\u001b[32m---> \u001b[39m\u001b[32m17\u001b[39m ndet = \u001b[43mcisolver\u001b[49m\u001b[43m.\u001b[49m\u001b[43mdim\u001b[49m(norb, nelec)\n\u001b[32m     19\u001b[39m \u001b[38;5;66;03m# 3. 전체 Hamiltonian matrix 생성\u001b[39;00m\n\u001b[32m     20\u001b[39m H_matrix = np.zeros((ndet, ndet))\n",
      "\u001b[31mAttributeError\u001b[39m: 'FCISolver' object has no attribute 'dim'"
     ]
    }
   ],
   "source": [
    "from pyscf import gto, scf,ao2mo, fci, mcscf\n",
    "import numpy as np\n",
    "\n",
    "mol = gto.Mole()\n",
    "mol.atom = 'H 0 0 0; H 0 0 0.74'\n",
    "mol.basis = 'sto-3g'\n",
    "mol.build()\n",
    "mf = scf.RHF(mol).run()\n",
    "norb = mf.mo_coeff.shape[1]\n",
    "nelec = mol.nelec\n",
    "h1 = mf.mo_coeff.T @ mf.get_hcore() @ mf.mo_coeff\n",
    "eri = ao2mo.kernel(mol, mf.mo_coeff)\n",
    "\n",
    "cisolver = fci.direct_spin1.FCISolver(mol)\n",
    "\n",
    "# 2. 전체 determinant 개수\n",
    "ndet = cisolver.dim(norb, nelec)\n",
    "\n",
    "# 3. 전체 Hamiltonian matrix 생성\n",
    "H_matrix = np.zeros((ndet, ndet))\n",
    "\n",
    "# 4. unit vector 만들기\n",
    "unit_vec = np.eye(ndet)\n",
    "\n",
    "# 5. 각 basis에 대해 H|Phi_J> 계산 → 내적해서 ⟨Phi_I|H|Phi_J⟩ 얻기\n",
    "for j in range(ndet):\n",
    "    H_col = cisolver.contract_2e(eri, unit_vec[j], norb, nelec) + \\\n",
    "            cisolver.contract_1e(h1, unit_vec[j], norb, nelec)\n",
    "    H_matrix[:, j] = H_col\n",
    "\n",
    "# 6. 결과 출력 (Slater determinant basis의 full Hamiltonian)\n",
    "print(\"Hamiltonian matrix (Slater determinant basis):\")\n",
    "print(H_matrix)\n"
   ]
  },
  {
   "cell_type": "code",
   "execution_count": 9,
   "id": "f22a8bca",
   "metadata": {},
   "outputs": [
    {
     "name": "stdout",
     "output_type": "stream",
     "text": [
      "[1 2]\n",
      "[1 2]\n"
     ]
    }
   ],
   "source": [
    "strings_a = cistring.make_strings(range(norb), nelec[0])\n",
    "strings_b = cistring.make_strings(range(norb), nelec[1])\n",
    "\n",
    "print(strings_a)\n",
    "print(strings_b)"
   ]
  },
  {
   "cell_type": "code",
   "execution_count": 11,
   "id": "b39c4a16",
   "metadata": {},
   "outputs": [
    {
     "name": "stdout",
     "output_type": "stream",
     "text": [
      "converged SCF energy = -1.11675930739643\n",
      "2\n",
      "2\n"
     ]
    }
   ],
   "source": [
    "import numpy as np\n",
    "from pyscf import gto, scf, ao2mo, fci\n",
    "from pyscf.fci import cistring\n",
    "\n",
    "# 1. H2 Molecule\n",
    "mol = gto.Mole()\n",
    "mol.atom = 'H 0 0 0; H 0 0 0.74'\n",
    "mol.basis = 'sto-3g'\n",
    "mol.build()\n",
    "\n",
    "# 2. SCF\n",
    "mf = scf.RHF(mol).run()\n",
    "mo = mf.mo_coeff\n",
    "norb = mo.shape[1]\n",
    "# 3. Get integrals\n",
    "h1 = mo.T @ mf.get_hcore() @ mo\n",
    "eri = ao2mo.kernel(mol, mo, compact=False).reshape(norb, norb, norb, norb)\n",
    "\n",
    "# 4. FCI solver\n",
    "solver = fci.direct_spin1.FCISolver(mol)\n",
    "\n",
    "# 5. 전체 determinant 개수\n",
    "na = len(cistring.make_strings(range(norb), nelec[0]))\n",
    "nb = len(cistring.make_strings(range(norb), nelec[1]))\n",
    "ndet = na * nb\n",
    "\n",
    "\n",
    "print(na)\n",
    "print(nb)"
   ]
  },
  {
   "cell_type": "code",
   "execution_count": null,
   "id": "43b3f20d",
   "metadata": {},
   "outputs": [],
   "source": [
    "from pyscf.fci import cistring\n",
    "\n",
    "\n",
    "\n",
    "\n",
    "def occ_bitstr_to_index(bitstr_alpha, bitstr_beta, norb):\n",
    "    \n",
    "    \n",
    "    \"\"\"\n",
    "    PySCF determinant index를 계산하는 함수.\n",
    "    \n",
    "    Parameters:\n",
    "        bitstr_alpha (str): alpha spin orbitals의 occupation (예: '1010')\n",
    "        bitstr_beta  (str): beta  spin orbitals의 occupation (예: '1100')\n",
    "        norb (int): 총 spin orbital 개수\n",
    "    \n",
    "    Returns:\n",
    "        int: PySCF determinant index (global index in FCI vector)\n",
    "    \"\"\"\n",
    "    neleca = bitstr_alpha.count(\"1\")\n",
    "    nelecb = bitstr_beta.count(\"1\")\n",
    "\n",
    "    strings_a = list(cistring.make_strings(range(norb), neleca))\n",
    "    strings_b = list(cistring.make_strings(range(norb), nelecb))\n",
    "\n",
    "    int_a = int(bitstr_alpha, 2)\n",
    "    int_b = int(bitstr_beta, 2)\n",
    "\n",
    "    try:\n",
    "        idx_a = strings_a.index(int_a)\n",
    "        idx_b = strings_b.index(int_b)\n",
    "    except ValueError:\n",
    "        raise ValueError(\"Bitstring is not a valid determinant in given (norb, nelec) space.\")\n",
    "\n",
    "    return idx_a * len(strings_b) + idx_b"
   ]
  },
  {
   "cell_type": "code",
   "execution_count": 34,
   "id": "9539bd2c",
   "metadata": {},
   "outputs": [],
   "source": [
    "from pyscf.fci import cistring\n",
    "def occ_bitstr_to_index(bitstr,n):\n",
    "    norb = 2*n\n",
    "    bitstr_alpha = bitstr[:norb//2]  # 앞 절반\n",
    "    bitstr_beta  = bitstr[norb//2:]  # 뒤 절반\n",
    "    \"\"\"\n",
    "    PySCF determinant index를 계산하는 함수.\n",
    "    \n",
    "    Parameters:\n",
    "        bitstr_alpha (str): alpha spin orbitals의 occupation (예: '1010')\n",
    "        bitstr_beta  (str): beta  spin orbitals의 occupation (예: '1100')\n",
    "        norb (int): 총 spin orbital 개수\n",
    "    \n",
    "    Returns:\n",
    "        int: PySCF determinant index (global index in FCI vector)\n",
    "    \"\"\"\n",
    "    neleca = bitstr_alpha.count(\"1\")\n",
    "    nelecb = bitstr_beta.count(\"1\")\n",
    "\n",
    "    strings_a = list(cistring.make_strings(range(norb), neleca))\n",
    "    strings_b = list(cistring.make_strings(range(norb), nelecb))\n",
    "\n",
    "    int_a = int(bitstr_alpha, 2)\n",
    "    int_b = int(bitstr_beta, 2)\n",
    "\n",
    "    try:\n",
    "        idx_a = strings_a.index(int_a)\n",
    "        idx_b = strings_b.index(int_b)\n",
    "    except ValueError:\n",
    "        raise ValueError(\"Bitstring is not a valid determinant in given (norb, nelec) space.\")\n",
    "\n",
    "    return idx_a * len(strings_b) + idx_b"
   ]
  },
  {
   "cell_type": "code",
   "execution_count": 40,
   "id": "81ace765",
   "metadata": {},
   "outputs": [
    {
     "name": "stdout",
     "output_type": "stream",
     "text": [
      "[0, 1, 4, 5]\n"
     ]
    }
   ],
   "source": [
    "bit_list = [\"0101\", \"0110\", \"1001\", \"1010\"]\n",
    "idx_list = []\n",
    "for i in bit_list:\n",
    "    idx = occ_bitstr_to_index(i, 2)\n",
    "    idx_list.append(idx)\n",
    "\n",
    "print(idx_list)"
   ]
  },
  {
   "cell_type": "code",
   "execution_count": 42,
   "id": "699e4c51",
   "metadata": {},
   "outputs": [
    {
     "name": "stdout",
     "output_type": "stream",
     "text": [
      "converged SCF energy = -1.11675930739643\n",
      "4\n",
      "[5.54825058e-01 3.85458074e-17 3.85458074e-17 3.62420924e-01]\n"
     ]
    },
    {
     "ename": "IndexError",
     "evalue": "index 4 is out of bounds for axis 0 with size 4",
     "output_type": "error",
     "traceback": [
      "\u001b[31m---------------------------------------------------------------------------\u001b[39m",
      "\u001b[31mIndexError\u001b[39m                                Traceback (most recent call last)",
      "\u001b[36mCell\u001b[39m\u001b[36m \u001b[39m\u001b[32mIn[42]\u001b[39m\u001b[32m, line 56\u001b[39m\n\u001b[32m     54\u001b[39m     \u001b[38;5;28mprint\u001b[39m(Hj)\n\u001b[32m     55\u001b[39m     \u001b[38;5;28;01mfor\u001b[39;00m i_idx, i \u001b[38;5;129;01min\u001b[39;00m \u001b[38;5;28menumerate\u001b[39m(selected_dets):\n\u001b[32m---> \u001b[39m\u001b[32m56\u001b[39m         H_sub[i_idx, j_idx] = \u001b[43mHj\u001b[49m\u001b[43m[\u001b[49m\u001b[43mi\u001b[49m\u001b[43m]\u001b[49m\n\u001b[32m     58\u001b[39m \u001b[38;5;66;03m# 9. 결과 출력\u001b[39;00m\n\u001b[32m     59\u001b[39m \u001b[38;5;28mprint\u001b[39m(\u001b[33m\"\u001b[39m\u001b[33mProjected Hamiltonian in selected determinant subspace:\u001b[39m\u001b[33m\"\u001b[39m)\n",
      "\u001b[31mIndexError\u001b[39m: index 4 is out of bounds for axis 0 with size 4"
     ]
    }
   ],
   "source": [
    "import numpy as np\n",
    "from pyscf import gto, scf, ao2mo, fci\n",
    "from pyscf.fci import cistring\n",
    "\n",
    "import numpy as np\n",
    "from math import comb\n",
    "\n",
    "\n",
    "# 1. H2 Molecule\n",
    "mol = gto.Mole()\n",
    "mol.atom = 'H 0 0 0; H 0 0 0.74'\n",
    "mol.basis = 'sto-3g'\n",
    "mol.build()\n",
    "\n",
    "# 2. SCF\n",
    "mf = scf.RHF(mol).run()\n",
    "mo = mf.mo_coeff\n",
    "norb = mo.shape[1]\n",
    "nelec = mol.nelec  # (1,1) for H2\n",
    "\n",
    "# 3. Get integrals\n",
    "h1 = mo.T @ mf.get_hcore() @ mo\n",
    "eri = ao2mo.kernel(mol, mo, compact=False).reshape(norb, norb, norb, norb)\n",
    "\n",
    "# 4. FCI solver\n",
    "solver = fci.direct_spin1.FCISolver(mol)\n",
    "# 5. 전체 determinant 개수\n",
    "na = comb(norb, nelec[0])  # alpha\n",
    "nb = comb(norb, nelec[1])  # beta\n",
    "ndet = na * nb\n",
    "\n",
    "print(ndet)\n",
    "\n",
    "\n",
    "# 6. 단위 벡터 (전체 공간에서)\n",
    "unit_vec = np.eye(ndet)\n",
    "\n",
    "bit_list = [\"0101\", \"0110\", \"1001\", \"1010\"]\n",
    "idx_list = []\n",
    "for i in bit_list:\n",
    "    idx = occ_bitstr_to_index(i, 2)\n",
    "    idx_list.append(idx)\n",
    "# 7. 내가 선택한 determinant index 리스트\n",
    "selected_dets = idx_list   # 예시\n",
    "k = len(selected_dets)\n",
    "\n",
    "# 8. projection된 subspace Hamiltonian 만들기\n",
    "H_sub = np.zeros((k, k))\n",
    "\n",
    "for j_idx, j in enumerate(selected_dets):\n",
    "    print\n",
    "    Hj = solver.contract_1e(h1, unit_vec[j], norb, nelec) + \\\n",
    "         solver.contract_2e(eri, unit_vec[j], norb, nelec)\n",
    "    print(Hj)\n",
    "    for i_idx, i in enumerate(selected_dets):\n",
    "        H_sub[i_idx, j_idx] = Hj[i]\n",
    "\n",
    "# 9. 결과 출력\n",
    "print(\"Projected Hamiltonian in selected determinant subspace:\")\n",
    "print(H_sub)"
   ]
  },
  {
   "cell_type": "code",
   "execution_count": null,
   "id": "bb0c6393",
   "metadata": {},
   "outputs": [],
   "source": []
  }
 ],
 "metadata": {
  "kernelspec": {
   "display_name": "hivqe",
   "language": "python",
   "name": "python3"
  },
  "language_info": {
   "codemirror_mode": {
    "name": "ipython",
    "version": 3
   },
   "file_extension": ".py",
   "mimetype": "text/x-python",
   "name": "python",
   "nbconvert_exporter": "python",
   "pygments_lexer": "ipython3",
   "version": "3.11.13"
  }
 },
 "nbformat": 4,
 "nbformat_minor": 5
}
